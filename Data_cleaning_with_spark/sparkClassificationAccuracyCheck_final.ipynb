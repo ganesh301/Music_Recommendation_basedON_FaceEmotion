{
  "nbformat": 4,
  "nbformat_minor": 0,
  "metadata": {
    "colab": {
      "provenance": []
    },
    "kernelspec": {
      "name": "python3",
      "display_name": "Python 3"
    },
    "language_info": {
      "name": "python"
    }
  },
  "cells": [
    {
      "cell_type": "code",
      "execution_count": 1,
      "metadata": {
        "colab": {
          "base_uri": "https://localhost:8080/"
        },
        "id": "tZwMW3TzGqnw",
        "outputId": "c2e72560-94b7-4c85-9004-1fe3aea9db71"
      },
      "outputs": [
        {
          "output_type": "stream",
          "name": "stdout",
          "text": [
            "Collecting pyspark\n",
            "  Downloading pyspark-3.5.0.tar.gz (316.9 MB)\n",
            "\u001b[2K     \u001b[90m━━━━━━━━━━━━━━━━━━━━━━━━━━━━━━━━━━━━━━━━\u001b[0m \u001b[32m316.9/316.9 MB\u001b[0m \u001b[31m2.1 MB/s\u001b[0m eta \u001b[36m0:00:00\u001b[0m\n",
            "\u001b[?25h  Preparing metadata (setup.py) ... \u001b[?25l\u001b[?25hdone\n",
            "Requirement already satisfied: py4j==0.10.9.7 in /usr/local/lib/python3.10/dist-packages (from pyspark) (0.10.9.7)\n",
            "Building wheels for collected packages: pyspark\n",
            "  Building wheel for pyspark (setup.py) ... \u001b[?25l\u001b[?25hdone\n",
            "  Created wheel for pyspark: filename=pyspark-3.5.0-py2.py3-none-any.whl size=317425345 sha256=6365f89595112a6e70f3189c94993e32c09ce7a5102ca4b71578af70f78dffb0\n",
            "  Stored in directory: /root/.cache/pip/wheels/41/4e/10/c2cf2467f71c678cfc8a6b9ac9241e5e44a01940da8fbb17fc\n",
            "Successfully built pyspark\n",
            "Installing collected packages: pyspark\n",
            "Successfully installed pyspark-3.5.0\n"
          ]
        }
      ],
      "source": [
        "!pip install pyspark"
      ]
    },
    {
      "cell_type": "code",
      "source": [
        "from pyspark.sql import SparkSession\n",
        "from pyspark.ml.feature import VectorAssembler\n",
        "from pyspark.ml.classification import RandomForestClassifier\n",
        "from pyspark.ml.evaluation import MulticlassClassificationEvaluator\n",
        "from pyspark.sql.functions import col, mean\n",
        "from pyspark.ml.feature import StringIndexer\n",
        "from pyspark.ml import Pipeline"
      ],
      "metadata": {
        "id": "2eH1dpt5G3tE"
      },
      "execution_count": 2,
      "outputs": []
    },
    {
      "cell_type": "code",
      "source": [
        "import os\n",
        "from google.colab import drive\n",
        "drive.mount('/content/drive')"
      ],
      "metadata": {
        "colab": {
          "base_uri": "https://localhost:8080/"
        },
        "id": "9t6ah1liHZV9",
        "outputId": "3e80d82b-3452-40cd-c85e-de8792d9526f"
      },
      "execution_count": 3,
      "outputs": [
        {
          "output_type": "stream",
          "name": "stdout",
          "text": [
            "Mounted at /content/drive\n"
          ]
        }
      ]
    },
    {
      "cell_type": "code",
      "source": [
        "\n",
        "# Create a Spark session\n",
        "spark = SparkSession.builder.appName(\"ReadingCsvExample\").getOrCreate()\n",
        "spark = SparkSession.builder.appName(\"SaveModelExample\").getOrCreate()\n",
        "\n",
        "# Load your CSV file into a DataFrame\n",
        "# Replace 'your_file.csv' with the actual file path\n",
        "data= spark.read.csv(\"/content/drive/MyDrive/music_data.csv\",header=True, inferSchema=True)\n"
      ],
      "metadata": {
        "id": "-jGZ6wRPG2NP"
      },
      "execution_count": 4,
      "outputs": []
    },
    {
      "cell_type": "code",
      "source": [
        "# Display the schema and first few rows of the dataset\n",
        "print(\"Dataset Schema:\")\n",
        "data.printSchema()\n",
        "print(\"First few rows of the dataset:\")\n",
        "data.show(5)"
      ],
      "metadata": {
        "colab": {
          "base_uri": "https://localhost:8080/"
        },
        "id": "iFTksoD_HK1D",
        "outputId": "e8ca830d-a4bb-4962-fdf6-032ce8dee01d"
      },
      "execution_count": 5,
      "outputs": [
        {
          "output_type": "stream",
          "name": "stdout",
          "text": [
            "Dataset Schema:\n",
            "root\n",
            " |-- track_name: string (nullable = true)\n",
            " |-- track_uri: string (nullable = true)\n",
            " |-- artist_name: string (nullable = true)\n",
            " |-- acousticness: double (nullable = true)\n",
            " |-- danceability: double (nullable = true)\n",
            " |-- energy: double (nullable = true)\n",
            " |-- instrumentalness: double (nullable = true)\n",
            " |-- liveness: double (nullable = true)\n",
            " |-- loudness: double (nullable = true)\n",
            " |-- speechiness: double (nullable = true)\n",
            " |-- tempo: double (nullable = true)\n",
            " |-- valence: double (nullable = true)\n",
            " |-- Mood: string (nullable = true)\n",
            "\n",
            "First few rows of the dataset:\n",
            "+--------------------+--------------------+-----------+------------+------------+------+----------------+--------+--------+-----------+-------+-------+----+\n",
            "|          track_name|           track_uri|artist_name|acousticness|danceability|energy|instrumentalness|liveness|loudness|speechiness|  tempo|valence|Mood|\n",
            "+--------------------+--------------------+-----------+------------+------------+------+----------------+--------+--------+-----------+-------+-------+----+\n",
            "|slipping through ...|spotify:track:4vB...|  90degrees|       0.396|       0.509|  0.57|             0.0|  0.0986|    -6.7|     0.0284| 80.134|  0.324| Sad|\n",
            "|    Always - Sped Up|spotify:track:2eM...|   Rainsomn|       0.949|       0.756| 0.269|          0.0801|   0.157|  -9.164|     0.0323| 86.409|  0.229| Sad|\n",
            "|Reckless - Slowed...|spotify:track:7Lh...|     Kausak|        0.76|       0.276| 0.357|             0.0|  0.0796|  -9.717|     0.0434|201.512|  0.326| Sad|\n",
            "|slipping through ...|spotify:track:7B5...|   Vallvete|       0.143|       0.541| 0.416|             0.0|  0.0907|  -7.745|     0.0271|116.466|  0.286| Sad|\n",
            "|           Moving On|spotify:track:7uk...| Lola Yulia|       0.978|       0.542|0.0766|         3.41E-4|   0.106| -18.349|     0.0401| 76.732| 0.0797| Sad|\n",
            "+--------------------+--------------------+-----------+------------+------------+------+----------------+--------+--------+-----------+-------+-------+----+\n",
            "only showing top 5 rows\n",
            "\n"
          ]
        }
      ]
    },
    {
      "cell_type": "code",
      "source": [
        "for k in data.columns:\n",
        "    print(k,data.where(col(k).isNull()).count())\n",
        "\n"
      ],
      "metadata": {
        "colab": {
          "base_uri": "https://localhost:8080/"
        },
        "id": "rXAxaG7jHNun",
        "outputId": "40397f07-b064-4b36-99d9-f334d95970b5"
      },
      "execution_count": 6,
      "outputs": [
        {
          "output_type": "stream",
          "name": "stdout",
          "text": [
            "track_name 0\n",
            "track_uri 0\n",
            "artist_name 0\n",
            "acousticness 0\n",
            "danceability 0\n",
            "energy 0\n",
            "instrumentalness 0\n",
            "liveness 0\n",
            "loudness 0\n",
            "speechiness 0\n",
            "tempo 0\n",
            "valence 0\n",
            "Mood 0\n"
          ]
        }
      ]
    },
    {
      "cell_type": "code",
      "source": [
        "selected_features=['danceability','acousticness','energy','instrumentalness','liveness','valence','loudness','speechiness','tempo','mood']\n",
        "\n",
        "\n",
        "music_data =data.select(selected_features)\n",
        "\n"
      ],
      "metadata": {
        "id": "KyFqs7joBr3P"
      },
      "execution_count": 7,
      "outputs": []
    },
    {
      "cell_type": "code",
      "source": [
        "#converting the string data type into double\n",
        "\n",
        "music_data  = music_data.withColumn(\"energy\", col(\"energy\").cast(\"double\"))\n",
        "music_data  = music_data.withColumn(\"danceability\", col(\"danceability\").cast(\"double\"))\n",
        "\n",
        "music_data  = music_data.withColumn(\"instrumentalness\", col(\"instrumentalness\").cast(\"double\"))\n",
        "music_data  = music_data.withColumn(\"liveness\", col(\"liveness\").cast(\"double\"))\n",
        "\n",
        "music_data  = music_data.withColumn(\"loudness\", col(\"loudness\").cast(\"double\"))\n",
        "music_data  = music_data.withColumn(\"speechiness\", col(\"speechiness\").cast(\"double\"))\n",
        "\n",
        "\n",
        "music_data  = music_data.withColumn(\"tempo\", col(\"tempo\").cast(\"double\"))\n"
      ],
      "metadata": {
        "id": "uj8lZ9T9IgUN"
      },
      "execution_count": 8,
      "outputs": []
    },
    {
      "cell_type": "code",
      "source": [
        "\n",
        "\n",
        "categorical_column = \"mood\"\n",
        "string_indexer = StringIndexer(inputCol=categorical_column, outputCol=categorical_column + \"_index\")\n",
        "music_data= string_indexer.fit(music_data).transform(music_data)\n",
        "\n",
        "music_data.show()\n"
      ],
      "metadata": {
        "colab": {
          "base_uri": "https://localhost:8080/"
        },
        "id": "jNpXwW5xIh2U",
        "outputId": "d104137e-9c0b-4315-946a-aa64e2b5e12d"
      },
      "execution_count": 9,
      "outputs": [
        {
          "output_type": "stream",
          "name": "stdout",
          "text": [
            "+------------+------------+------+----------------+--------+-------+--------+-----------+-------+----+----------+\n",
            "|danceability|acousticness|energy|instrumentalness|liveness|valence|loudness|speechiness|  tempo|mood|mood_index|\n",
            "+------------+------------+------+----------------+--------+-------+--------+-----------+-------+----+----------+\n",
            "|       0.509|       0.396|  0.57|             0.0|  0.0986|  0.324|    -6.7|     0.0284| 80.134| Sad|       0.0|\n",
            "|       0.756|       0.949| 0.269|          0.0801|   0.157|  0.229|  -9.164|     0.0323| 86.409| Sad|       0.0|\n",
            "|       0.276|        0.76| 0.357|             0.0|  0.0796|  0.326|  -9.717|     0.0434|201.512| Sad|       0.0|\n",
            "|       0.541|       0.143| 0.416|             0.0|  0.0907|  0.286|  -7.745|     0.0271|116.466| Sad|       0.0|\n",
            "|       0.542|       0.978|0.0766|         3.41E-4|   0.106| 0.0797| -18.349|     0.0401| 76.732| Sad|       0.0|\n",
            "|       0.572|       0.561| 0.582|             0.0|   0.162|  0.288|  -6.748|     0.0358|149.187| Sad|       0.0|\n",
            "|       0.632|       0.375| 0.344|             0.0|   0.168|  0.359| -11.093|     0.0275|114.022| Sad|       0.0|\n",
            "|       0.445|       0.695| 0.537|         1.65E-5|  0.0944|  0.131|  -8.532|       0.04|122.769| Sad|       0.0|\n",
            "|       0.611|       0.661| 0.483|             0.0|   0.112|  0.439|  -6.937|     0.0308| 111.97| Sad|       0.0|\n",
            "|       0.623|       0.434| 0.323|             0.0|   0.131|  0.323|   -9.64|     0.0386| 88.437| Sad|       0.0|\n",
            "|       0.543|       0.011| 0.578|         0.00366|   0.151|  0.211| -11.219|      0.109|149.395| Sad|       0.0|\n",
            "|       0.566|       0.399| 0.738|             0.0|   0.132|   0.24|  -8.318|      0.125|161.192| Sad|       0.0|\n",
            "|       0.427|       0.498| 0.603|         7.14E-5|   0.169|  0.224| -12.196|     0.0904|143.577| Sad|       0.0|\n",
            "|       0.593|       0.707|   0.5|         1.24E-5|  0.0837|  0.465|  -8.532|      0.029|117.996| Sad|       0.0|\n",
            "|       0.403|     9.74E-5| 0.953|             0.0|  0.0915|  0.362|  -3.213|      0.119|160.035| Sad|       0.0|\n",
            "|       0.212|      0.0721| 0.628|             0.0|   0.196|  0.467|  -6.628|      0.032| 89.819| Sad|       0.0|\n",
            "|       0.692|       0.851| 0.653|         0.00781|  0.0945|  0.237| -11.132|     0.0964|131.997| Sad|       0.0|\n",
            "|       0.582|       0.479| 0.531|             0.0|    0.15|    0.6| -13.634|     0.0464|148.114| Sad|       0.0|\n",
            "|       0.408|       0.263| 0.962|             0.0|   0.229|  0.373|  -5.077|      0.366|163.703| Sad|       0.0|\n",
            "|       0.561|       0.863| 0.505|         4.43E-4|   0.142|  0.274|   -8.23|     0.0246|176.124| Sad|       0.0|\n",
            "+------------+------------+------+----------------+--------+-------+--------+-----------+-------+----+----------+\n",
            "only showing top 20 rows\n",
            "\n"
          ]
        }
      ]
    },
    {
      "cell_type": "code",
      "source": [
        "\n",
        "for k in music_data.columns:\n",
        "    print(k,music_data.where(col(k).isNull()).count())\n",
        "\n"
      ],
      "metadata": {
        "colab": {
          "base_uri": "https://localhost:8080/"
        },
        "id": "s_67suqVC-QE",
        "outputId": "be2bc1e3-4e61-4be6-a13a-9b6c4d2d5dd8"
      },
      "execution_count": 10,
      "outputs": [
        {
          "output_type": "stream",
          "name": "stdout",
          "text": [
            "danceability 0\n",
            "acousticness 0\n",
            "energy 0\n",
            "instrumentalness 0\n",
            "liveness 0\n",
            "valence 0\n",
            "loudness 0\n",
            "speechiness 0\n",
            "tempo 0\n",
            "mood 0\n",
            "mood_index 0\n"
          ]
        }
      ]
    },
    {
      "cell_type": "code",
      "source": [
        "music_data=music_data.dropna()"
      ],
      "metadata": {
        "id": "vOkXD292DNpT"
      },
      "execution_count": 11,
      "outputs": []
    },
    {
      "cell_type": "code",
      "source": [
        "\n",
        "for k in music_data.columns:\n",
        "    print(k,music_data.where(col(k).isNull()).count())\n",
        "\n"
      ],
      "metadata": {
        "colab": {
          "base_uri": "https://localhost:8080/"
        },
        "id": "JiNfUcSuDTY9",
        "outputId": "9b6f68c6-5353-4f97-9663-d143d56bd91f"
      },
      "execution_count": 12,
      "outputs": [
        {
          "output_type": "stream",
          "name": "stdout",
          "text": [
            "danceability 0\n",
            "acousticness 0\n",
            "energy 0\n",
            "instrumentalness 0\n",
            "liveness 0\n",
            "valence 0\n",
            "loudness 0\n",
            "speechiness 0\n",
            "tempo 0\n",
            "mood 0\n",
            "mood_index 0\n"
          ]
        }
      ]
    },
    {
      "cell_type": "code",
      "source": [
        "\n",
        "#dropping the mood (categorical) column\n",
        "column_to_drop = \"mood\"\n",
        "music_data=music_data.drop(column_to_drop)\n"
      ],
      "metadata": {
        "id": "4LNP0Gw4IkhZ"
      },
      "execution_count": 13,
      "outputs": []
    },
    {
      "cell_type": "code",
      "source": [
        "\n",
        "#describe\n",
        "# Prepare features by assembling them into a vector\n",
        "#converting mood(\"datatype double\") into mood(Integer type)\n",
        "\n",
        "music_data=music_data.withColumn(\"mood_index\", col(\"mood_index\").cast(\"integer\"))\n"
      ],
      "metadata": {
        "id": "d83ErdE-In1k"
      },
      "execution_count": 14,
      "outputs": []
    },
    {
      "cell_type": "code",
      "source": [
        "feature_columns = music_data.columns[:-1]  # Exclude the label column\n"
      ],
      "metadata": {
        "id": "3794fH9hIrH6"
      },
      "execution_count": 15,
      "outputs": []
    },
    {
      "cell_type": "code",
      "source": [
        "\n",
        "assembler = VectorAssembler(inputCols=feature_columns, outputCol=\"features\")\n",
        "#assembled_data = assembler.transform(music_data)\n"
      ],
      "metadata": {
        "id": "ZSpst66qItjD"
      },
      "execution_count": 16,
      "outputs": []
    },
    {
      "cell_type": "code",
      "source": [
        "classifier = RandomForestClassifier(featuresCol=\"features\", labelCol=\"mood_index\", numTrees=10)\n"
      ],
      "metadata": {
        "id": "r1Vr4pYHKXaD"
      },
      "execution_count": 17,
      "outputs": []
    },
    {
      "cell_type": "code",
      "source": [
        "# Split the data into training and testing sets\n",
        "(train_data, test_data) = music_data.randomSplit([0.8, 0.2], seed=123)\n"
      ],
      "metadata": {
        "id": "9cbXqAGBIwzS"
      },
      "execution_count": 18,
      "outputs": []
    },
    {
      "cell_type": "code",
      "source": [
        "pipeline = Pipeline(stages=[assembler, classifier])\n"
      ],
      "metadata": {
        "id": "Xa6TdJhPI1J_"
      },
      "execution_count": 19,
      "outputs": []
    },
    {
      "cell_type": "code",
      "source": [
        "# Train the model\n",
        "model = pipeline.fit(train_data)"
      ],
      "metadata": {
        "id": "c-rptdNFI3WL"
      },
      "execution_count": 20,
      "outputs": []
    },
    {
      "cell_type": "code",
      "source": [
        "# Make predictions on the test set\n",
        "predictions = model.transform(test_data)\n",
        "\n"
      ],
      "metadata": {
        "id": "xQoK1BYmDk1Z"
      },
      "execution_count": 21,
      "outputs": []
    },
    {
      "cell_type": "code",
      "source": [
        "# Evaluate the model\n",
        "evaluator = MulticlassClassificationEvaluator(labelCol=\"mood_index\", predictionCol=\"prediction\", metricName=\"accuracy\")\n"
      ],
      "metadata": {
        "id": "_WCdv6DwI5ay"
      },
      "execution_count": 22,
      "outputs": []
    },
    {
      "cell_type": "code",
      "source": [
        "accuracy = evaluator.evaluate(predictions)\n",
        "print(\"Accuracy: {:.2%}\".format(accuracy))\n",
        "\n",
        "# Stop the Spark session\n",
        "#spark.stop()"
      ],
      "metadata": {
        "colab": {
          "base_uri": "https://localhost:8080/"
        },
        "id": "6BByfUdFDwaE",
        "outputId": "f5795691-3d1c-443c-9684-b40fcd4ecddb"
      },
      "execution_count": 23,
      "outputs": [
        {
          "output_type": "stream",
          "name": "stdout",
          "text": [
            "Accuracy: 70.14%\n"
          ]
        }
      ]
    },
    {
      "cell_type": "code",
      "source": [
        "# Save the model to a local directory\n",
        "model.save(\"file////content/drive/MyDrive/Datasets1/mlmodel1\")\n"
      ],
      "metadata": {
        "id": "weRZKqGHLuy5"
      },
      "execution_count": 24,
      "outputs": []
    },
    {
      "cell_type": "code",
      "source": [],
      "metadata": {
        "id": "3Kl6bzdgQ47q"
      },
      "execution_count": 24,
      "outputs": []
    },
    {
      "cell_type": "code",
      "source": [
        "\n",
        "# Load the model\n",
        "loaded_model = model.load(\"file////content/drive/MyDrive/Datasets1/mlmodel1\")\n",
        "\n"
      ],
      "metadata": {
        "id": "JZ3MtDueJf5P"
      },
      "execution_count": 27,
      "outputs": []
    },
    {
      "cell_type": "code",
      "source": [
        "spark = SparkSession.builder.appName(\"ReadingCsvExample\").getOrCreate()\n"
      ],
      "metadata": {
        "id": "rm_oIZNTQoZl"
      },
      "execution_count": 28,
      "outputs": []
    },
    {
      "cell_type": "code",
      "source": [
        "test_data_new= spark.read.csv(\"/content/drive/MyDrive/music_data_testing.csv\",header=True, inferSchema=True)\n"
      ],
      "metadata": {
        "id": "OKXAygvoODJD"
      },
      "execution_count": 29,
      "outputs": []
    },
    {
      "cell_type": "code",
      "source": [],
      "metadata": {
        "id": "bi1_ctC8O6Ro"
      },
      "execution_count": 29,
      "outputs": []
    },
    {
      "cell_type": "code",
      "source": [
        "test_data_new.printSchema()"
      ],
      "metadata": {
        "colab": {
          "base_uri": "https://localhost:8080/"
        },
        "id": "aB25-Kf0Ox7L",
        "outputId": "cd434776-9b7a-42ac-a7fc-53a4d4125925"
      },
      "execution_count": 30,
      "outputs": [
        {
          "output_type": "stream",
          "name": "stdout",
          "text": [
            "root\n",
            " |-- acousticness: string (nullable = true)\n",
            " |-- danceability: string (nullable = true)\n",
            " |-- energy: double (nullable = true)\n",
            " |-- instrumentalness: double (nullable = true)\n",
            " |-- liveness: double (nullable = true)\n",
            " |-- loudness: double (nullable = true)\n",
            " |-- speechiness: double (nullable = true)\n",
            " |-- tempo: double (nullable = true)\n",
            " |-- valence: double (nullable = true)\n",
            " |-- _c9: string (nullable = true)\n",
            " |-- _c10: string (nullable = true)\n",
            " |-- _c11: string (nullable = true)\n",
            " |-- _c12: string (nullable = true)\n",
            " |-- _c13: string (nullable = true)\n",
            " |-- _c14: string (nullable = true)\n",
            "\n"
          ]
        }
      ]
    },
    {
      "cell_type": "code",
      "source": [
        "\n",
        "test_data_new = music_data.withColumn(\"acousticness\", col(\"acousticness\").cast(\"double\"))\n",
        "test_data_new= music_data.withColumn(\"danceability\", col(\"danceability\").cast(\"double\"))\n"
      ],
      "metadata": {
        "id": "rZqEawqTO_nP"
      },
      "execution_count": 31,
      "outputs": []
    },
    {
      "cell_type": "code",
      "source": [
        "columns_to_drop=['_c9','_c10','_c11','c12','c13','c14']"
      ],
      "metadata": {
        "id": "Vrmtq1LDPJd2"
      },
      "execution_count": 32,
      "outputs": []
    },
    {
      "cell_type": "code",
      "source": [
        "test_data_new=test_data.drop(\"columns_to_drop\")"
      ],
      "metadata": {
        "id": "kMgN0XWrPlTv"
      },
      "execution_count": 33,
      "outputs": []
    },
    {
      "cell_type": "code",
      "source": [
        "test_data_new.printSchema()"
      ],
      "metadata": {
        "colab": {
          "base_uri": "https://localhost:8080/"
        },
        "id": "4AgBm45jPtSi",
        "outputId": "66116b57-bff3-4ce6-81d4-5d9a314b35f5"
      },
      "execution_count": 34,
      "outputs": [
        {
          "output_type": "stream",
          "name": "stdout",
          "text": [
            "root\n",
            " |-- danceability: double (nullable = true)\n",
            " |-- acousticness: double (nullable = true)\n",
            " |-- energy: double (nullable = true)\n",
            " |-- instrumentalness: double (nullable = true)\n",
            " |-- liveness: double (nullable = true)\n",
            " |-- valence: double (nullable = true)\n",
            " |-- loudness: double (nullable = true)\n",
            " |-- speechiness: double (nullable = true)\n",
            " |-- tempo: double (nullable = true)\n",
            " |-- mood_index: integer (nullable = true)\n",
            "\n"
          ]
        }
      ]
    },
    {
      "cell_type": "code",
      "source": [
        "\n",
        "for k in test_data_new.columns:\n",
        "    print(k,test_data_new.where(col(k).isNull()).count())\n",
        "\n"
      ],
      "metadata": {
        "colab": {
          "base_uri": "https://localhost:8080/"
        },
        "id": "MB_i2xEJQYHq",
        "outputId": "c3884e5e-e013-417b-a754-8d6b6d435e1e"
      },
      "execution_count": 35,
      "outputs": [
        {
          "output_type": "stream",
          "name": "stdout",
          "text": [
            "danceability 0\n",
            "acousticness 0\n",
            "energy 0\n",
            "instrumentalness 0\n",
            "liveness 0\n",
            "valence 0\n",
            "loudness 0\n",
            "speechiness 0\n",
            "tempo 0\n",
            "mood_index 0\n"
          ]
        }
      ]
    },
    {
      "cell_type": "code",
      "source": [
        "# Make predictions using the loaded model\n",
        "predictions_new = loaded_model.transform(test_data_new)\n"
      ],
      "metadata": {
        "id": "o4TzcuTZM84j"
      },
      "execution_count": 36,
      "outputs": []
    },
    {
      "cell_type": "code",
      "source": [
        "predictions_new.show()"
      ],
      "metadata": {
        "colab": {
          "base_uri": "https://localhost:8080/"
        },
        "id": "EIH2srLvQLFM",
        "outputId": "a294b7b2-a759-4e67-94db-160ec84b0a30"
      },
      "execution_count": 37,
      "outputs": [
        {
          "output_type": "stream",
          "name": "stdout",
          "text": [
            "+------------+------------+------+----------------+--------+-------+--------+-----------+-------+----------+--------------------+--------------------+--------------------+----------+\n",
            "|danceability|acousticness|energy|instrumentalness|liveness|valence|loudness|speechiness|  tempo|mood_index|            features|       rawPrediction|         probability|prediction|\n",
            "+------------+------------+------+----------------+--------+-------+--------+-----------+-------+----------+--------------------+--------------------+--------------------+----------+\n",
            "|       0.188|       0.174| 0.411|           0.153|  0.0843|  0.159|  -9.733|     0.0484|187.376|         0|[0.188,0.174,0.41...|[6.30791489094628...|[0.63079148909462...|       0.0|\n",
            "|       0.205|       0.646| 0.687|         0.00501|   0.173|   0.66|  -8.934|     0.0592|203.243|         1|[0.205,0.646,0.68...|[5.09723669414028...|[0.50972366941402...|       0.0|\n",
            "|       0.223|       0.845| 0.359|             0.0|   0.133|  0.193|  -7.569|     0.0312| 73.059|         1|[0.223,0.845,0.35...|[7.73500407783609...|[0.77350040778360...|       0.0|\n",
            "|       0.224|       0.902| 0.253|         8.49E-4|  0.0726|  0.252| -17.452|     0.0337| 76.928|         1|[0.224,0.902,0.25...|[7.58214562096413...|[0.75821456209641...|       0.0|\n",
            "|       0.237|       0.838| 0.543|         3.86E-6|  0.0961|  0.316|  -8.921|     0.0372| 73.896|         1|[0.237,0.838,0.54...|[7.43114894322327...|[0.74311489432232...|       0.0|\n",
            "|       0.249|       0.692| 0.461|         2.47E-6|   0.249|  0.154|  -6.897|     0.0373| 79.894|         1|[0.249,0.692,0.46...|[6.98228993137365...|[0.69822899313736...|       0.0|\n",
            "|       0.259|       0.102| 0.437|         1.32E-6|   0.106| 0.0951|  -6.589|     0.0386|180.042|         0|[0.259,0.102,0.43...|[7.36659986830490...|[0.73665998683049...|       0.0|\n",
            "|       0.262|       0.247| 0.606|             0.0|   0.125|  0.275|  -6.646|     0.0484|189.857|         0|[0.262,0.247,0.60...|[7.10773480802821...|[0.71077348080282...|       0.0|\n",
            "|       0.264|       0.892| 0.285|         4.71E-4|   0.344| 0.0776| -15.208|     0.0385| 84.825|         0|[0.264,0.892,0.28...|[7.33352280468314...|[0.73335228046831...|       0.0|\n",
            "|       0.265|       0.491|  0.58|             0.0|   0.243|  0.345|  -4.767|     0.0491|172.121|         1|[0.265,0.491,0.58...|[7.31110566475858...|[0.73111056647585...|       0.0|\n",
            "|       0.266|       0.737| 0.453|         0.00199|    0.08|  0.126| -10.649|     0.0307| 95.513|         0|[0.266,0.737,0.45...|[7.58214562096413...|[0.75821456209641...|       0.0|\n",
            "|       0.272|       0.788| 0.473|           0.119|   0.949|  0.323|  -11.03|     0.0944| 200.01|         1|[0.272,0.788,0.47...|[6.22653458586574...|[0.62265345858657...|       0.0|\n",
            "|       0.276|        0.76| 0.357|             0.0|  0.0796|  0.326|  -9.717|     0.0434|201.512|         0|[0.276,0.76,0.357...|[7.66282292359766...|[0.76628229235976...|       0.0|\n",
            "|       0.289|       0.944| 0.305|            0.71|   0.232|  0.143| -14.848|     0.0401| 60.754|         0|[0.289,0.944,0.30...|[6.74121511237544...|[0.67412151123754...|       0.0|\n",
            "|       0.297|       0.315| 0.495|             0.0|   0.147| 0.0957|  -7.028|      0.043| 79.939|         0|[0.297,0.315,0.49...|[7.49258139363097...|[0.74925813936309...|       0.0|\n",
            "|       0.302|       0.455| 0.493|             0.0|   0.134|  0.457|  -5.038|     0.0451| 88.904|         1|[0.302,0.455,0.49...|[7.14266830288804...|[0.71426683028880...|       0.0|\n",
            "|       0.309|       0.142| 0.783|         1.11E-6|   0.118|  0.372|  -4.154|     0.0405|175.788|         0|[0.309,0.142,0.78...|[7.19634000149265...|[0.71963400014926...|       0.0|\n",
            "|       0.311|       0.701| 0.485|             0.0|  0.0726|  0.225|  -5.726|     0.0365| 77.355|         0|[0.311,0.701,0.48...|[7.82322043996233...|[0.78232204399623...|       0.0|\n",
            "|       0.312|       0.796| 0.452|         8.74E-4|   0.286|  0.391| -11.872|     0.0391|132.485|         1|[0.312,0.796,0.45...|[6.98152362067661...|[0.69815236206766...|       0.0|\n",
            "|       0.316|       0.542| 0.566|             0.0|   0.101|  0.515|   -5.83|     0.0803| 78.647|         1|[0.316,0.542,0.56...|[5.49047230659200...|[0.54904723065920...|       0.0|\n",
            "+------------+------------+------+----------------+--------+-------+--------+-----------+-------+----------+--------------------+--------------------+--------------------+----------+\n",
            "only showing top 20 rows\n",
            "\n"
          ]
        }
      ]
    },
    {
      "cell_type": "code",
      "source": [
        "accuracy = evaluator.evaluate(predictions_new)\n",
        "print(\"Accuracy: {:.2%}\".format(accuracy))\n"
      ],
      "metadata": {
        "colab": {
          "base_uri": "https://localhost:8080/"
        },
        "id": "SY2u3oGeQN3s",
        "outputId": "27b0cbde-3348-4c51-b06f-3d546fa47df1"
      },
      "execution_count": 38,
      "outputs": [
        {
          "output_type": "stream",
          "name": "stdout",
          "text": [
            "Accuracy: 70.14%\n"
          ]
        }
      ]
    },
    {
      "cell_type": "code",
      "source": [],
      "metadata": {
        "id": "hqv09K3cRq5V"
      },
      "execution_count": 38,
      "outputs": []
    }
  ]
}