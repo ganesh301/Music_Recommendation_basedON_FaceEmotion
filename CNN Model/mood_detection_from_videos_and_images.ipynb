{
 "cells": [
  {
   "cell_type": "code",
   "execution_count": 27,
   "metadata": {
    "id": "kIDyKlHE9uuV"
   },
   "outputs": [],
   "source": [
    "def stringToList(input):\n",
    "    lst = []\n",
    "    for i in input:\n",
    "        # Extract values within the square brackets and split by \",\"\n",
    "        values_str = i[i.find('[')+1:i.find(']')].split(',')\n",
    "        \n",
    "        # Convert to float\n",
    "        values = list(map(float, values_str))\n",
    "        lst.append(values)\n",
    "    return lst"
   ]
  },
  {
   "cell_type": "code",
   "execution_count": 2,
   "metadata": {
    "id": "bvfCPgPJ9vci"
   },
   "outputs": [],
   "source": [
    "def moodNamePrintFromLabel(n):\n",
    "  if n == 0: result = 'Angry '\n",
    "  elif n == 1: result = 'Disgust '\n",
    "  elif n == 2: result = 'Fear'\n",
    "  elif n == 3: result = 'Happy'\n",
    "  elif n == 4: result = 'Sad'\n",
    "  elif n == 5: result = 'Surprise'\n",
    "  elif n == 6: result = 'Neutral'\n",
    "  return result\n",
    "\n"
   ]
  },
  {
   "cell_type": "code",
   "execution_count": null,
   "metadata": {
    "colab": {
     "base_uri": "https://localhost:8080/"
    },
    "id": "gfISzA7WxD5e",
    "outputId": "4a9c6c43-7bda-4577-95ed-5d95fd711e84"
   },
   "outputs": [],
   "source": []
  },
  {
   "cell_type": "code",
   "execution_count": 28,
   "metadata": {
    "id": "_O6gXlIqVsRv"
   },
   "outputs": [],
   "source": [
    "import pandas as pd\n",
    "import numpy as np"
   ]
  },
  {
   "cell_type": "code",
   "execution_count": 29,
   "metadata": {
    "id": "NikBvZDmxLEo"
   },
   "outputs": [],
   "source": [
    "\n",
    "data = pd.read_csv('D:\\Music-recommendation-based-on-facial-emotion-recognition-main (1)\\Music-recommendation-based-on-facial-emotion-recognition-main\\Image_data\\\\train.csv')\n",
    "test_data = pd.read_csv('D:\\Music-recommendation-based-on-facial-emotion-recognition-main (1)\\Music-recommendation-based-on-facial-emotion-recognition-main\\Image_data\\\\test.csv')"
   ]
  },
  {
   "cell_type": "markdown",
   "metadata": {
    "id": "Nku8k1fHQmqI"
   },
   "source": [
    "**processing the data**"
   ]
  },
  {
   "cell_type": "code",
   "execution_count": 30,
   "metadata": {
    "id": "2yeacQwxxOuh"
   },
   "outputs": [],
   "source": [
    "X = data['pixels']\n",
    "Y = np.array(data['emotion'])\n",
    "\n",
    "x_test_data = np.array(test_data['pixels'])\n",
    "\n",
    "X = np.array(stringToList(X))/255.0\n",
    "\n",
    "X = np.reshape(X, (len(X), 48, 48, 1))  # Adjusted the reshape size to len(X)\n",
    "\n",
    "#x_test_data = np.array(stringToList(x_test_data))\n",
    "x_test_data = np.array(stringToList(x_test_data))/255.0\n",
    "x_test_data = np.reshape(x_test_data, (len(x_test_data), 48, 48, 1))  # Adjusted the reshape size to len(x_test_data)\n"
   ]
  },
  {
   "cell_type": "code",
   "execution_count": 31,
   "metadata": {
    "colab": {
     "base_uri": "https://localhost:8080/"
    },
    "id": "G6y7TbxXzhOn",
    "outputId": "ae54c71b-219c-409b-aa84-07ada70cdc39"
   },
   "outputs": [
    {
     "name": "stdout",
     "output_type": "stream",
     "text": [
      "(16804, 48, 48, 1)\n",
      "(16804,)\n"
     ]
    }
   ],
   "source": [
    "print(X.shape)\n",
    "print(Y.shape)"
   ]
  },
  {
   "cell_type": "markdown",
   "metadata": {
    "id": "Vh9PCf9qQtTJ"
   },
   "source": [
    "**data splitting to test and training set**"
   ]
  },
  {
   "cell_type": "code",
   "execution_count": 32,
   "metadata": {
    "id": "wmsgFrG-yzzf"
   },
   "outputs": [],
   "source": [
    "from sklearn.model_selection import train_test_split\n",
    "x_train, x_test, y_train, y_test = train_test_split(X, Y, test_size = 0.2)"
   ]
  },
  {
   "cell_type": "code",
   "execution_count": 33,
   "metadata": {
    "colab": {
     "base_uri": "https://localhost:8080/"
    },
    "id": "9TrHAPy-0jsJ",
    "outputId": "f33281bc-7dfa-4cb4-ef0f-36c94cd02e61"
   },
   "outputs": [
    {
     "name": "stdout",
     "output_type": "stream",
     "text": [
      "(13443, 48, 48, 1)\n",
      "(13443,)\n"
     ]
    }
   ],
   "source": [
    "print(x_train.shape)\n",
    "print(y_train.shape)"
   ]
  },
  {
   "cell_type": "code",
   "execution_count": 34,
   "metadata": {
    "id": "s9-N9GxExSpg"
   },
   "outputs": [],
   "source": [
    "import tensorflow as tf\n",
    "from tensorflow.keras.models import Sequential\n",
    "from tensorflow.keras.layers import Dense, Activation, Flatten, Conv2D, Dropout, MaxPooling2D, BatchNormalization"
   ]
  },
  {
   "cell_type": "code",
   "execution_count": 35,
   "metadata": {
    "id": "b2f7xg2MQ9th"
   },
   "outputs": [
    {
     "name": "stdout",
     "output_type": "stream",
     "text": [
      "WARNING:tensorflow:From D:\\Anaconda\\Lib\\site-packages\\keras\\src\\optimizers\\__init__.py:309: The name tf.train.Optimizer is deprecated. Please use tf.compat.v1.train.Optimizer instead.\n",
      "\n",
      "Epoch 1/10\n",
      "WARNING:tensorflow:From D:\\Anaconda\\Lib\\site-packages\\keras\\src\\utils\\tf_utils.py:492: The name tf.ragged.RaggedTensorValue is deprecated. Please use tf.compat.v1.ragged.RaggedTensorValue instead.\n",
      "\n",
      "WARNING:tensorflow:From D:\\Anaconda\\Lib\\site-packages\\keras\\src\\engine\\base_layer_utils.py:384: The name tf.executing_eagerly_outside_functions is deprecated. Please use tf.compat.v1.executing_eagerly_outside_functions instead.\n",
      "\n",
      "379/379 [==============================] - 72s 177ms/step - loss: 1.5322 - sparse_categorical_accuracy: 0.3509 - val_loss: 1.2943 - val_sparse_categorical_accuracy: 0.4045\n",
      "Epoch 2/10\n",
      "379/379 [==============================] - 67s 177ms/step - loss: 1.1420 - sparse_categorical_accuracy: 0.5036 - val_loss: 1.1052 - val_sparse_categorical_accuracy: 0.5011\n",
      "Epoch 3/10\n",
      "379/379 [==============================] - 69s 183ms/step - loss: 1.0278 - sparse_categorical_accuracy: 0.5568 - val_loss: 1.3253 - val_sparse_categorical_accuracy: 0.4862\n",
      "Epoch 4/10\n",
      "379/379 [==============================] - 70s 186ms/step - loss: 1.0424 - sparse_categorical_accuracy: 0.5529 - val_loss: 1.6871 - val_sparse_categorical_accuracy: 0.3792\n",
      "Epoch 5/10\n",
      "379/379 [==============================] - 67s 178ms/step - loss: 0.9922 - sparse_categorical_accuracy: 0.5808 - val_loss: 1.0796 - val_sparse_categorical_accuracy: 0.5212\n",
      "Epoch 6/10\n",
      "379/379 [==============================] - 69s 181ms/step - loss: 0.8700 - sparse_categorical_accuracy: 0.6415 - val_loss: 0.9483 - val_sparse_categorical_accuracy: 0.6037\n",
      "Epoch 7/10\n",
      "379/379 [==============================] - 69s 181ms/step - loss: 0.8143 - sparse_categorical_accuracy: 0.6704 - val_loss: 0.9449 - val_sparse_categorical_accuracy: 0.5874\n",
      "Epoch 8/10\n",
      "379/379 [==============================] - 67s 177ms/step - loss: 0.7329 - sparse_categorical_accuracy: 0.7023 - val_loss: 0.9072 - val_sparse_categorical_accuracy: 0.6193\n",
      "Epoch 9/10\n",
      "379/379 [==============================] - 69s 183ms/step - loss: 0.6560 - sparse_categorical_accuracy: 0.7390 - val_loss: 0.9243 - val_sparse_categorical_accuracy: 0.6059\n",
      "Epoch 10/10\n",
      "379/379 [==============================] - 69s 181ms/step - loss: 0.6020 - sparse_categorical_accuracy: 0.7640 - val_loss: 0.9879 - val_sparse_categorical_accuracy: 0.6126\n"
     ]
    },
    {
     "data": {
      "text/plain": [
       "<keras.src.callbacks.History at 0x1ed16539e50>"
      ]
     },
     "execution_count": 35,
     "metadata": {},
     "output_type": "execute_result"
    }
   ],
   "source": [
    "model = Sequential()\n",
    "#1st convo\n",
    "model.add(Conv2D(96, (3,3), input_shape = (48,48,1)))\n",
    "model.add(Activation('relu'))\n",
    "#polling\n",
    "model.add(MaxPooling2D(pool_size=(2,2)))\n",
    "model.add(BatchNormalization())\n",
    "\n",
    "\n",
    "#2nd convo\n",
    "model.add(Conv2D(256, (3,3)))\n",
    "model.add(Activation('relu'))\n",
    "#polling\n",
    "model.add(MaxPooling2D(pool_size=(2,2)))\n",
    "model.add(BatchNormalization())\n",
    "\n",
    "#3rd convo\n",
    "model.add(Conv2D(384, (3,3)))\n",
    "model.add(Activation('relu'))\n",
    "#polling\n",
    "model.add(MaxPooling2D(pool_size=(2,2)))\n",
    "model.add(BatchNormalization())\n",
    "\n",
    "#4th convo\n",
    "model.add(Conv2D(256, (3,3)))\n",
    "model.add(Activation('relu'))\n",
    "#polling\n",
    "model.add(MaxPooling2D(pool_size=(2,2)))\n",
    "model.add(BatchNormalization())\n",
    "\n",
    "\n",
    "\n",
    "\n",
    "#passing through dense layer\n",
    "model.add(Flatten())\n",
    "\n",
    "#1st dense layer\n",
    "model.add(Dense(1024))\n",
    "model.add(Activation('relu'))\n",
    "#dropout\n",
    "model.add(BatchNormalization())\n",
    "model.add(Dropout(0.4))\n",
    "\n",
    "\n",
    "#2nd dense layer\n",
    "model.add(Dense(1024))\n",
    "model.add(Activation('relu'))\n",
    "#dropout\n",
    "model.add(BatchNormalization())\n",
    "model.add(Dropout(0.4))\n",
    "\n",
    "\n",
    "#3rd dense layer\n",
    "model.add(Dense(256))\n",
    "model.add(Activation('relu'))\n",
    "#dropout\n",
    "model.add(Dropout(0.4))\n",
    "model.add(BatchNormalization())\n",
    "model.add(Activation('relu'))\n",
    "\n",
    "\n",
    "#output layer\n",
    "model.add(Dense(7))\n",
    "model.add(Activation('softmax'))\n",
    "\n",
    "model.compile(loss=\"sparse_categorical_crossentropy\",\n",
    "              optimizer = \"adam\",\n",
    "              metrics = ['sparse_categorical_accuracy'])\n",
    "model.fit(x_train, y_train, batch_size=32, epochs=10, validation_split=0.1)"
   ]
  },
  {
   "cell_type": "code",
   "execution_count": 36,
   "metadata": {},
   "outputs": [],
   "source": [
    "model.save('D:\\\\Music-recommendation-based-on-facial-emotion-recognition-main (1)\\\\Music-recommendation-based-on-facial-emotion-recognition-main\\\\Image_data\\\\model.keras')\n"
   ]
  },
  {
   "cell_type": "markdown",
   "metadata": {
    "id": "w-LAC-jGQ4qa"
   },
   "source": [
    "**Loading the saved mood detection model from google drive**"
   ]
  },
  {
   "cell_type": "code",
   "execution_count": 38,
   "metadata": {
    "id": "G2v_p5rLxVLw"
   },
   "outputs": [],
   "source": [
    "from keras.models import load_model\n",
    "loaded_model = load_model('D:\\\\Music-recommendation-based-on-facial-emotion-recognition-main (1)\\\\Music-recommendation-based-on-facial-emotion-recognition-main\\\\Image_data\\\\model.keras')"
   ]
  },
  {
   "cell_type": "code",
   "execution_count": 39,
   "metadata": {
    "colab": {
     "base_uri": "https://localhost:8080/"
    },
    "id": "0ONLK6a52Tnl",
    "outputId": "05b0f053-782a-4e75-feb0-6feea4d1722e"
   },
   "outputs": [
    {
     "name": "stdout",
     "output_type": "stream",
     "text": [
      "106/106 [==============================] - 5s 46ms/step - loss: 0.9949 - sparse_categorical_accuracy: 0.5983\n"
     ]
    }
   ],
   "source": [
    "score = loaded_model.evaluate(x_test, y_test, verbose=1)"
   ]
  },
  {
   "cell_type": "code",
   "execution_count": 40,
   "metadata": {},
   "outputs": [],
   "source": [
    "from tensorflow.keras.applications.mobilenet_v2 import preprocess_input\n",
    "from tensorflow.keras.preprocessing.image import img_to_array\n",
    "from tensorflow.keras.models import load_model\n",
    "from imutils.video import VideoStream\n",
    "import numpy as np\n",
    "import imutils\n",
    "import time\n",
    "import cv2\n",
    "import os"
   ]
  },
  {
   "cell_type": "code",
   "execution_count": 45,
   "metadata": {},
   "outputs": [
    {
     "name": "stdout",
     "output_type": "stream",
     "text": [
      "1/1 [==============================] - 0s 34ms/step\n",
      "1/1 [==============================] - 0s 34ms/step\n",
      "1/1 [==============================] - 0s 34ms/step\n",
      "1/1 [==============================] - 0s 34ms/step\n",
      "1/1 [==============================] - 0s 32ms/step\n",
      "1/1 [==============================] - 0s 34ms/step\n",
      "1/1 [==============================] - 0s 36ms/step\n",
      "1/1 [==============================] - 0s 37ms/step\n",
      "1/1 [==============================] - 0s 35ms/step\n",
      "1/1 [==============================] - 0s 31ms/step\n",
      "1/1 [==============================] - 0s 30ms/step\n",
      "1/1 [==============================] - 0s 30ms/step\n",
      "1/1 [==============================] - 0s 33ms/step\n",
      "1/1 [==============================] - 0s 31ms/step\n",
      "1/1 [==============================] - 0s 33ms/step\n",
      "1/1 [==============================] - 0s 31ms/step\n",
      "1/1 [==============================] - 0s 31ms/step\n",
      "1/1 [==============================] - 0s 31ms/step\n",
      "1/1 [==============================] - 0s 30ms/step\n",
      "1/1 [==============================] - 0s 32ms/step\n",
      "1/1 [==============================] - 0s 30ms/step\n",
      "1/1 [==============================] - 0s 30ms/step\n",
      "1/1 [==============================] - 0s 32ms/step\n",
      "1/1 [==============================] - 0s 31ms/step\n",
      "1/1 [==============================] - 0s 31ms/step\n",
      "1/1 [==============================] - 0s 32ms/step\n",
      "1/1 [==============================] - 0s 31ms/step\n",
      "1/1 [==============================] - 0s 31ms/step\n",
      "1/1 [==============================] - 0s 33ms/step\n",
      "1/1 [==============================] - 0s 30ms/step\n",
      "1/1 [==============================] - 0s 30ms/step\n",
      "1/1 [==============================] - 0s 32ms/step\n",
      "1/1 [==============================] - 0s 30ms/step\n",
      "1/1 [==============================] - 0s 33ms/step\n",
      "1/1 [==============================] - 0s 31ms/step\n",
      "1/1 [==============================] - 0s 31ms/step\n",
      "1/1 [==============================] - 0s 31ms/step\n",
      "1/1 [==============================] - 0s 31ms/step\n",
      "1/1 [==============================] - 0s 29ms/step\n",
      "1/1 [==============================] - 0s 30ms/step\n",
      "1/1 [==============================] - 0s 30ms/step\n",
      "1/1 [==============================] - 0s 35ms/step\n",
      "1/1 [==============================] - 0s 31ms/step\n",
      "1/1 [==============================] - 0s 30ms/step\n",
      "1/1 [==============================] - 0s 30ms/step\n",
      "1/1 [==============================] - 0s 30ms/step\n",
      "1/1 [==============================] - 0s 33ms/step\n",
      "1/1 [==============================] - 0s 32ms/step\n",
      "1/1 [==============================] - 0s 30ms/step\n",
      "1/1 [==============================] - 0s 30ms/step\n",
      "1/1 [==============================] - 0s 32ms/step\n",
      "1/1 [==============================] - 0s 32ms/step\n",
      "1/1 [==============================] - 0s 30ms/step\n",
      "1/1 [==============================] - 0s 31ms/step\n",
      "1/1 [==============================] - 0s 31ms/step\n",
      "1/1 [==============================] - 0s 32ms/step\n",
      "1/1 [==============================] - 0s 30ms/step\n",
      "1/1 [==============================] - 0s 30ms/step\n",
      "1/1 [==============================] - 0s 30ms/step\n",
      "1/1 [==============================] - 0s 36ms/step\n",
      "1/1 [==============================] - 0s 32ms/step\n",
      "1/1 [==============================] - 0s 30ms/step\n",
      "1/1 [==============================] - 0s 31ms/step\n",
      "1/1 [==============================] - 0s 32ms/step\n",
      "1/1 [==============================] - 0s 32ms/step\n",
      "1/1 [==============================] - 0s 31ms/step\n",
      "1/1 [==============================] - 0s 30ms/step\n",
      "1/1 [==============================] - 0s 30ms/step\n",
      "1/1 [==============================] - 0s 31ms/step\n",
      "1/1 [==============================] - 0s 33ms/step\n",
      "1/1 [==============================] - 0s 30ms/step\n",
      "1/1 [==============================] - 0s 30ms/step\n",
      "1/1 [==============================] - 0s 32ms/step\n",
      "1/1 [==============================] - 0s 32ms/step\n",
      "1/1 [==============================] - 0s 31ms/step\n",
      "1/1 [==============================] - 0s 30ms/step\n",
      "1/1 [==============================] - 0s 31ms/step\n",
      "1/1 [==============================] - 0s 39ms/step\n",
      "1/1 [==============================] - 0s 31ms/step\n",
      "1/1 [==============================] - 0s 30ms/step\n",
      "1/1 [==============================] - 0s 36ms/step\n",
      "1/1 [==============================] - 0s 33ms/step\n",
      "1/1 [==============================] - 0s 32ms/step\n",
      "1/1 [==============================] - 0s 34ms/step\n",
      "1/1 [==============================] - 0s 30ms/step\n",
      "1/1 [==============================] - 0s 31ms/step\n",
      "1/1 [==============================] - 0s 30ms/step\n",
      "1/1 [==============================] - 0s 33ms/step\n",
      "1/1 [==============================] - 0s 33ms/step\n",
      "1/1 [==============================] - 0s 32ms/step\n",
      "1/1 [==============================] - 0s 31ms/step\n",
      "1/1 [==============================] - 0s 33ms/step\n",
      "1/1 [==============================] - 0s 34ms/step\n",
      "1/1 [==============================] - 0s 32ms/step\n",
      "1/1 [==============================] - 0s 31ms/step\n",
      "1/1 [==============================] - 0s 37ms/step\n",
      "1/1 [==============================] - 0s 32ms/step\n",
      "1/1 [==============================] - 0s 30ms/step\n",
      "1/1 [==============================] - 0s 30ms/step\n",
      "1/1 [==============================] - 0s 31ms/step\n",
      "1/1 [==============================] - 0s 30ms/step\n",
      "1/1 [==============================] - 0s 30ms/step\n",
      "1/1 [==============================] - 0s 31ms/step\n",
      "1/1 [==============================] - 0s 32ms/step\n",
      "1/1 [==============================] - 0s 32ms/step\n",
      "1/1 [==============================] - 0s 31ms/step\n",
      "1/1 [==============================] - 0s 31ms/step\n",
      "1/1 [==============================] - 0s 30ms/step\n",
      "1/1 [==============================] - 0s 29ms/step\n",
      "1/1 [==============================] - 0s 31ms/step\n",
      "1/1 [==============================] - 0s 30ms/step\n",
      "1/1 [==============================] - 0s 32ms/step\n",
      "1/1 [==============================] - 0s 30ms/step\n",
      "1/1 [==============================] - 0s 29ms/step\n",
      "1/1 [==============================] - 0s 36ms/step\n",
      "1/1 [==============================] - 0s 31ms/step\n",
      "1/1 [==============================] - 0s 32ms/step\n",
      "1/1 [==============================] - 0s 31ms/step\n",
      "1/1 [==============================] - 0s 31ms/step\n",
      "1/1 [==============================] - 0s 30ms/step\n",
      "1/1 [==============================] - 0s 31ms/step\n",
      "1/1 [==============================] - 0s 32ms/step\n",
      "1/1 [==============================] - 0s 32ms/step\n",
      "1/1 [==============================] - 0s 30ms/step\n",
      "1/1 [==============================] - 0s 31ms/step\n",
      "1/1 [==============================] - 0s 30ms/step\n",
      "1/1 [==============================] - 0s 30ms/step\n",
      "1/1 [==============================] - 0s 32ms/step\n",
      "1/1 [==============================] - 0s 31ms/step\n"
     ]
    }
   ],
   "source": [
    "import cv2\n",
    "import numpy as np\n",
    "\n",
    "# ... (rest of your imports)\n",
    "face_cascade = cv2.CascadeClassifier(cv2.data.haarcascades + 'haarcascade_frontalface_default.xml')\n",
    "\n",
    "\n",
    "def moodNamePrintFromLabel(n):\n",
    "    emotions = ['Angry', 'Disgust', 'Fear', 'Happy', 'Sad', 'Surprise', 'Neutral']\n",
    "    return emotions[n]\n",
    "\n",
    "# ... (rest of your code)\n",
    "face_cascade = cv2.CascadeClassifier(cv2.data.haarcascades + 'haarcascade_frontalface_default.xml')\n",
    "\n",
    "\n",
    "video_cap = cv2.VideoCapture(0)  # Open the webcam\n",
    "\n",
    "while (video_cap.isOpened()):\n",
    "    ret, frame = video_cap.read()\n",
    "\n",
    "    if not ret:\n",
    "        print(\"Failed to capture frame\")\n",
    "        break\n",
    "\n",
    "    gray_img = cv2.cvtColor(frame, cv2.COLOR_BGR2GRAY)\n",
    "    faces = face_cascade.detectMultiScale(gray_img, 1.3, 5)\n",
    "\n",
    "    for (x, y, w, h) in faces:\n",
    "        pxl_lst = []\n",
    "        for i in range(y, y + h):\n",
    "            lst = []\n",
    "            for j in range(x, x + w):\n",
    "                lst.append(gray_img[i][j])\n",
    "            pxl_lst.append(lst)\n",
    "        single_face = np.array(pxl_lst)\n",
    "\n",
    "        resized_img = cv2.resize(single_face, (48, 48), interpolation=cv2.INTER_AREA)\n",
    "        resized_img = np.reshape(resized_img, (1, 48, 48, 1)) / 255.0\n",
    "\n",
    "        # Get the result from the model\n",
    "        result = np.argmax(loaded_model.predict(resized_img), axis=-1)\n",
    "\n",
    "        # Draw a rectangle around the face and display the mood label\n",
    "        cv2.rectangle(frame, (x, y), (x + w, y + h), (255, 0, 0), 2)\n",
    "        cv2.putText(frame, moodNamePrintFromLabel(result[0]), (x, y - 10), cv2.FONT_HERSHEY_SIMPLEX, 0.9, (255, 0, 0), 2)\n",
    "\n",
    "    # Display the frame with mood information\n",
    "    cv2.imshow('Webcam Mood Detection', frame)\n",
    "\n",
    "    if cv2.waitKey(1) & 0xFF == ord('q'):\n",
    "        break\n",
    "\n",
    "# Release the webcam and close the window\n",
    "video_cap.release()\n",
    "cv2.destroyAllWindows()\n",
    "# Call the function\n",
    "#videoToMoodDetection()\n"
   ]
  },
  {
   "cell_type": "code",
   "execution_count": 48,
   "metadata": {
    "id": "lS_uk9L5H_it"
   },
   "outputs": [],
   "source": []
  },
  {
   "cell_type": "code",
   "execution_count": 52,
   "metadata": {
    "colab": {
     "base_uri": "https://localhost:8080/",
     "height": 641
    },
    "id": "Y6p4OgKW-dlP",
    "outputId": "2054e819-361d-4300-8727-cea654f06e27"
   },
   "outputs": [
    {
     "name": "stdout",
     "output_type": "stream",
     "text": [
      "1/1 [==============================] - 0s 33ms/step\n",
      "1/1 [==============================] - 0s 33ms/step\n",
      "1/1 [==============================] - 0s 33ms/step\n",
      "1/1 [==============================] - 0s 32ms/step\n",
      "1/1 [==============================] - 0s 32ms/step\n",
      "1/1 [==============================] - 0s 32ms/step\n",
      "1/1 [==============================] - 0s 30ms/step\n",
      "1/1 [==============================] - 0s 33ms/step\n",
      "1/1 [==============================] - 0s 33ms/step\n",
      "1/1 [==============================] - 0s 32ms/step\n",
      "1/1 [==============================] - 0s 33ms/step\n",
      "1/1 [==============================] - 0s 38ms/step\n",
      "1/1 [==============================] - 0s 32ms/step\n",
      "1/1 [==============================] - 0s 39ms/step\n",
      "1/1 [==============================] - 0s 29ms/step\n",
      "1/1 [==============================] - 0s 27ms/step\n",
      "1/1 [==============================] - 0s 33ms/step\n",
      "1/1 [==============================] - 0s 31ms/step\n",
      "1/1 [==============================] - 0s 38ms/step\n",
      "1/1 [==============================] - 0s 34ms/step\n",
      "1/1 [==============================] - 0s 49ms/step\n",
      "1/1 [==============================] - 0s 31ms/step\n",
      "1/1 [==============================] - 0s 33ms/step\n",
      "1/1 [==============================] - 0s 33ms/step\n",
      "1/1 [==============================] - 0s 33ms/step\n",
      "1/1 [==============================] - 0s 33ms/step\n",
      "1/1 [==============================] - 0s 31ms/step\n",
      "1/1 [==============================] - 0s 31ms/step\n",
      "1/1 [==============================] - 0s 32ms/step\n",
      "1/1 [==============================] - 0s 32ms/step\n",
      "1/1 [==============================] - 0s 31ms/step\n",
      "1/1 [==============================] - 0s 31ms/step\n",
      "1/1 [==============================] - 0s 35ms/step\n",
      "1/1 [==============================] - 0s 35ms/step\n",
      "1/1 [==============================] - 0s 37ms/step\n",
      "1/1 [==============================] - 0s 35ms/step\n",
      "1/1 [==============================] - 0s 35ms/step\n",
      "1/1 [==============================] - 0s 31ms/step\n",
      "1/1 [==============================] - 0s 33ms/step\n",
      "1/1 [==============================] - 0s 40ms/step\n",
      "1/1 [==============================] - 0s 34ms/step\n",
      "1/1 [==============================] - 0s 37ms/step\n",
      "1/1 [==============================] - 0s 33ms/step\n",
      "1/1 [==============================] - 0s 39ms/step\n",
      "1/1 [==============================] - 0s 53ms/step\n",
      "1/1 [==============================] - 0s 38ms/step\n",
      "1/1 [==============================] - 0s 29ms/step\n",
      "1/1 [==============================] - 0s 35ms/step\n",
      "1/1 [==============================] - 0s 33ms/step\n",
      "1/1 [==============================] - 0s 31ms/step\n",
      "1/1 [==============================] - 0s 31ms/step\n",
      "1/1 [==============================] - 0s 36ms/step\n",
      "1/1 [==============================] - 0s 33ms/step\n",
      "1/1 [==============================] - 0s 40ms/step\n",
      "1/1 [==============================] - 0s 38ms/step\n",
      "1/1 [==============================] - 0s 34ms/step\n",
      "1/1 [==============================] - 0s 34ms/step\n",
      "1/1 [==============================] - 0s 36ms/step\n",
      "1/1 [==============================] - 0s 32ms/step\n",
      "1/1 [==============================] - 0s 33ms/step\n",
      "1/1 [==============================] - 0s 34ms/step\n",
      "1/1 [==============================] - 0s 40ms/step\n",
      "1/1 [==============================] - 0s 38ms/step\n",
      "1/1 [==============================] - 0s 34ms/step\n",
      "1/1 [==============================] - 0s 31ms/step\n",
      "1/1 [==============================] - 0s 36ms/step\n",
      "1/1 [==============================] - 0s 31ms/step\n",
      "1/1 [==============================] - 0s 32ms/step\n",
      "1/1 [==============================] - 0s 35ms/step\n",
      "1/1 [==============================] - 0s 37ms/step\n",
      "1/1 [==============================] - 0s 34ms/step\n",
      "1/1 [==============================] - 0s 34ms/step\n",
      "1/1 [==============================] - 0s 31ms/step\n",
      "1/1 [==============================] - 0s 33ms/step\n",
      "1/1 [==============================] - 0s 31ms/step\n",
      "1/1 [==============================] - 0s 41ms/step\n",
      "1/1 [==============================] - 0s 31ms/step\n",
      "1/1 [==============================] - 0s 35ms/step\n",
      "1/1 [==============================] - 0s 34ms/step\n",
      "1/1 [==============================] - 0s 35ms/step\n",
      "1/1 [==============================] - 0s 34ms/step\n",
      "1/1 [==============================] - 0s 32ms/step\n",
      "1/1 [==============================] - 0s 30ms/step\n",
      "1/1 [==============================] - 0s 39ms/step\n",
      "1/1 [==============================] - 0s 37ms/step\n",
      "1/1 [==============================] - 0s 32ms/step\n",
      "1/1 [==============================] - 0s 32ms/step\n",
      "1/1 [==============================] - 0s 32ms/step\n",
      "1/1 [==============================] - 0s 31ms/step\n",
      "1/1 [==============================] - 0s 33ms/step\n",
      "1/1 [==============================] - 0s 34ms/step\n",
      "1/1 [==============================] - 0s 38ms/step\n",
      "1/1 [==============================] - 0s 37ms/step\n",
      "1/1 [==============================] - 0s 34ms/step\n",
      "1/1 [==============================] - 0s 37ms/step\n",
      "1/1 [==============================] - 0s 31ms/step\n",
      "1/1 [==============================] - 0s 31ms/step\n",
      "1/1 [==============================] - 0s 32ms/step\n",
      "1/1 [==============================] - 0s 33ms/step\n",
      "1/1 [==============================] - 0s 33ms/step\n",
      "Image classification completed.\n"
     ]
    }
   ],
   "source": [
    "import cv2\n",
    "import numpy as np\n",
    "import os\n",
    "import shutil\n",
    "\n",
    "# ... (your imports)\n",
    "\n",
    "# Function to recognize emotion from an image\n",
    "def recognizeEmotion(img_path):\n",
    "    img = cv2.imread(img_path)\n",
    "    gray_img = cv2.cvtColor(img, cv2.COLOR_BGR2GRAY)\n",
    "    resized_img = cv2.resize(gray_img, (48, 48), interpolation=cv2.INTER_AREA)\n",
    "    resized_img = np.reshape(resized_img, (1, 48, 48, 1)) / 255.0\n",
    "\n",
    "    # Get the result from the model\n",
    "    result = np.argmax(loaded_model.predict(resized_img), axis=-1)\n",
    "    emotion = moodNamePrintFromLabel(result[0])\n",
    "\n",
    "    return emotion\n",
    "\n",
    "# ... (rest of your code)\n",
    "\n",
    "# Path to the folder containing random images\n",
    "random_images_folder = 'C:\\\\Users\\\\Legion\\\\Desktop\\\\images'\n",
    "\n",
    "# Loop through each image in the folder\n",
    "for image_file in os.listdir(random_images_folder):\n",
    "    if image_file.endswith(('.jpg', '.jpeg', '.png')):\n",
    "        image_path = os.path.join(random_images_folder, image_file)\n",
    "\n",
    "        # Get the emotion label\n",
    "        emotion_label = recognizeEmotion(image_path)\n",
    "\n",
    "        # Create the emotion folder if it doesn't exist\n",
    "        emotion_folder = os.path.join('C:\\\\Users\\\\Legion\\\\Desktop\\\\images', emotion_label)\n",
    "        if not os.path.exists(emotion_folder):\n",
    "            os.makedirs(emotion_folder)\n",
    "\n",
    "        # Move the image to the corresponding emotion folder\n",
    "        shutil.move(image_path, os.path.join(emotion_folder, image_file))\n",
    "\n",
    "print(\"Image classification completed.\")\n"
   ]
  },
  {
   "cell_type": "code",
   "execution_count": null,
   "metadata": {
    "colab": {
     "base_uri": "https://localhost:8080/",
     "height": 1000
    },
    "id": "zvNVY6E383EU",
    "outputId": "661fa2bb-56ec-4a28-babd-b8b19c917b48"
   },
   "outputs": [],
   "source": []
  },
  {
   "cell_type": "markdown",
   "metadata": {
    "id": "qFRa-zu9xfw_"
   },
   "source": [
    "**pixel to image**"
   ]
  },
  {
   "cell_type": "code",
   "execution_count": 53,
   "metadata": {
    "colab": {
     "base_uri": "https://localhost:8080/",
     "height": 320
    },
    "id": "_eAaZJeKxc7g",
    "outputId": "beea6d64-0bb9-4437-b65a-1b3d4d128a12"
   },
   "outputs": [
    {
     "name": "stdout",
     "output_type": "stream",
     "text": [
      "(48, 48, 1)\n",
      "(48, 48)\n"
     ]
    },
    {
     "data": {
      "text/plain": [
       "<matplotlib.image.AxesImage at 0x1ed35aee390>"
      ]
     },
     "execution_count": 53,
     "metadata": {},
     "output_type": "execute_result"
    },
    {
     "data": {
      "image/png": "[encoded data removed]",
      "text/plain": [
       "<Figure size 640x480 with 1 Axes>"
      ]
     },
     "metadata": {},
     "output_type": "display_data"
    }
   ],
   "source": [
    "import matplotlib.pyplot as plt\n",
    "\n",
    "single_image = np.array(x_test_data[13]*255)\n",
    "print(single_image.shape)\n",
    "single_image = np.reshape(single_image,(48,48),order = 'C')\n",
    "print(single_image.shape)\n",
    "plt.imshow(single_image, cmap='gray', vmin=0, vmax=255)\n",
    "# s_img = np.array(single_image, shape=(48,48))"
   ]
  },
  {
   "cell_type": "code",
   "execution_count": null,
   "metadata": {},
   "outputs": [],
   "source": []
  }
 ],
 "metadata": {
  "colab": {
   "authorship_tag": "ABX9TyNlHHpVLr4kkkQLflwds7it",
   "collapsed_sections": [],
   "name": "mood detection from videos and images.ipynb",
   "provenance": [],
   "toc_visible": true
  },
  "kernelspec": {
   "display_name": "Python 3 (ipykernel)",
   "language": "python",
   "name": "python3"
  },
  "language_info": {
   "codemirror_mode": {
    "name": "ipython",
    "version": 3
   },
   "file_extension": ".py",
   "mimetype": "text/x-python",
   "name": "python",
   "nbconvert_exporter": "python",
   "pygments_lexer": "ipython3",
   "version": "3.11.5"
  }
 },
 "nbformat": 4,
 "nbformat_minor": 1
}
