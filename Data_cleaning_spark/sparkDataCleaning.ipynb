{
  "nbformat": 4,
  "nbformat_minor": 0,
  "metadata": {
    "colab": {
      "provenance": []
    },
    "kernelspec": {
      "name": "python3",
      "display_name": "Python 3"
    },
    "language_info": {
      "name": "python"
    }
  },
  "cells": [
    {
      "cell_type": "code",
      "execution_count": 1,
      "metadata": {
        "colab": {
          "base_uri": "https://localhost:8080/"
        },
        "id": "-T-z4LEwirGz",
        "outputId": "583cd0f8-e24c-421c-be71-38ea5ca9d18b"
      },
      "outputs": [
        {
          "output_type": "stream",
          "name": "stdout",
          "text": [
            "Requirement already satisfied: pyspark in /usr/local/lib/python3.10/dist-packages (3.5.0)\n",
            "Requirement already satisfied: py4j==0.10.9.7 in /usr/local/lib/python3.10/dist-packages (from pyspark) (0.10.9.7)\n"
          ]
        }
      ],
      "source": [
        "!pip install pyspark"
      ]
    },
    {
      "cell_type": "code",
      "source": [
        "from pyspark.sql import SparkSession\n",
        "from pyspark.sql.functions import col\n"
      ],
      "metadata": {
        "id": "rO3RRx2_it6Y"
      },
      "execution_count": 2,
      "outputs": []
    },
    {
      "cell_type": "code",
      "source": [
        "import os\n",
        "from google.colab import drive\n",
        "drive.mount('/content/drive')"
      ],
      "metadata": {
        "colab": {
          "base_uri": "https://localhost:8080/"
        },
        "id": "2NHAO0b7i1WO",
        "outputId": "e08e18d1-a256-4c14-b762-f5a1ab790077"
      },
      "execution_count": 3,
      "outputs": [
        {
          "output_type": "stream",
          "name": "stdout",
          "text": [
            "Drive already mounted at /content/drive; to attempt to forcibly remount, call drive.mount(\"/content/drive\", force_remount=True).\n"
          ]
        }
      ]
    },
    {
      "cell_type": "code",
      "source": [
        "\n",
        "# Create a Spark session\n",
        "spark = SparkSession.builder.appName(\"ReadingCsvExample\").getOrCreate()\n",
        "\n",
        "# Load your CSV file into a DataFrame\n",
        "# Replace 'your_file.csv' with the actual file path\n",
        "data_calm1= spark.read.csv(\"/content/drive/MyDrive/data/calm1_features.csv\", header=True, inferSchema=True)\n"
      ],
      "metadata": {
        "id": "TUqwLGUJi4mL"
      },
      "execution_count": 4,
      "outputs": []
    },
    {
      "cell_type": "code",
      "source": [
        "data_calm1.printSchema()"
      ],
      "metadata": {
        "colab": {
          "base_uri": "https://localhost:8080/"
        },
        "id": "19J5UvvwjL42",
        "outputId": "80315d4d-fa9f-43dc-dd67-e2260f2fa4dd"
      },
      "execution_count": 6,
      "outputs": [
        {
          "output_type": "stream",
          "name": "stdout",
          "text": [
            "root\n",
            " |-- track_name: string (nullable = true)\n",
            " |-- track_uri: string (nullable = true)\n",
            " |-- artist_name: string (nullable = true)\n",
            " |-- acousticness: double (nullable = true)\n",
            " |-- danceability: double (nullable = true)\n",
            " |-- energy: double (nullable = true)\n",
            " |-- instrumentalness: double (nullable = true)\n",
            " |-- liveness: double (nullable = true)\n",
            " |-- loudness: double (nullable = true)\n",
            " |-- speechiness: double (nullable = true)\n",
            " |-- tempo: double (nullable = true)\n",
            " |-- valence: double (nullable = true)\n",
            " |-- Mood: string (nullable = true)\n",
            "\n"
          ]
        }
      ]
    },
    {
      "cell_type": "code",
      "source": [
        "data_calm1.columns"
      ],
      "metadata": {
        "colab": {
          "base_uri": "https://localhost:8080/"
        },
        "id": "t5ms1nYgjTn8",
        "outputId": "9fddacc4-6246-4c29-d165-6203514edb87"
      },
      "execution_count": 7,
      "outputs": [
        {
          "output_type": "execute_result",
          "data": {
            "text/plain": [
              "['track_name',\n",
              " 'track_uri',\n",
              " 'artist_name',\n",
              " 'acousticness',\n",
              " 'danceability',\n",
              " 'energy',\n",
              " 'instrumentalness',\n",
              " 'liveness',\n",
              " 'loudness',\n",
              " 'speechiness',\n",
              " 'tempo',\n",
              " 'valence',\n",
              " 'Mood']"
            ]
          },
          "metadata": {},
          "execution_count": 7
        }
      ]
    },
    {
      "cell_type": "code",
      "source": [
        "data_calm1.show()"
      ],
      "metadata": {
        "colab": {
          "base_uri": "https://localhost:8080/"
        },
        "id": "R_jEnn_EkvxB",
        "outputId": "ea3a8ec4-0a1b-4ff6-fab8-df3e491b19f5"
      },
      "execution_count": 8,
      "outputs": [
        {
          "output_type": "stream",
          "name": "stdout",
          "text": [
            "+--------------------+--------------------+----------------+------------+------------+------+----------------+--------+--------+-----------+-------+-------+----+\n",
            "|          track_name|           track_uri|     artist_name|acousticness|danceability|energy|instrumentalness|liveness|loudness|speechiness|  tempo|valence|Mood|\n",
            "+--------------------+--------------------+----------------+------------+------------+------+----------------+--------+--------+-----------+-------+-------+----+\n",
            "|Samjhawan - Lofi ...|spotify:track:1KP...|             KSW|       0.453|        0.58| 0.418|         0.00151|    0.28| -10.307|     0.0295|107.031|  0.168|Calm|\n",
            "|   Saibo - Lofi Flip|spotify:track:1E1...|           VIBIE|       0.965|       0.323| 0.349|         0.00548|   0.116| -12.524|     0.0761|180.203|    0.2|Calm|\n",
            "|Tera Hone Laga Ho...|spotify:track:6PE...|          Pritam|       0.485|       0.478| 0.393|          0.0699|   0.126| -13.627|     0.0433| 113.72|  0.128|Calm|\n",
            "|  Iktara - Lofi Flip|spotify:track:7JO...|     Kavita Seth|       0.225|       0.382|  0.52|          0.0506|   0.427| -12.319|     0.0366|159.894|  0.179|Calm|\n",
            "|   Pee Loon Lofi Mix|spotify:track:5EI...|          Pritam|       0.658|       0.322| 0.439|         2.15E-6|   0.557|  -6.807|     0.0441| 74.472|  0.423|Calm|\n",
            "|O Re Piya - Lofi Mix|spotify:track:13K...|  Salim–Sulaiman|       0.785|       0.255| 0.412|           0.541|  0.0932|  -12.43|     0.0326| 95.727|  0.129|Calm|\n",
            "| Saiyyan - Lofi Flip|spotify:track:77I...|    Kailash Kher|       0.961|        0.52| 0.464|           0.855|   0.183|  -8.963|      0.124|179.978|  0.132|Calm|\n",
            "|Tu Jaane Naa (Lof...|spotify:track:0Th...|          Pritam|       0.574|       0.518| 0.719|         6.97E-5|    0.22|  -4.863|     0.0414|115.032|  0.286|Calm|\n",
            "|Dil Diyan Gallan ...|spotify:track:0LM...|  Vishal-Shekhar|       0.942|       0.661|  0.33|            0.82|   0.109| -13.622|     0.0318| 94.991|  0.255|Calm|\n",
            "|Piya O Re Piya (L...|spotify:track:4Xd...|      Atif Aslam|        0.81|       0.358| 0.329|         9.12E-6|   0.164| -13.108|     0.0326| 84.579|  0.145|Calm|\n",
            "| Paniyon Sa Lofi Mix|spotify:track:1li...|     Tulsi Kumar|       0.838|         0.5| 0.342|          0.0538|   0.174| -11.542|     0.0323|136.193|  0.179|Calm|\n",
            "| Tum Tak - Lofi Flip|spotify:track:4Dv...|Deepanshu Ruhela|       0.174|       0.696| 0.451|         4.84E-5|   0.722|  -9.711|     0.0317|116.997|  0.396|Calm|\n",
            "|Tum Mile - Lofi Flip|spotify:track:1Cs...|             KSW|       0.218|       0.711| 0.579|           0.053|    0.32| -11.059|     0.0363| 114.96|   0.21|Calm|\n",
            "|Raanjhanaa - Lofi...|spotify:track:3TE...|    Silent Ocean|       0.788|       0.272| 0.473|           0.119|   0.949|  -11.03|     0.0944| 200.01|  0.323|Calm|\n",
            "|Main Rang Sharbat...|spotify:track:11n...|          Pritam|       0.679|       0.547|  0.43|           0.396|   0.112| -10.917|     0.0311| 79.923|  0.501|Calm|\n",
            "|      Ilahi Lofi Mix|spotify:track:0Gu...|          Pritam|       0.204|       0.372| 0.635|          0.0116|   0.368|  -6.367|     0.0337| 94.318| 0.0673|Calm|\n",
            "|Shayad X Samjhawa...|spotify:track:6qS...|           Amtee|       0.891|       0.542| 0.412|             0.0|   0.109|  -9.544|     0.0315|105.132|  0.267|Calm|\n",
            "|Kesariya - Lofi Flip|spotify:track:7ns...|           VIBIE|       0.213|       0.602|  0.41|         1.19E-6|   0.235| -12.368|     0.0391|  95.02| 0.0671|Calm|\n",
            "|Hawayein - Lofi Flip|spotify:track:5w1...|           VIBIE|       0.875|       0.489| 0.313|          0.0125|   0.235| -14.965|     0.0633| 114.71|  0.332|Calm|\n",
            "|\"Phir Aur Kya Cha...|spotify:track:5QW...|    Sachin-Jigar|       0.531|       0.556| 0.552|             0.0|   0.121|  -5.875|     0.0373|100.051|  0.531|Calm|\n",
            "+--------------------+--------------------+----------------+------------+------------+------+----------------+--------+--------+-----------+-------+-------+----+\n",
            "only showing top 20 rows\n",
            "\n"
          ]
        }
      ]
    },
    {
      "cell_type": "code",
      "source": [
        "for k in data_calm1.columns:\n",
        "    print(k,data_calm1.where(col(k).isNull()).count())\n"
      ],
      "metadata": {
        "colab": {
          "base_uri": "https://localhost:8080/"
        },
        "id": "ICMeyFtnlOjU",
        "outputId": "3440e5aa-53eb-4ed5-e69a-537c8a9449a8"
      },
      "execution_count": 9,
      "outputs": [
        {
          "output_type": "stream",
          "name": "stdout",
          "text": [
            "track_name 35\n",
            "track_uri 0\n",
            "artist_name 35\n",
            "acousticness 0\n",
            "danceability 0\n",
            "energy 0\n",
            "instrumentalness 0\n",
            "liveness 0\n",
            "loudness 0\n",
            "speechiness 0\n",
            "tempo 0\n",
            "valence 0\n",
            "Mood 0\n"
          ]
        }
      ]
    },
    {
      "cell_type": "code",
      "source": [
        "data_calm_withoutnull1= data_calm1.dropna()"
      ],
      "metadata": {
        "id": "SO6y08z_lj0E"
      },
      "execution_count": 10,
      "outputs": []
    },
    {
      "cell_type": "code",
      "source": [
        "for k in data_calm_withoutnull1.columns:\n",
        "    print(k,data_calm_withoutnull1.where(col(k).isNull()).count())"
      ],
      "metadata": {
        "colab": {
          "base_uri": "https://localhost:8080/"
        },
        "id": "4_Q8OynTl9EO",
        "outputId": "7f96a850-4742-459a-cc51-3b10370da397"
      },
      "execution_count": 11,
      "outputs": [
        {
          "output_type": "stream",
          "name": "stdout",
          "text": [
            "track_name 0\n",
            "track_uri 0\n",
            "artist_name 0\n",
            "acousticness 0\n",
            "danceability 0\n",
            "energy 0\n",
            "instrumentalness 0\n",
            "liveness 0\n",
            "loudness 0\n",
            "speechiness 0\n",
            "tempo 0\n",
            "valence 0\n",
            "Mood 0\n"
          ]
        }
      ]
    },
    {
      "cell_type": "code",
      "source": [
        "data_calm2= spark.read.csv(\"/content/drive/MyDrive/data/calm2_features.csv\", header=True, inferSchema=True)\n"
      ],
      "metadata": {
        "id": "XuF2Ymm2jX74"
      },
      "execution_count": 12,
      "outputs": []
    },
    {
      "cell_type": "code",
      "source": [
        "data_calm2.columns"
      ],
      "metadata": {
        "colab": {
          "base_uri": "https://localhost:8080/"
        },
        "id": "9vCKtwHcj0TC",
        "outputId": "ba8e0927-9486-4b01-8738-1259eaa4e4b8"
      },
      "execution_count": 13,
      "outputs": [
        {
          "output_type": "execute_result",
          "data": {
            "text/plain": [
              "['track_name',\n",
              " 'track_uri',\n",
              " 'artist_name',\n",
              " 'acousticness',\n",
              " 'danceability',\n",
              " 'energy',\n",
              " 'instrumentalness',\n",
              " 'liveness',\n",
              " 'loudness',\n",
              " 'speechiness',\n",
              " 'tempo',\n",
              " 'valence',\n",
              " 'Mood']"
            ]
          },
          "metadata": {},
          "execution_count": 13
        }
      ]
    },
    {
      "cell_type": "code",
      "source": [
        "data_calm2.show()"
      ],
      "metadata": {
        "colab": {
          "base_uri": "https://localhost:8080/"
        },
        "id": "0X8UDK-akjoI",
        "outputId": "ac3d1f83-6515-40a7-f5d5-076cbb50f5c6"
      },
      "execution_count": 14,
      "outputs": [
        {
          "output_type": "stream",
          "name": "stdout",
          "text": [
            "+--------------------+--------------------+-------------+------------+------------+------+----------------+--------+--------+-----------+-------+-------+----+\n",
            "|          track_name|           track_uri|  artist_name|acousticness|danceability|energy|instrumentalness|liveness|loudness|speechiness|  tempo|valence|Mood|\n",
            "+--------------------+--------------------+-------------+------------+------------+------+----------------+--------+--------+-----------+-------+-------+----+\n",
            "|Creepin' (with Th...|spotify:track:2dH...| Metro Boomin|       0.417|       0.715|  0.62|             0.0|  0.0822|  -6.005|     0.0484|  97.95|  0.172|Calm|\n",
            "|  Let Me Down Slowly|spotify:track:2qx...|Alec Benjamin|        0.74|       0.652| 0.557|             0.0|   0.124|  -5.714|     0.0318|150.073|  0.483|Calm|\n",
            "|          Let Her Go|spotify:track:6Gm...|    Passenger|       0.365|       0.479| 0.545|             0.0|  0.0963|  -7.346|     0.0688| 74.897|  0.244|Calm|\n",
            "|          Photograph|spotify:track:1HN...|   Ed Sheeran|       0.607|       0.614| 0.379|         4.64E-4|  0.0986|  -10.48|     0.0476|107.989|  0.201|Calm|\n",
            "|           All of Me|spotify:track:3U4...|  John Legend|       0.922|       0.422| 0.264|             0.0|   0.132|  -7.064|     0.0322| 119.93|  0.331|Calm|\n",
            "|            Memories|spotify:track:2b8...|     Maroon 5|       0.837|       0.764|  0.32|             0.0|  0.0822|  -7.209|     0.0546| 91.019|  0.575|Calm|\n",
            "|             Miracle|spotify:track:25e...|  Lone Tusker|       0.303|       0.635|   0.7|         0.00189|   0.403|  -7.426|     0.0423|120.081|  0.161|Calm|\n",
            "|Stuck with U (wit...|spotify:track:4HB...|Ariana Grande|       0.223|       0.597|  0.45|             0.0|   0.382|  -6.658|     0.0418|178.765|  0.537|Calm|\n",
            "|                Stay|spotify:track:5bu...|  Lone Tusker|       0.557|       0.693| 0.701|          0.0209|   0.344|  -8.632|     0.0346|123.983|  0.448|Calm|\n",
            "|            Señorita|spotify:track:0TK...| Shawn Mendes|       0.037|       0.759|  0.54|             0.0|  0.0945|  -6.039|     0.0287|116.947|   0.75|Calm|\n",
            "|     Smooth Operator|spotify:track:3z9...|  Lone Tusker|      0.0249|        0.65| 0.645|         1.64E-5|   0.154|  -7.823|       0.05|120.034|  0.328|Calm|\n",
            "|             Perfect|spotify:track:0tg...|   Ed Sheeran|       0.163|       0.599| 0.448|             0.0|   0.106|  -6.312|     0.0232|  95.05|  0.168|Calm|\n",
            "|    The Night We Met|spotify:track:3hR...|   Lord Huron|       0.969|       0.544| 0.369|           0.279|   0.639|  -9.514|      0.038|  87.01|  0.102|Calm|\n",
            "|            Chemical|spotify:track:0wM...|  Lone Tusker|       0.391|       0.579| 0.834|          0.0269|   0.357|  -6.954|     0.0376|128.064|  0.291|Calm|\n",
            "|       Before You Go|spotify:track:7ce...|Lewis Capaldi|       0.604|       0.459| 0.575|             0.0|  0.0885|  -4.858|     0.0573|111.881|  0.183|Calm|\n",
            "|            Softcore|spotify:track:5TU...|  Lone Tusker|        0.39|       0.607| 0.744|           0.012|   0.152|  -7.609|     0.0517|102.011|  0.295|Calm|\n",
            "|    I Like Me Better|spotify:track:1wj...|         Lauv|       0.535|       0.752| 0.505|         2.55E-6|   0.104|  -7.621|      0.253|  91.97|  0.419|Calm|\n",
            "|     Blinding Lights|spotify:track:0wI...|    Revelries|       0.178|        0.61| 0.711|             0.0|   0.373|  -6.661|     0.0797|  99.99|    0.5|Calm|\n",
            "|           This City|spotify:track:3H3...|  Sam Fischer|       0.733|       0.605| 0.377|             0.0|  0.0808|  -6.213|     0.0443| 73.877|  0.519|Calm|\n",
            "|               Roses|spotify:track:0fV...|       HeɅven|       0.107|       0.719| 0.726|          6.8E-4|   0.124|  -7.188|     0.0281|112.017|   0.49|Calm|\n",
            "+--------------------+--------------------+-------------+------------+------------+------+----------------+--------+--------+-----------+-------+-------+----+\n",
            "only showing top 20 rows\n",
            "\n"
          ]
        }
      ]
    },
    {
      "cell_type": "code",
      "source": [
        "data_calm2.printSchema()"
      ],
      "metadata": {
        "colab": {
          "base_uri": "https://localhost:8080/"
        },
        "id": "ULo7ddUAj7vE",
        "outputId": "288f2e16-6aa1-4db2-fd59-844a80192a37"
      },
      "execution_count": 15,
      "outputs": [
        {
          "output_type": "stream",
          "name": "stdout",
          "text": [
            "root\n",
            " |-- track_name: string (nullable = true)\n",
            " |-- track_uri: string (nullable = true)\n",
            " |-- artist_name: string (nullable = true)\n",
            " |-- acousticness: double (nullable = true)\n",
            " |-- danceability: double (nullable = true)\n",
            " |-- energy: double (nullable = true)\n",
            " |-- instrumentalness: double (nullable = true)\n",
            " |-- liveness: double (nullable = true)\n",
            " |-- loudness: double (nullable = true)\n",
            " |-- speechiness: double (nullable = true)\n",
            " |-- tempo: double (nullable = true)\n",
            " |-- valence: double (nullable = true)\n",
            " |-- Mood: string (nullable = true)\n",
            "\n"
          ]
        }
      ]
    },
    {
      "cell_type": "code",
      "source": [
        "for k in data_calm2.columns:\n",
        "    print(k,data_calm2.where(col(k).isNull()).count())\n"
      ],
      "metadata": {
        "colab": {
          "base_uri": "https://localhost:8080/"
        },
        "id": "dCebbysMnd_Z",
        "outputId": "60b9c5eb-9a09-4a5c-af29-78220505b152"
      },
      "execution_count": 16,
      "outputs": [
        {
          "output_type": "stream",
          "name": "stdout",
          "text": [
            "track_name 1\n",
            "track_uri 0\n",
            "artist_name 1\n",
            "acousticness 0\n",
            "danceability 0\n",
            "energy 0\n",
            "instrumentalness 0\n",
            "liveness 0\n",
            "loudness 0\n",
            "speechiness 0\n",
            "tempo 0\n",
            "valence 0\n",
            "Mood 0\n"
          ]
        }
      ]
    },
    {
      "cell_type": "code",
      "source": [
        "data_calm_withoutnull2= data_calm2.dropna()"
      ],
      "metadata": {
        "id": "QnMezR7JnlS9"
      },
      "execution_count": 17,
      "outputs": []
    },
    {
      "cell_type": "code",
      "source": [
        "for k in data_calm_withoutnull2.columns:\n",
        "    print(k,data_calm_withoutnull2.where(col(k).isNull()).count())\n"
      ],
      "metadata": {
        "colab": {
          "base_uri": "https://localhost:8080/"
        },
        "id": "8uT_Y-O0nsq9",
        "outputId": "840ac602-4bf7-4560-fe37-7f52c50baad7"
      },
      "execution_count": 18,
      "outputs": [
        {
          "output_type": "stream",
          "name": "stdout",
          "text": [
            "track_name 0\n",
            "track_uri 0\n",
            "artist_name 0\n",
            "acousticness 0\n",
            "danceability 0\n",
            "energy 0\n",
            "instrumentalness 0\n",
            "liveness 0\n",
            "loudness 0\n",
            "speechiness 0\n",
            "tempo 0\n",
            "valence 0\n",
            "Mood 0\n"
          ]
        }
      ]
    },
    {
      "cell_type": "code",
      "source": [
        "data_energetic1= spark.read.csv(\"/content/drive/MyDrive/data/energetic1_features.csv\", header=True, inferSchema=True)\n"
      ],
      "metadata": {
        "id": "Jqm9ExRTj-_K"
      },
      "execution_count": 19,
      "outputs": []
    },
    {
      "cell_type": "code",
      "source": [
        "data_energetic1.printSchema()"
      ],
      "metadata": {
        "colab": {
          "base_uri": "https://localhost:8080/"
        },
        "id": "8FC_G7_akLka",
        "outputId": "3d50d923-3bcd-4b48-8867-87ac61cce95f"
      },
      "execution_count": 20,
      "outputs": [
        {
          "output_type": "stream",
          "name": "stdout",
          "text": [
            "root\n",
            " |-- track_name: string (nullable = true)\n",
            " |-- track_uri: string (nullable = true)\n",
            " |-- artist_name: string (nullable = true)\n",
            " |-- acousticness: double (nullable = true)\n",
            " |-- danceability: double (nullable = true)\n",
            " |-- energy: double (nullable = true)\n",
            " |-- instrumentalness: double (nullable = true)\n",
            " |-- liveness: double (nullable = true)\n",
            " |-- loudness: double (nullable = true)\n",
            " |-- speechiness: double (nullable = true)\n",
            " |-- tempo: double (nullable = true)\n",
            " |-- valence: double (nullable = true)\n",
            " |-- Mood: string (nullable = true)\n",
            "\n"
          ]
        }
      ]
    },
    {
      "cell_type": "code",
      "source": [
        "data_energetic1.columns"
      ],
      "metadata": {
        "colab": {
          "base_uri": "https://localhost:8080/"
        },
        "id": "KCyey71GkQCJ",
        "outputId": "b1998859-0293-473e-f67f-99fb994688e5"
      },
      "execution_count": 21,
      "outputs": [
        {
          "output_type": "execute_result",
          "data": {
            "text/plain": [
              "['track_name',\n",
              " 'track_uri',\n",
              " 'artist_name',\n",
              " 'acousticness',\n",
              " 'danceability',\n",
              " 'energy',\n",
              " 'instrumentalness',\n",
              " 'liveness',\n",
              " 'loudness',\n",
              " 'speechiness',\n",
              " 'tempo',\n",
              " 'valence',\n",
              " 'Mood']"
            ]
          },
          "metadata": {},
          "execution_count": 21
        }
      ]
    },
    {
      "cell_type": "code",
      "source": [
        "\n",
        "# Get the number of rows\n",
        "num_rows = data_energetic1.count()\n",
        "num_rows\n",
        "\n"
      ],
      "metadata": {
        "colab": {
          "base_uri": "https://localhost:8080/"
        },
        "id": "1qOFuKwGpLcB",
        "outputId": "99696fd8-d463-457c-be2a-ed5f5874567f"
      },
      "execution_count": 22,
      "outputs": [
        {
          "output_type": "execute_result",
          "data": {
            "text/plain": [
              "1718"
            ]
          },
          "metadata": {},
          "execution_count": 22
        }
      ]
    },
    {
      "cell_type": "code",
      "source": [
        "# Get the number of columns\n",
        "num_columns = len(data_energetic1.columns)\n",
        "num_columns"
      ],
      "metadata": {
        "colab": {
          "base_uri": "https://localhost:8080/"
        },
        "id": "Sf_xqUAupWSG",
        "outputId": "c75c703d-22fa-479d-d3df-4b03d0ebb5d5"
      },
      "execution_count": 23,
      "outputs": [
        {
          "output_type": "execute_result",
          "data": {
            "text/plain": [
              "13"
            ]
          },
          "metadata": {},
          "execution_count": 23
        }
      ]
    },
    {
      "cell_type": "code",
      "source": [
        "data_energetic1.show()"
      ],
      "metadata": {
        "colab": {
          "base_uri": "https://localhost:8080/"
        },
        "id": "62wqbttmkXG4",
        "outputId": "78629258-3178-467a-e11a-3c9fcb0c9217"
      },
      "execution_count": 24,
      "outputs": [
        {
          "output_type": "stream",
          "name": "stdout",
          "text": [
            "+--------------------+--------------------+--------------------+------------+------------+------+----------------+--------+--------+-----------+-------+-------+---------+\n",
            "|          track_name|           track_uri|         artist_name|acousticness|danceability|energy|instrumentalness|liveness|loudness|speechiness|  tempo|valence|     Mood|\n",
            "+--------------------+--------------------+--------------------+------------+------------+------+----------------+--------+--------+-----------+-------+-------+---------+\n",
            "|Taki Taki (feat. ...|spotify:track:0Ko...|            DJ Snake|       0.157|       0.842| 0.801|         4.82E-6|  0.0642|  -4.167|      0.228| 95.881|  0.617|Energetic|\n",
            "|     Let Me Love You|spotify:track:5Qj...|            DJ Snake|      0.0838|       0.492| 0.714|         3.11E-5|    0.13|  -5.327|     0.0442| 99.602|  0.146|Energetic|\n",
            "|Calm Down (with S...|spotify:track:0Wt...|                Rema|       0.382|       0.801| 0.806|         6.69E-4|   0.114|  -5.206|     0.0381|106.999|  0.802|Energetic|\n",
            "|Dusk Till Dawn (f...|spotify:track:1j4...|                ZAYN|       0.102|       0.259| 0.437|         1.32E-6|   0.106|  -6.589|     0.0386|180.042| 0.0951|Energetic|\n",
            "|       Wrecking Ball|spotify:track:2vw...|         Miley Cyrus|       0.407|        0.53| 0.422|             0.0|   0.107|  -6.262|     0.0342|119.964|  0.349|Energetic|\n",
            "|        Heart Attack|spotify:track:1zp...|    Enrique Iglesias|      0.0639|       0.553| 0.892|             0.0|   0.426|  -4.039|     0.0667|  77.01|  0.479|Energetic|\n",
            "|We Are Never Ever...|spotify:track:1F6...|        Taylor Swift|      0.0105|       0.624| 0.685|         2.22E-5|   0.126|  -5.902|       0.12| 86.059|  0.781|Energetic|\n",
            "|Hips Don't Lie (f...|spotify:track:3ZF...|             Shakira|       0.284|       0.778| 0.824|             0.0|   0.405|  -5.892|     0.0707|100.024|  0.758|Energetic|\n",
            "|Hey Mama (feat. N...|spotify:track:285...|        David Guetta|        0.24|       0.596|  0.73|             0.0|   0.325|  -4.091|      0.151| 85.979|  0.525|Energetic|\n",
            "|Timber (feat. Ke$ha)|spotify:track:1zH...|             Pitbull|      0.0362|       0.587| 0.965|             0.0|   0.138|  -4.106|      0.101|129.972|  0.825|Energetic|\n",
            "|         Temperature|spotify:track:0k2...|           Sean Paul|       0.106|       0.951|   0.6|             0.0|  0.0712|  -4.675|     0.0685| 125.04|  0.822|Energetic|\n",
            "|Toca Toca - Radio...|spotify:track:2yL...|         Fly Project|      0.0211|       0.907|  0.61|         3.28E-5|  0.0317|  -4.588|     0.0922|125.975|  0.926|Energetic|\n",
            "|TOKYO HEAT (Tokyo...|spotify:track:7oE...|            C.H.A.Y.|      0.0073|       0.753| 0.635|          0.0104|  0.0773|  -5.968|     0.0472|126.975|  0.802|Energetic|\n",
            "|Believer - Kaskad...|spotify:track:6ai...|     Imagine Dragons|       0.181|        0.73| 0.634|         2.24E-6|   0.118|  -5.084|     0.0509|126.022|  0.182|Energetic|\n",
            "|Can't Hold Us (fe...|spotify:track:3bi...|Macklemore & Ryan...|      0.0291|       0.641| 0.922|             0.0|  0.0862|  -4.457|     0.0786|146.078|  0.847|Energetic|\n",
            "|             Starboy|spotify:track:7MX...|          The Weeknd|       0.141|       0.679| 0.587|         6.35E-6|   0.137|  -7.015|      0.276|186.003|  0.486|Energetic|\n",
            "|       Cheap Thrills|spotify:track:27S...|                 Sia|      0.0472|       0.628| 0.698|         0.00143|  0.0907|  -5.608|      0.105| 89.976|  0.732|Energetic|\n",
            "|        Dance Monkey|spotify:track:2XU...|         Tones And I|       0.692|       0.824| 0.588|         1.04E-4|   0.149|    -6.4|     0.0924| 98.027|  0.513|Energetic|\n",
            "|               Sorry|spotify:track:09C...|       Justin Bieber|      0.0797|       0.654|  0.76|             0.0|   0.299|  -3.669|      0.045| 99.945|   0.41|Energetic|\n",
            "|  You Belong With Me|spotify:track:6mq...|        Taylor Swift|       0.151|       0.688| 0.775|         1.98E-5|   0.104|  -4.436|     0.0381|129.969|  0.469|Energetic|\n",
            "+--------------------+--------------------+--------------------+------------+------------+------+----------------+--------+--------+-----------+-------+-------+---------+\n",
            "only showing top 20 rows\n",
            "\n"
          ]
        }
      ]
    },
    {
      "cell_type": "code",
      "source": [
        "for k in data_energetic1.columns:\n",
        "    print(k,data_energetic1.where(col(k).isNull()).count())\n"
      ],
      "metadata": {
        "colab": {
          "base_uri": "https://localhost:8080/"
        },
        "id": "Ej7aKUqjkTu4",
        "outputId": "239be7df-3bd3-45bc-9a0b-08e09c97900d"
      },
      "execution_count": 25,
      "outputs": [
        {
          "output_type": "stream",
          "name": "stdout",
          "text": [
            "track_name 14\n",
            "track_uri 0\n",
            "artist_name 14\n",
            "acousticness 0\n",
            "danceability 0\n",
            "energy 0\n",
            "instrumentalness 0\n",
            "liveness 0\n",
            "loudness 0\n",
            "speechiness 0\n",
            "tempo 0\n",
            "valence 0\n",
            "Mood 0\n"
          ]
        }
      ]
    },
    {
      "cell_type": "code",
      "source": [
        "data_energetic_withoutnull1= data_energetic1.dropna()"
      ],
      "metadata": {
        "id": "zPJbgm0yoHts"
      },
      "execution_count": 26,
      "outputs": []
    },
    {
      "cell_type": "code",
      "source": [
        "for k in data_energetic_withoutnull1.columns:\n",
        "    print(k,data_energetic_withoutnull1.where(col(k).isNull()).count())\n"
      ],
      "metadata": {
        "colab": {
          "base_uri": "https://localhost:8080/"
        },
        "id": "UhqgRsAvoWlr",
        "outputId": "3b2d9af3-b366-430a-d30c-c42669cf6cab"
      },
      "execution_count": 27,
      "outputs": [
        {
          "output_type": "stream",
          "name": "stdout",
          "text": [
            "track_name 0\n",
            "track_uri 0\n",
            "artist_name 0\n",
            "acousticness 0\n",
            "danceability 0\n",
            "energy 0\n",
            "instrumentalness 0\n",
            "liveness 0\n",
            "loudness 0\n",
            "speechiness 0\n",
            "tempo 0\n",
            "valence 0\n",
            "Mood 0\n"
          ]
        }
      ]
    },
    {
      "cell_type": "code",
      "source": [
        "\n",
        "# Get the number of rows\n",
        "num_rows =data_energetic_withoutnull1.count()\n",
        "num_rows\n",
        "\n"
      ],
      "metadata": {
        "colab": {
          "base_uri": "https://localhost:8080/"
        },
        "id": "WifKjEaapbRm",
        "outputId": "c69bf37c-fb12-42f8-98fa-4d99393560d7"
      },
      "execution_count": 28,
      "outputs": [
        {
          "output_type": "execute_result",
          "data": {
            "text/plain": [
              "1704"
            ]
          },
          "metadata": {},
          "execution_count": 28
        }
      ]
    },
    {
      "cell_type": "code",
      "source": [
        "# Get the number of columns\n",
        "num_columns = len(data_energetic_withoutnull1.columns)\n",
        "num_columns"
      ],
      "metadata": {
        "colab": {
          "base_uri": "https://localhost:8080/"
        },
        "id": "QQ16mNQvpf-I",
        "outputId": "f620b12c-cf51-420d-a4a5-33640ce13985"
      },
      "execution_count": 29,
      "outputs": [
        {
          "output_type": "execute_result",
          "data": {
            "text/plain": [
              "13"
            ]
          },
          "metadata": {},
          "execution_count": 29
        }
      ]
    },
    {
      "cell_type": "code",
      "source": [],
      "metadata": {
        "id": "YSQqOsDJpcd6"
      },
      "execution_count": 29,
      "outputs": []
    },
    {
      "cell_type": "code",
      "source": [
        "data_energetic2= spark.read.csv(\"/content/drive/MyDrive/data/energetic2__features.csv\", header=True, inferSchema=True)\n"
      ],
      "metadata": {
        "id": "xKAw6e6-oc2h"
      },
      "execution_count": 30,
      "outputs": []
    },
    {
      "cell_type": "code",
      "source": [
        "data_energetic2.printSchema()"
      ],
      "metadata": {
        "colab": {
          "base_uri": "https://localhost:8080/"
        },
        "id": "o7NrYwkIoqIL",
        "outputId": "b15f3bd0-f050-4e42-a9a9-44b126c87707"
      },
      "execution_count": 31,
      "outputs": [
        {
          "output_type": "stream",
          "name": "stdout",
          "text": [
            "root\n",
            " |-- track_name: string (nullable = true)\n",
            " |-- track_uri: string (nullable = true)\n",
            " |-- artist_name: string (nullable = true)\n",
            " |-- acousticness: string (nullable = true)\n",
            " |-- danceability: string (nullable = true)\n",
            " |-- energy: double (nullable = true)\n",
            " |-- instrumentalness: double (nullable = true)\n",
            " |-- liveness: double (nullable = true)\n",
            " |-- loudness: double (nullable = true)\n",
            " |-- speechiness: double (nullable = true)\n",
            " |-- tempo: double (nullable = true)\n",
            " |-- valence: double (nullable = true)\n",
            " |-- Mood: string (nullable = true)\n",
            "\n"
          ]
        }
      ]
    },
    {
      "cell_type": "code",
      "source": [
        "data_energetic2.columns"
      ],
      "metadata": {
        "colab": {
          "base_uri": "https://localhost:8080/"
        },
        "id": "LBWtKgjbouL-",
        "outputId": "b3973e92-d809-4a7e-a03c-147dcb3f1d19"
      },
      "execution_count": 32,
      "outputs": [
        {
          "output_type": "execute_result",
          "data": {
            "text/plain": [
              "['track_name',\n",
              " 'track_uri',\n",
              " 'artist_name',\n",
              " 'acousticness',\n",
              " 'danceability',\n",
              " 'energy',\n",
              " 'instrumentalness',\n",
              " 'liveness',\n",
              " 'loudness',\n",
              " 'speechiness',\n",
              " 'tempo',\n",
              " 'valence',\n",
              " 'Mood']"
            ]
          },
          "metadata": {},
          "execution_count": 32
        }
      ]
    },
    {
      "cell_type": "code",
      "source": [
        "for k in data_energetic2.columns:\n",
        "    print(k,data_energetic2.where(col(k).isNull()).count())\n"
      ],
      "metadata": {
        "colab": {
          "base_uri": "https://localhost:8080/"
        },
        "id": "DxXdPghlo0XI",
        "outputId": "416da1e6-a262-4014-ddf4-dd9356f65c20"
      },
      "execution_count": 33,
      "outputs": [
        {
          "output_type": "stream",
          "name": "stdout",
          "text": [
            "track_name 86\n",
            "track_uri 0\n",
            "artist_name 86\n",
            "acousticness 0\n",
            "danceability 0\n",
            "energy 0\n",
            "instrumentalness 0\n",
            "liveness 0\n",
            "loudness 0\n",
            "speechiness 0\n",
            "tempo 0\n",
            "valence 0\n",
            "Mood 0\n"
          ]
        }
      ]
    },
    {
      "cell_type": "code",
      "source": [
        "\n",
        "# Get the number of rows\n",
        "num_rows =data_energetic2.count()\n",
        "num_rows\n",
        "\n"
      ],
      "metadata": {
        "colab": {
          "base_uri": "https://localhost:8080/"
        },
        "id": "mGpIpiQjo-mU",
        "outputId": "77144f30-8b2d-48c3-c515-960018e7d3a9"
      },
      "execution_count": 34,
      "outputs": [
        {
          "output_type": "execute_result",
          "data": {
            "text/plain": [
              "992"
            ]
          },
          "metadata": {},
          "execution_count": 34
        }
      ]
    },
    {
      "cell_type": "code",
      "source": [
        "# Get the number of columns\n",
        "num_columns = len(data_energetic2.columns)\n",
        "num_columns"
      ],
      "metadata": {
        "colab": {
          "base_uri": "https://localhost:8080/"
        },
        "id": "skdpFBiGpv2s",
        "outputId": "61cd89da-29ff-45f4-9b54-e43187866c98"
      },
      "execution_count": 35,
      "outputs": [
        {
          "output_type": "execute_result",
          "data": {
            "text/plain": [
              "13"
            ]
          },
          "metadata": {},
          "execution_count": 35
        }
      ]
    },
    {
      "cell_type": "code",
      "source": [
        "data_energetic_withoutnull2= data_energetic2.dropna()"
      ],
      "metadata": {
        "id": "xHytZniAp4Qb"
      },
      "execution_count": 36,
      "outputs": []
    },
    {
      "cell_type": "code",
      "source": [
        "for k in data_energetic_withoutnull2.columns:\n",
        "    print(k,data_energetic_withoutnull2.where(col(k).isNull()).count())\n"
      ],
      "metadata": {
        "colab": {
          "base_uri": "https://localhost:8080/"
        },
        "id": "Z6jHdebrqGaK",
        "outputId": "c1d937d4-2744-4f8a-b9a2-151cda918f05"
      },
      "execution_count": 37,
      "outputs": [
        {
          "output_type": "stream",
          "name": "stdout",
          "text": [
            "track_name 0\n",
            "track_uri 0\n",
            "artist_name 0\n",
            "acousticness 0\n",
            "danceability 0\n",
            "energy 0\n",
            "instrumentalness 0\n",
            "liveness 0\n",
            "loudness 0\n",
            "speechiness 0\n",
            "tempo 0\n",
            "valence 0\n",
            "Mood 0\n"
          ]
        }
      ]
    },
    {
      "cell_type": "code",
      "source": [
        "\n",
        "# Get the number of rows\n",
        "num_rows =data_energetic_withoutnull2.count()\n",
        "num_rows\n",
        "\n"
      ],
      "metadata": {
        "colab": {
          "base_uri": "https://localhost:8080/"
        },
        "id": "Qj-F_L34qOLF",
        "outputId": "a2b233f3-1e44-48da-bd8a-b446d888d0e7"
      },
      "execution_count": 38,
      "outputs": [
        {
          "output_type": "execute_result",
          "data": {
            "text/plain": [
              "906"
            ]
          },
          "metadata": {},
          "execution_count": 38
        }
      ]
    },
    {
      "cell_type": "code",
      "source": [
        "data_happy1= spark.read.csv(\"/content/drive/MyDrive/data/happy1_features.csv\", header=True, inferSchema=True)\n"
      ],
      "metadata": {
        "id": "UyazHKXPqbfF"
      },
      "execution_count": 39,
      "outputs": []
    },
    {
      "cell_type": "code",
      "source": [
        "data_happy1.printSchema()"
      ],
      "metadata": {
        "colab": {
          "base_uri": "https://localhost:8080/"
        },
        "id": "tccYTy-aqZ2V",
        "outputId": "df5f00c6-e760-4ed9-997d-e0237f6dda95"
      },
      "execution_count": 40,
      "outputs": [
        {
          "output_type": "stream",
          "name": "stdout",
          "text": [
            "root\n",
            " |-- track_name: string (nullable = true)\n",
            " |-- track_uri: string (nullable = true)\n",
            " |-- artist_name: string (nullable = true)\n",
            " |-- acousticness: double (nullable = true)\n",
            " |-- danceability: double (nullable = true)\n",
            " |-- energy: double (nullable = true)\n",
            " |-- instrumentalness: double (nullable = true)\n",
            " |-- liveness: double (nullable = true)\n",
            " |-- loudness: double (nullable = true)\n",
            " |-- speechiness: double (nullable = true)\n",
            " |-- tempo: double (nullable = true)\n",
            " |-- valence: double (nullable = true)\n",
            " |-- Mood: string (nullable = true)\n",
            "\n"
          ]
        }
      ]
    },
    {
      "cell_type": "code",
      "source": [
        "data_happy1.columns"
      ],
      "metadata": {
        "colab": {
          "base_uri": "https://localhost:8080/"
        },
        "id": "itlEw4xxq0M0",
        "outputId": "3e1612a2-b387-48a4-c1c1-c7452572cff7"
      },
      "execution_count": 41,
      "outputs": [
        {
          "output_type": "execute_result",
          "data": {
            "text/plain": [
              "['track_name',\n",
              " 'track_uri',\n",
              " 'artist_name',\n",
              " 'acousticness',\n",
              " 'danceability',\n",
              " 'energy',\n",
              " 'instrumentalness',\n",
              " 'liveness',\n",
              " 'loudness',\n",
              " 'speechiness',\n",
              " 'tempo',\n",
              " 'valence',\n",
              " 'Mood']"
            ]
          },
          "metadata": {},
          "execution_count": 41
        }
      ]
    },
    {
      "cell_type": "code",
      "source": [
        "data_happy1.show()"
      ],
      "metadata": {
        "colab": {
          "base_uri": "https://localhost:8080/"
        },
        "id": "PudHvqBLvrZE",
        "outputId": "bc0b795c-6fe9-47af-bf6a-d475bfb0a3e3"
      },
      "execution_count": 42,
      "outputs": [
        {
          "output_type": "stream",
          "name": "stdout",
          "text": [
            "+--------------------+--------------------+------------------+------------+------------+------+----------------+--------+--------+-----------+-------+-------+-----+\n",
            "|          track_name|           track_uri|       artist_name|acousticness|danceability|energy|instrumentalness|liveness|loudness|speechiness|  tempo|valence| Mood|\n",
            "+--------------------+--------------------+------------------+------------+------------+------+----------------+--------+--------+-----------+-------+-------+-----+\n",
            "|              Bahara|spotify:track:1gw...|    Vishal-Shekhar|      0.0716|       0.595| 0.739|         6.98E-6|   0.134|  -6.733|     0.0359| 87.834|  0.722|Happy|\n",
            "|            Bin Tere|spotify:track:3bZ...|    Vishal-Shekhar|        0.42|       0.585| 0.698|         3.59E-6|   0.363|  -6.261|     0.0392|139.831|  0.621|Happy|\n",
            "|\"Pani Da Rang Mal...|spotify:track:6eT...|Ayushmann Khurrana|       0.272|       0.679| 0.622|         6.52E-5|   0.106|  -8.514|     0.0328| 98.028|  0.483|Happy|\n",
            "|\"Tum Hi Ho Bandhu...|spotify:track:2zZ...|   Neeraj Shridhar|     0.00145|       0.714| 0.892|         8.17E-4|  0.0462|  -5.342|     0.0516|134.997|  0.899|Happy|\n",
            "|\"Chaiyya Chaiyya ...|spotify:track:7lt...|  Sukhwinder Singh|       0.186|       0.786| 0.579|             0.0|   0.118| -14.913|      0.142| 90.012|  0.481|Happy|\n",
            "|       Dance Basanti|spotify:track:1Nx...|      Sachin-Jigar|       0.166|       0.833|  0.74|         2.74E-6|   0.363|  -4.513|      0.129|103.035|  0.804|Happy|\n",
            "|    Nagada Sang Dhol|spotify:track:1tl...|    Shreya Ghoshal|        0.29|       0.743| 0.921|          0.0068|  0.0402|  -5.007|       0.14|113.284|  0.674|Happy|\n",
            "|   Jab Se Tere Naina|spotify:track:0gR...|      Monty Sharma|       0.362|       0.599| 0.653|             0.0|   0.144|  -7.576|      0.122| 79.968|  0.678|Happy|\n",
            "|      Kar Gayi Chull|spotify:track:3fP...|           Badshah|      0.0316|       0.827| 0.737|         3.22E-4|   0.211|  -5.473|     0.0764| 121.99|  0.873|Happy|\n",
            "|Bahara - Chill Ve...|spotify:track:049...|    Vishal-Shekhar|       0.363|       0.657| 0.685|         0.00806|   0.129|  -6.667|     0.0797| 87.966|  0.705|Happy|\n",
            "|            Kamariya|spotify:track:5HJ...|       Lijo George|       0.284|       0.337| 0.963|             0.0|   0.281|   -2.93|      0.296| 62.481|  0.405|Happy|\n",
            "|\"Cutiepie (From \"...|spotify:track:7hX...|            Pritam|       0.253|       0.799| 0.929|         4.62E-4|    0.24|  -3.231|     0.0668|127.999|  0.952|Happy|\n",
            "|           Bom Diggy|spotify:track:7Dh...|       Zack Knight|       0.273|       0.793| 0.777|             0.0|   0.144|  -5.636|      0.197|103.956|  0.528|Happy|\n",
            "|         Lamberghini|spotify:track:45P...|      The Doorbeen|       0.543|       0.953| 0.584|             0.0|  0.0786|   -7.57|     0.0518|104.007|  0.861|Happy|\n",
            "|             Chogada|spotify:track:1HB...|     Darshan Raval|       0.136|       0.359| 0.972|         2.52E-6|    0.14|  -3.452|      0.109| 62.914|  0.595|Happy|\n",
            "|         Let's Nacho|spotify:track:4mQ...|           Nucleya|      0.0906|       0.742| 0.947|          0.0221|  0.0721|  -3.749|     0.0321|130.043|   0.88|Happy|\n",
            "|\"The Breakup Song...|spotify:track:7Bj...|            Pritam|        0.33|       0.818|  0.93|             0.0|   0.658|  -2.982|      0.247|113.988|  0.831|Happy|\n",
            "|\"Channa Mereya (F...|spotify:track:1pl...|            Pritam|        0.24|       0.476| 0.788|         2.64E-5|   0.106|  -4.821|     0.0448| 90.066|  0.747|Happy|\n",
            "|\"High Rated Gabru...|spotify:track:1oz...|     Guru Randhawa|       0.118|       0.685| 0.841|             0.0|    0.26|  -2.932|     0.0942| 97.929|   0.59|Happy|\n",
            "|              Iktara|spotify:track:3jt...|      Amit Trivedi|       0.401|       0.616| 0.525|         4.84E-4|   0.309|  -7.065|     0.0258| 79.976|  0.427|Happy|\n",
            "+--------------------+--------------------+------------------+------------+------------+------+----------------+--------+--------+-----------+-------+-------+-----+\n",
            "only showing top 20 rows\n",
            "\n"
          ]
        }
      ]
    },
    {
      "cell_type": "code",
      "source": [
        "for k in data_happy1.columns:\n",
        "    print(k,data_happy1.where(col(k).isNull()).count())\n"
      ],
      "metadata": {
        "colab": {
          "base_uri": "https://localhost:8080/"
        },
        "id": "DsY2Bjvbq7Qb",
        "outputId": "c2ddce1d-33c5-4bbc-b684-96996356aeec"
      },
      "execution_count": 43,
      "outputs": [
        {
          "output_type": "stream",
          "name": "stdout",
          "text": [
            "track_name 91\n",
            "track_uri 0\n",
            "artist_name 91\n",
            "acousticness 0\n",
            "danceability 0\n",
            "energy 0\n",
            "instrumentalness 0\n",
            "liveness 0\n",
            "loudness 0\n",
            "speechiness 0\n",
            "tempo 0\n",
            "valence 0\n",
            "Mood 0\n"
          ]
        }
      ]
    },
    {
      "cell_type": "code",
      "source": [
        "\n",
        "# Get the number of rows\n",
        "num_rows =data_happy1.count()\n",
        "num_rows\n",
        "\n"
      ],
      "metadata": {
        "colab": {
          "base_uri": "https://localhost:8080/"
        },
        "id": "lvRuHpP3rD8l",
        "outputId": "b846f4c7-3602-4c38-886f-a5ab9c68a3e0"
      },
      "execution_count": 44,
      "outputs": [
        {
          "output_type": "execute_result",
          "data": {
            "text/plain": [
              "1288"
            ]
          },
          "metadata": {},
          "execution_count": 44
        }
      ]
    },
    {
      "cell_type": "code",
      "source": [
        "# Get the number of columns\n",
        "num_columns = len(data_happy1.columns)\n",
        "num_columns"
      ],
      "metadata": {
        "colab": {
          "base_uri": "https://localhost:8080/"
        },
        "id": "JVFRPGSCrJLz",
        "outputId": "7d51a485-ea9a-4f63-9dd1-f866b36c90c4"
      },
      "execution_count": 45,
      "outputs": [
        {
          "output_type": "execute_result",
          "data": {
            "text/plain": [
              "13"
            ]
          },
          "metadata": {},
          "execution_count": 45
        }
      ]
    },
    {
      "cell_type": "code",
      "source": [
        "data_happy_withoutnull1= data_happy1.dropna()"
      ],
      "metadata": {
        "id": "fuR-HP62rWhq"
      },
      "execution_count": 46,
      "outputs": []
    },
    {
      "cell_type": "code",
      "source": [
        "for k in data_happy_withoutnull1.columns:\n",
        "    print(k,data_happy_withoutnull1.where(col(k).isNull()).count())\n"
      ],
      "metadata": {
        "colab": {
          "base_uri": "https://localhost:8080/"
        },
        "id": "rlWJAMuvsFp4",
        "outputId": "5568757d-3bdf-48a1-ec1c-dbfff8daf36d"
      },
      "execution_count": 47,
      "outputs": [
        {
          "output_type": "stream",
          "name": "stdout",
          "text": [
            "track_name 0\n",
            "track_uri 0\n",
            "artist_name 0\n",
            "acousticness 0\n",
            "danceability 0\n",
            "energy 0\n",
            "instrumentalness 0\n",
            "liveness 0\n",
            "loudness 0\n",
            "speechiness 0\n",
            "tempo 0\n",
            "valence 0\n",
            "Mood 0\n"
          ]
        }
      ]
    },
    {
      "cell_type": "code",
      "source": [
        "#after removing the null values\n",
        "# Get the number of rows\n",
        "num_rows =data_happy_withoutnull1.count()\n",
        "num_rows\n"
      ],
      "metadata": {
        "colab": {
          "base_uri": "https://localhost:8080/"
        },
        "id": "hPEvsa7WsN9D",
        "outputId": "fc4ebc72-5bd4-484b-abf7-2d3357e67ed7"
      },
      "execution_count": 48,
      "outputs": [
        {
          "output_type": "execute_result",
          "data": {
            "text/plain": [
              "1197"
            ]
          },
          "metadata": {},
          "execution_count": 48
        }
      ]
    },
    {
      "cell_type": "code",
      "source": [
        "data_happy2= spark.read.csv(\"/content/drive/MyDrive/data/happy2_features.csv\", header=True, inferSchema=True)\n"
      ],
      "metadata": {
        "id": "bfZwesG7sX7d"
      },
      "execution_count": 49,
      "outputs": []
    },
    {
      "cell_type": "code",
      "source": [
        "data_happy2.columns"
      ],
      "metadata": {
        "colab": {
          "base_uri": "https://localhost:8080/"
        },
        "id": "Zc5NAbfGtINx",
        "outputId": "9d608196-d6d9-4ce9-c6ff-96f5ea8b1c7e"
      },
      "execution_count": 50,
      "outputs": [
        {
          "output_type": "execute_result",
          "data": {
            "text/plain": [
              "['Unnamed: 0',\n",
              " 'track_name',\n",
              " 'track_uri',\n",
              " 'artist_name',\n",
              " 'song_features',\n",
              " 'acousticness',\n",
              " 'danceability',\n",
              " 'energy',\n",
              " 'instrumentalness',\n",
              " 'liveness',\n",
              " 'loudness',\n",
              " 'speechiness',\n",
              " 'tempo',\n",
              " 'valence',\n",
              " 'Mood']"
            ]
          },
          "metadata": {},
          "execution_count": 50
        }
      ]
    },
    {
      "cell_type": "code",
      "source": [
        "data_happy2.printSchema()"
      ],
      "metadata": {
        "colab": {
          "base_uri": "https://localhost:8080/"
        },
        "id": "Sx_adijXuXwU",
        "outputId": "f838d9df-53c8-4362-d3da-d2b1688135d4"
      },
      "execution_count": 51,
      "outputs": [
        {
          "output_type": "stream",
          "name": "stdout",
          "text": [
            "root\n",
            " |-- Unnamed: 0: integer (nullable = true)\n",
            " |-- track_name: string (nullable = true)\n",
            " |-- track_uri: string (nullable = true)\n",
            " |-- artist_name: string (nullable = true)\n",
            " |-- song_features: string (nullable = true)\n",
            " |-- acousticness: double (nullable = true)\n",
            " |-- danceability: double (nullable = true)\n",
            " |-- energy: double (nullable = true)\n",
            " |-- instrumentalness: double (nullable = true)\n",
            " |-- liveness: double (nullable = true)\n",
            " |-- loudness: double (nullable = true)\n",
            " |-- speechiness: double (nullable = true)\n",
            " |-- tempo: double (nullable = true)\n",
            " |-- valence: double (nullable = true)\n",
            " |-- Mood: string (nullable = true)\n",
            "\n"
          ]
        }
      ]
    },
    {
      "cell_type": "code",
      "source": [
        "#checking for the null data\n",
        "for k in data_happy2.columns:\n",
        "    print(k,data_happy2.where(col(k).isNull()).count())\n"
      ],
      "metadata": {
        "colab": {
          "base_uri": "https://localhost:8080/"
        },
        "id": "LKC8wM_DubTM",
        "outputId": "a5fce96c-6470-448f-f5b5-f29a3dc1648f"
      },
      "execution_count": 52,
      "outputs": [
        {
          "output_type": "stream",
          "name": "stdout",
          "text": [
            "Unnamed: 0 0\n",
            "track_name 6\n",
            "track_uri 0\n",
            "artist_name 7\n",
            "song_features 3\n",
            "acousticness 3\n",
            "danceability 3\n",
            "energy 3\n",
            "instrumentalness 3\n",
            "liveness 3\n",
            "loudness 3\n",
            "speechiness 3\n",
            "tempo 3\n",
            "valence 3\n",
            "Mood 0\n"
          ]
        }
      ]
    },
    {
      "cell_type": "code",
      "source": [
        "# Get the number of columns\n",
        "num_columns = len(data_happy2.columns)\n",
        "num_columns"
      ],
      "metadata": {
        "colab": {
          "base_uri": "https://localhost:8080/"
        },
        "id": "5ScCYM7_vLol",
        "outputId": "cb4df2d2-0001-44d8-eb73-fc976a1a4940"
      },
      "execution_count": 53,
      "outputs": [
        {
          "output_type": "execute_result",
          "data": {
            "text/plain": [
              "15"
            ]
          },
          "metadata": {},
          "execution_count": 53
        }
      ]
    },
    {
      "cell_type": "code",
      "source": [
        "data_happy2.show()"
      ],
      "metadata": {
        "colab": {
          "base_uri": "https://localhost:8080/"
        },
        "id": "aAG_vOc4vfe9",
        "outputId": "159e9004-07a1-4102-868b-adeda15de877"
      },
      "execution_count": 54,
      "outputs": [
        {
          "output_type": "stream",
          "name": "stdout",
          "text": [
            "+----------+--------------------+--------------------+-------------------+--------------------+------------+------------+------+----------------+--------+--------+-----------+-------+-------+-----+\n",
            "|Unnamed: 0|          track_name|           track_uri|        artist_name|       song_features|acousticness|danceability|energy|instrumentalness|liveness|loudness|speechiness|  tempo|valence| Mood|\n",
            "+----------+--------------------+--------------------+-------------------+--------------------+------------+------------+------+----------------+--------+--------+-----------+-------+-------+-----+\n",
            "|         0|        Shape of You|spotify:track:7qi...|         Ed Sheeran|{'danceability': ...|       0.581|       0.825| 0.652|             0.0|  0.0931|  -3.183|     0.0802| 95.977|  0.931|Happy|\n",
            "|         1|            Believer|spotify:track:0pq...|    Imagine Dragons|{'danceability': ...|      0.0622|       0.776|  0.78|             0.0|   0.081|  -4.374|      0.128|124.949|  0.666|Happy|\n",
            "|         2|        Stressed Out|spotify:track:3CR...|  Twenty One Pilots|{'danceability': ...|      0.0462|       0.734| 0.637|         2.29E-5|  0.0602|  -5.677|      0.141|169.977|  0.648|Happy|\n",
            "|         3|                Ride|spotify:track:2Z8...|  Twenty One Pilots|{'danceability': ...|     0.00835|       0.645| 0.713|             0.0|   0.113|  -5.355|     0.0393| 74.989|  0.566|Happy|\n",
            "|         4|Just the Way You Are|spotify:track:7Bq...|         Bruno Mars|{'danceability': ...|      0.0134|       0.635| 0.841|             0.0|  0.0622|  -5.379|     0.0422|109.021|  0.424|Happy|\n",
            "|         5|          Without Me|spotify:track:6FZ...|             Halsey|{'danceability': ...|       0.297|       0.752| 0.488|         9.11E-6|  0.0936|   -7.05|     0.0705|136.041|  0.533|Happy|\n",
            "|         6|              Demons|spotify:track:3Ll...|    Imagine Dragons|{'danceability': ...|        0.19|       0.505|  0.71|          2.5E-4|   0.329|  -3.015|     0.0321| 89.938|  0.428|Happy|\n",
            "|         7|I Took A Pill In ...|spotify:track:1Mt...|        Mike Posner|{'danceability': ...|      0.0353|       0.664| 0.714|         8.42E-6|  0.0843|  -6.645|      0.111|101.969|   0.71|Happy|\n",
            "|         8|             7 rings|spotify:track:6oc...|      Ariana Grande|{'danceability': ...|       0.592|       0.778| 0.317|             0.0|  0.0881| -10.732|      0.334|140.048|  0.327|Happy|\n",
            "|         9|break up with you...|spotify:track:4kV...|      Ariana Grande|{'danceability': ...|      0.0421|       0.726| 0.554|             0.0|   0.106|   -5.29|     0.0917|169.999|  0.335|Happy|\n",
            "|        10|               Hello|spotify:track:4sP...|              Adele|{'danceability': ...|       0.336|       0.481| 0.451|             0.0|  0.0872|  -6.095|     0.0347|157.966|  0.289|Happy|\n",
            "|        11|                Roar|spotify:track:27t...|         Katy Perry|{'danceability': ...|     0.00492|       0.671| 0.771|         7.28E-6|   0.354|  -4.821|     0.0316| 90.003|  0.436|Happy|\n",
            "|        12|             Cradles|spotify:track:1y4...|          Sub Urban|{'danceability': ...|       0.256|       0.534| 0.589|         6.02E-5|   0.176|  -1.865|      0.325| 78.616|  0.632|Happy|\n",
            "|        13|          Youngblood|spotify:track:2iU...|5 Seconds of Summer|{'danceability': ...|      0.0169|       0.596| 0.854|             0.0|   0.124|  -5.114|      0.463|120.274|  0.152|Happy|\n",
            "|        14|       thank u, next|spotify:track:3e9...|      Ariana Grande|{'danceability': ...|       0.229|       0.717| 0.653|             0.0|   0.101|  -5.634|     0.0658|106.966|  0.412|Happy|\n",
            "|        15|     Don't Start Now|spotify:track:3Pf...|           Dua Lipa|{'danceability': ...|      0.0123|       0.793| 0.793|             0.0|  0.0951|  -4.521|      0.083| 123.95|  0.679|Happy|\n",
            "|        16|    Don't Call Me Up|spotify:track:5WH...|              Mabel|{'danceability': ...|       0.296|       0.674| 0.881|         3.01E-6|  0.0793|  -2.853|      0.147| 98.994|  0.234|Happy|\n",
            "|        17| All About That Bass|spotify:track:5jE...|     Meghan Trainor|{'danceability': ...|      0.0573|       0.807| 0.887|         2.87E-6|   0.124|  -3.726|     0.0503|134.052|  0.961|Happy|\n",
            "|        18|             bad guy|spotify:track:2Fx...|      Billie Eilish|{'danceability': ...|       0.328|       0.701| 0.425|            0.13|     0.1| -10.965|      0.375|135.128|  0.562|Happy|\n",
            "|        19|             Happier|spotify:track:2dp...|         Marshmello|{'danceability': ...|       0.191|       0.687| 0.792|             0.0|   0.167|  -2.749|     0.0452|100.015|  0.671|Happy|\n",
            "+----------+--------------------+--------------------+-------------------+--------------------+------------+------------+------+----------------+--------+--------+-----------+-------+-------+-----+\n",
            "only showing top 20 rows\n",
            "\n"
          ]
        }
      ]
    },
    {
      "cell_type": "code",
      "source": [
        "#dropping the mood (categorical) column\n",
        "columns_to_drop =[\"Unnamed: 0\",\"song_features\"]\n",
        "data_happy2= data_happy2.drop(*columns_to_drop)"
      ],
      "metadata": {
        "id": "UmFf5g39wqd3"
      },
      "execution_count": 55,
      "outputs": []
    },
    {
      "cell_type": "code",
      "source": [
        "data_happy2.show()"
      ],
      "metadata": {
        "colab": {
          "base_uri": "https://localhost:8080/"
        },
        "id": "ZlEwUbZ1wxSr",
        "outputId": "28998f8d-41a8-4293-9238-684193496bf3"
      },
      "execution_count": 56,
      "outputs": [
        {
          "output_type": "stream",
          "name": "stdout",
          "text": [
            "+--------------------+--------------------+-------------------+------------+------------+------+----------------+--------+--------+-----------+-------+-------+-----+\n",
            "|          track_name|           track_uri|        artist_name|acousticness|danceability|energy|instrumentalness|liveness|loudness|speechiness|  tempo|valence| Mood|\n",
            "+--------------------+--------------------+-------------------+------------+------------+------+----------------+--------+--------+-----------+-------+-------+-----+\n",
            "|        Shape of You|spotify:track:7qi...|         Ed Sheeran|       0.581|       0.825| 0.652|             0.0|  0.0931|  -3.183|     0.0802| 95.977|  0.931|Happy|\n",
            "|            Believer|spotify:track:0pq...|    Imagine Dragons|      0.0622|       0.776|  0.78|             0.0|   0.081|  -4.374|      0.128|124.949|  0.666|Happy|\n",
            "|        Stressed Out|spotify:track:3CR...|  Twenty One Pilots|      0.0462|       0.734| 0.637|         2.29E-5|  0.0602|  -5.677|      0.141|169.977|  0.648|Happy|\n",
            "|                Ride|spotify:track:2Z8...|  Twenty One Pilots|     0.00835|       0.645| 0.713|             0.0|   0.113|  -5.355|     0.0393| 74.989|  0.566|Happy|\n",
            "|Just the Way You Are|spotify:track:7Bq...|         Bruno Mars|      0.0134|       0.635| 0.841|             0.0|  0.0622|  -5.379|     0.0422|109.021|  0.424|Happy|\n",
            "|          Without Me|spotify:track:6FZ...|             Halsey|       0.297|       0.752| 0.488|         9.11E-6|  0.0936|   -7.05|     0.0705|136.041|  0.533|Happy|\n",
            "|              Demons|spotify:track:3Ll...|    Imagine Dragons|        0.19|       0.505|  0.71|          2.5E-4|   0.329|  -3.015|     0.0321| 89.938|  0.428|Happy|\n",
            "|I Took A Pill In ...|spotify:track:1Mt...|        Mike Posner|      0.0353|       0.664| 0.714|         8.42E-6|  0.0843|  -6.645|      0.111|101.969|   0.71|Happy|\n",
            "|             7 rings|spotify:track:6oc...|      Ariana Grande|       0.592|       0.778| 0.317|             0.0|  0.0881| -10.732|      0.334|140.048|  0.327|Happy|\n",
            "|break up with you...|spotify:track:4kV...|      Ariana Grande|      0.0421|       0.726| 0.554|             0.0|   0.106|   -5.29|     0.0917|169.999|  0.335|Happy|\n",
            "|               Hello|spotify:track:4sP...|              Adele|       0.336|       0.481| 0.451|             0.0|  0.0872|  -6.095|     0.0347|157.966|  0.289|Happy|\n",
            "|                Roar|spotify:track:27t...|         Katy Perry|     0.00492|       0.671| 0.771|         7.28E-6|   0.354|  -4.821|     0.0316| 90.003|  0.436|Happy|\n",
            "|             Cradles|spotify:track:1y4...|          Sub Urban|       0.256|       0.534| 0.589|         6.02E-5|   0.176|  -1.865|      0.325| 78.616|  0.632|Happy|\n",
            "|          Youngblood|spotify:track:2iU...|5 Seconds of Summer|      0.0169|       0.596| 0.854|             0.0|   0.124|  -5.114|      0.463|120.274|  0.152|Happy|\n",
            "|       thank u, next|spotify:track:3e9...|      Ariana Grande|       0.229|       0.717| 0.653|             0.0|   0.101|  -5.634|     0.0658|106.966|  0.412|Happy|\n",
            "|     Don't Start Now|spotify:track:3Pf...|           Dua Lipa|      0.0123|       0.793| 0.793|             0.0|  0.0951|  -4.521|      0.083| 123.95|  0.679|Happy|\n",
            "|    Don't Call Me Up|spotify:track:5WH...|              Mabel|       0.296|       0.674| 0.881|         3.01E-6|  0.0793|  -2.853|      0.147| 98.994|  0.234|Happy|\n",
            "| All About That Bass|spotify:track:5jE...|     Meghan Trainor|      0.0573|       0.807| 0.887|         2.87E-6|   0.124|  -3.726|     0.0503|134.052|  0.961|Happy|\n",
            "|             bad guy|spotify:track:2Fx...|      Billie Eilish|       0.328|       0.701| 0.425|            0.13|     0.1| -10.965|      0.375|135.128|  0.562|Happy|\n",
            "|             Happier|spotify:track:2dp...|         Marshmello|       0.191|       0.687| 0.792|             0.0|   0.167|  -2.749|     0.0452|100.015|  0.671|Happy|\n",
            "+--------------------+--------------------+-------------------+------------+------------+------+----------------+--------+--------+-----------+-------+-------+-----+\n",
            "only showing top 20 rows\n",
            "\n"
          ]
        }
      ]
    },
    {
      "cell_type": "code",
      "source": [
        "\n",
        "# Get the number of rows\n",
        "num_rows =data_happy2.count()\n",
        "num_rows\n",
        "\n"
      ],
      "metadata": {
        "colab": {
          "base_uri": "https://localhost:8080/"
        },
        "id": "P92lGPlvx650",
        "outputId": "2e398207-9f2d-48e2-cb48-3f74e1f5fcd1"
      },
      "execution_count": 57,
      "outputs": [
        {
          "output_type": "execute_result",
          "data": {
            "text/plain": [
              "1120"
            ]
          },
          "metadata": {},
          "execution_count": 57
        }
      ]
    },
    {
      "cell_type": "code",
      "source": [
        "# Get the number of columns\n",
        "num_columns = len(data_happy2.columns)\n",
        "num_columns"
      ],
      "metadata": {
        "colab": {
          "base_uri": "https://localhost:8080/"
        },
        "id": "-a5WNW4dyGE5",
        "outputId": "3f321147-e9d7-4b25-85a0-1a0c1cec6821"
      },
      "execution_count": 58,
      "outputs": [
        {
          "output_type": "execute_result",
          "data": {
            "text/plain": [
              "13"
            ]
          },
          "metadata": {},
          "execution_count": 58
        }
      ]
    },
    {
      "cell_type": "code",
      "source": [
        "data_happy_withoutnull2= data_happy2.dropna()"
      ],
      "metadata": {
        "id": "xdiuytpkulIl"
      },
      "execution_count": 59,
      "outputs": []
    },
    {
      "cell_type": "code",
      "source": [
        "#checking for the null data\n",
        "for k in data_happy_withoutnull2.columns:\n",
        "    print(k,data_happy_withoutnull2.where(col(k).isNull()).count())\n"
      ],
      "metadata": {
        "colab": {
          "base_uri": "https://localhost:8080/"
        },
        "id": "6229hGwNuug5",
        "outputId": "02649236-3978-4aca-e7c1-d1b81c5f7908"
      },
      "execution_count": 60,
      "outputs": [
        {
          "output_type": "stream",
          "name": "stdout",
          "text": [
            "track_name 0\n",
            "track_uri 0\n",
            "artist_name 0\n",
            "acousticness 0\n",
            "danceability 0\n",
            "energy 0\n",
            "instrumentalness 0\n",
            "liveness 0\n",
            "loudness 0\n",
            "speechiness 0\n",
            "tempo 0\n",
            "valence 0\n",
            "Mood 0\n"
          ]
        }
      ]
    },
    {
      "cell_type": "code",
      "source": [
        "#after removing the null values\n",
        "# Get the number of rows\n",
        "num_rows =data_happy_withoutnull2.count()\n",
        "num_rows\n"
      ],
      "metadata": {
        "colab": {
          "base_uri": "https://localhost:8080/"
        },
        "id": "TJVFVbXbu1IY",
        "outputId": "c6758498-e942-478a-a300-059f41caf282"
      },
      "execution_count": 61,
      "outputs": [
        {
          "output_type": "execute_result",
          "data": {
            "text/plain": [
              "1111"
            ]
          },
          "metadata": {},
          "execution_count": 61
        }
      ]
    },
    {
      "cell_type": "code",
      "source": [
        "data_sad1= spark.read.csv(\"/content/drive/MyDrive/data/sad1_features.csv\", header=True, inferSchema=True)\n"
      ],
      "metadata": {
        "id": "_df7wdKWvI1o"
      },
      "execution_count": 62,
      "outputs": []
    },
    {
      "cell_type": "code",
      "source": [
        "data_sad1.columns"
      ],
      "metadata": {
        "colab": {
          "base_uri": "https://localhost:8080/"
        },
        "id": "eJXF8dL9ykcC",
        "outputId": "8159e7dc-ca79-431d-8487-94bd621d57a6"
      },
      "execution_count": 63,
      "outputs": [
        {
          "output_type": "execute_result",
          "data": {
            "text/plain": [
              "['Unnamed: 0',\n",
              " 'track_name',\n",
              " 'track_uri',\n",
              " 'artist_name',\n",
              " 'song_features',\n",
              " 'acousticness',\n",
              " 'danceability',\n",
              " 'energy',\n",
              " 'instrumentalness',\n",
              " 'liveness',\n",
              " 'loudness',\n",
              " 'speechiness',\n",
              " 'tempo',\n",
              " 'valence',\n",
              " 'Mood']"
            ]
          },
          "metadata": {},
          "execution_count": 63
        }
      ]
    },
    {
      "cell_type": "code",
      "source": [
        "data_sad1.printSchema()"
      ],
      "metadata": {
        "colab": {
          "base_uri": "https://localhost:8080/"
        },
        "id": "Lj6RFbmSysph",
        "outputId": "184b8636-813b-4f42-e551-15692163869d"
      },
      "execution_count": 64,
      "outputs": [
        {
          "output_type": "stream",
          "name": "stdout",
          "text": [
            "root\n",
            " |-- Unnamed: 0: integer (nullable = true)\n",
            " |-- track_name: string (nullable = true)\n",
            " |-- track_uri: string (nullable = true)\n",
            " |-- artist_name: string (nullable = true)\n",
            " |-- song_features: string (nullable = true)\n",
            " |-- acousticness: double (nullable = true)\n",
            " |-- danceability: double (nullable = true)\n",
            " |-- energy: double (nullable = true)\n",
            " |-- instrumentalness: double (nullable = true)\n",
            " |-- liveness: double (nullable = true)\n",
            " |-- loudness: double (nullable = true)\n",
            " |-- speechiness: double (nullable = true)\n",
            " |-- tempo: double (nullable = true)\n",
            " |-- valence: double (nullable = true)\n",
            " |-- Mood: string (nullable = true)\n",
            "\n"
          ]
        }
      ]
    },
    {
      "cell_type": "code",
      "source": [
        "\n",
        "# Get the number of rows\n",
        "num_rows =data_sad1.count()\n",
        "num_rows\n",
        "\n"
      ],
      "metadata": {
        "colab": {
          "base_uri": "https://localhost:8080/"
        },
        "id": "o3K61eLwzLRy",
        "outputId": "b171b024-c635-4d60-83f8-8124d769ba22"
      },
      "execution_count": 65,
      "outputs": [
        {
          "output_type": "execute_result",
          "data": {
            "text/plain": [
              "1481"
            ]
          },
          "metadata": {},
          "execution_count": 65
        }
      ]
    },
    {
      "cell_type": "code",
      "source": [
        "# Get the number of columns\n",
        "num_columns = len(data_sad1.columns)\n",
        "num_columns"
      ],
      "metadata": {
        "colab": {
          "base_uri": "https://localhost:8080/"
        },
        "id": "5IvYHg_0y4de",
        "outputId": "67a70863-073b-4dda-ff6f-0c9567578180"
      },
      "execution_count": 66,
      "outputs": [
        {
          "output_type": "execute_result",
          "data": {
            "text/plain": [
              "15"
            ]
          },
          "metadata": {},
          "execution_count": 66
        }
      ]
    },
    {
      "cell_type": "code",
      "source": [
        "data_sad1.show()"
      ],
      "metadata": {
        "colab": {
          "base_uri": "https://localhost:8080/"
        },
        "id": "skC_deaGzYOR",
        "outputId": "2c7f8552-6d54-4d96-a5f9-3e12c3ae4af3"
      },
      "execution_count": 67,
      "outputs": [
        {
          "output_type": "stream",
          "name": "stdout",
          "text": [
            "+----------+--------------------+--------------------+----------------+--------------------+------------+------------+------+----------------+--------+--------+-----------+-------+-------+----+\n",
            "|Unnamed: 0|          track_name|           track_uri|     artist_name|       song_features|acousticness|danceability|energy|instrumentalness|liveness|loudness|speechiness|  tempo|valence|Mood|\n",
            "+----------+--------------------+--------------------+----------------+--------------------+------------+------------+------+----------------+--------+--------+-----------+-------+-------+----+\n",
            "|         0|slipping through ...|spotify:track:4vB...|       90degrees|{'danceability': ...|       0.396|       0.509|  0.57|             0.0|  0.0986|    -6.7|     0.0284| 80.134|  0.324| Sad|\n",
            "|         1|    Always - Sped Up|spotify:track:2eM...|        Rainsomn|{'danceability': ...|       0.949|       0.756| 0.269|          0.0801|   0.157|  -9.164|     0.0323| 86.409|  0.229| Sad|\n",
            "|         2|Reckless - Slowed...|spotify:track:7Lh...|          Kausak|{'danceability': ...|        0.76|       0.276| 0.357|             0.0|  0.0796|  -9.717|     0.0434|201.512|  0.326| Sad|\n",
            "|         3|slipping through ...|spotify:track:7B5...|        Vallvete|{'danceability': ...|       0.143|       0.541| 0.416|             0.0|  0.0907|  -7.745|     0.0271|116.466|  0.286| Sad|\n",
            "|         4|           Moving On|spotify:track:7uk...|      Lola Yulia|{'danceability': ...|       0.978|       0.542|0.0766|         3.41E-4|   0.106| -18.349|     0.0401| 76.732| 0.0797| Sad|\n",
            "|         5|Angels Like You (...|spotify:track:2Ui...|      Way 2 Fast|{'danceability': ...|       0.561|       0.572| 0.582|             0.0|   0.162|  -6.748|     0.0358|149.187|  0.288| Sad|\n",
            "|         6|   Perfect - Sped-up|spotify:track:03H...|          Denial|{'danceability': ...|       0.375|       0.632| 0.344|             0.0|   0.168| -11.093|     0.0275|114.022|  0.359| Sad|\n",
            "|         7|        Another Love|spotify:track:3Jv...|       Tom Odell|{'danceability': ...|       0.695|       0.445| 0.537|         1.65E-5|  0.0944|  -8.532|       0.04|122.769|  0.131| Sad|\n",
            "|         8|        Closed Doors|spotify:track:0vL...|          Ismail|{'danceability': ...|       0.661|       0.611| 0.483|             0.0|   0.112|  -6.937|     0.0308| 111.97|  0.439| Sad|\n",
            "|         9|Takeaway (slowed ...|spotify:track:7KB...|    Slowed Tunes|{'danceability': ...|       0.434|       0.623| 0.323|             0.0|   0.131|   -9.64|     0.0386| 88.437|  0.323| Sad|\n",
            "|        10|Strong (Sped Up) ...|spotify:track:3Gr...|        Gz Music|{'danceability': ...|       0.011|       0.543| 0.578|         0.00366|   0.151| -11.219|      0.109|149.395|  0.211| Sad|\n",
            "|        11|18 (sped up) - Remix|spotify:track:25u...|  Splice Records|{'danceability': ...|       0.399|       0.566| 0.738|             0.0|   0.132|  -8.318|      0.125|161.192|   0.24| Sad|\n",
            "|        12|Another Love - Sp...|spotify:track:39M...|  Dybbukk Covers|{'danceability': ...|       0.498|       0.427| 0.603|         7.14E-5|   0.169| -12.196|     0.0904|143.577|  0.224| Sad|\n",
            "|        13|      You Are Enough|spotify:track:1Wd...|Sleeping At Last|{'danceability': ...|       0.707|       0.593|   0.5|         1.24E-5|  0.0837|  -8.532|      0.029|117.996|  0.465| Sad|\n",
            "|        14|December (again) ...|spotify:track:1Zt...|       Neck Deep|{'danceability': ...|     9.74E-5|       0.403| 0.953|             0.0|  0.0915|  -3.213|      0.119|160.035|  0.362| Sad|\n",
            "|        15|Car's Outside - S...|spotify:track:6Om...|    James Arthur|{'danceability': ...|      0.0721|       0.212| 0.628|             0.0|   0.196|  -6.628|      0.032| 89.819|  0.467| Sad|\n",
            "|        16|Night Changes - S...|spotify:track:3wk...|          Mr Cat|{'danceability': ...|       0.851|       0.692| 0.653|         0.00781|  0.0945| -11.132|     0.0964|131.997|  0.237| Sad|\n",
            "|        17|N i g h t C h a n...|spotify:track:47B...|  DJ GreyttBlack|{'danceability': ...|       0.479|       0.582| 0.531|             0.0|    0.15| -13.634|     0.0464|148.114|    0.6| Sad|\n",
            "|        18|Rewrite The Stars...|spotify:track:6Ys...|          Kausak|{'danceability': ...|       0.263|       0.408| 0.962|             0.0|   0.229|  -5.077|      0.366|163.703|  0.373| Sad|\n",
            "|        19|The Scientist (sp...|spotify:track:24i...|      accelerate|{'danceability': ...|       0.863|       0.561| 0.505|         4.43E-4|   0.142|   -8.23|     0.0246|176.124|  0.274| Sad|\n",
            "+----------+--------------------+--------------------+----------------+--------------------+------------+------------+------+----------------+--------+--------+-----------+-------+-------+----+\n",
            "only showing top 20 rows\n",
            "\n"
          ]
        }
      ]
    },
    {
      "cell_type": "code",
      "source": [],
      "metadata": {
        "id": "aRBc4Har1QBu"
      },
      "execution_count": 67,
      "outputs": []
    },
    {
      "cell_type": "code",
      "source": [
        "#dropping the mood (categorical) column\n",
        "columns_to_drop =[\"Unnamed: 0\",\"song_features\"]\n",
        "data_sad1= data_sad1.drop(*columns_to_drop)"
      ],
      "metadata": {
        "id": "_dSgwLI4zGQv"
      },
      "execution_count": 68,
      "outputs": []
    },
    {
      "cell_type": "code",
      "source": [
        "\n",
        "# Get the number of rows\n",
        "num_rows =data_sad1.count()\n",
        "num_rows\n",
        "\n"
      ],
      "metadata": {
        "colab": {
          "base_uri": "https://localhost:8080/"
        },
        "id": "WUqERyXT1Fds",
        "outputId": "95d6138b-f40b-4c6e-e703-0393f674cd3a"
      },
      "execution_count": 69,
      "outputs": [
        {
          "output_type": "execute_result",
          "data": {
            "text/plain": [
              "1481"
            ]
          },
          "metadata": {},
          "execution_count": 69
        }
      ]
    },
    {
      "cell_type": "code",
      "source": [
        "# Get the number of columns\n",
        "num_columns = len(data_sad1.columns)\n",
        "num_columns"
      ],
      "metadata": {
        "colab": {
          "base_uri": "https://localhost:8080/"
        },
        "id": "uQbKhU4-1Ki5",
        "outputId": "81465a15-9ea6-468b-afa9-79a3ff7d1ba6"
      },
      "execution_count": 70,
      "outputs": [
        {
          "output_type": "execute_result",
          "data": {
            "text/plain": [
              "13"
            ]
          },
          "metadata": {},
          "execution_count": 70
        }
      ]
    },
    {
      "cell_type": "code",
      "source": [
        "#checking for the null data\n",
        "for k in data_sad1.columns:\n",
        "    print(k,data_sad1.where(col(k).isNull()).count())\n"
      ],
      "metadata": {
        "colab": {
          "base_uri": "https://localhost:8080/"
        },
        "id": "8EJX051N1WIb",
        "outputId": "c8c738aa-f921-44c7-f290-46ed1146ec1f"
      },
      "execution_count": 71,
      "outputs": [
        {
          "output_type": "stream",
          "name": "stdout",
          "text": [
            "track_name 0\n",
            "track_uri 0\n",
            "artist_name 0\n",
            "acousticness 1\n",
            "danceability 1\n",
            "energy 1\n",
            "instrumentalness 1\n",
            "liveness 1\n",
            "loudness 1\n",
            "speechiness 1\n",
            "tempo 1\n",
            "valence 1\n",
            "Mood 0\n"
          ]
        }
      ]
    },
    {
      "cell_type": "code",
      "source": [
        "data_sad_withoutnull1= data_sad1.dropna()"
      ],
      "metadata": {
        "id": "mCshXqIk1h0_"
      },
      "execution_count": 72,
      "outputs": []
    },
    {
      "cell_type": "code",
      "source": [
        "#checking for the null data\n",
        "for k in data_sad_withoutnull1.columns:\n",
        "    print(k,data_sad_withoutnull1.where(col(k).isNull()).count())\n"
      ],
      "metadata": {
        "colab": {
          "base_uri": "https://localhost:8080/"
        },
        "id": "xuTvbg-S11wD",
        "outputId": "ce44ff62-06d6-44d3-f679-662348c17448"
      },
      "execution_count": 73,
      "outputs": [
        {
          "output_type": "stream",
          "name": "stdout",
          "text": [
            "track_name 0\n",
            "track_uri 0\n",
            "artist_name 0\n",
            "acousticness 0\n",
            "danceability 0\n",
            "energy 0\n",
            "instrumentalness 0\n",
            "liveness 0\n",
            "loudness 0\n",
            "speechiness 0\n",
            "tempo 0\n",
            "valence 0\n",
            "Mood 0\n"
          ]
        }
      ]
    },
    {
      "cell_type": "code",
      "source": [
        "\n",
        "# Get the number of rows\n",
        "num_rows =data_sad_withoutnull1.count()\n",
        "num_rows\n",
        "\n"
      ],
      "metadata": {
        "colab": {
          "base_uri": "https://localhost:8080/"
        },
        "id": "n2ZvMD3v3APK",
        "outputId": "5f22d015-9616-4f85-c244-c678aadbe0ba"
      },
      "execution_count": 74,
      "outputs": [
        {
          "output_type": "execute_result",
          "data": {
            "text/plain": [
              "1480"
            ]
          },
          "metadata": {},
          "execution_count": 74
        }
      ]
    },
    {
      "cell_type": "code",
      "source": [
        "# Get the number of columns\n",
        "num_columns = len(data_sad_withoutnull1.columns)\n",
        "num_columns"
      ],
      "metadata": {
        "colab": {
          "base_uri": "https://localhost:8080/"
        },
        "id": "DHL1xa8u4Qln",
        "outputId": "5c6c9529-e134-4ea7-bfde-12403cc2124d"
      },
      "execution_count": 75,
      "outputs": [
        {
          "output_type": "execute_result",
          "data": {
            "text/plain": [
              "13"
            ]
          },
          "metadata": {},
          "execution_count": 75
        }
      ]
    },
    {
      "cell_type": "code",
      "source": [
        "data_sad2= spark.read.csv(\"/content/drive/MyDrive/data/sad3_features.csv\", header=True, inferSchema=True)\n"
      ],
      "metadata": {
        "id": "QSilgRQU4iWJ"
      },
      "execution_count": 76,
      "outputs": []
    },
    {
      "cell_type": "code",
      "source": [
        "data_sad2.columns"
      ],
      "metadata": {
        "colab": {
          "base_uri": "https://localhost:8080/"
        },
        "id": "hvI6rNDD4wAg",
        "outputId": "bdd52bff-7248-4dfa-ad68-6217ce2258ba"
      },
      "execution_count": 77,
      "outputs": [
        {
          "output_type": "execute_result",
          "data": {
            "text/plain": [
              "['track_name',\n",
              " 'track_uri',\n",
              " 'artist_name',\n",
              " 'acousticness',\n",
              " 'danceability',\n",
              " 'energy',\n",
              " 'instrumentalness',\n",
              " 'liveness',\n",
              " 'loudness',\n",
              " 'speechiness',\n",
              " 'tempo',\n",
              " 'valence',\n",
              " 'Mood']"
            ]
          },
          "metadata": {},
          "execution_count": 77
        }
      ]
    },
    {
      "cell_type": "code",
      "source": [
        "#checking for the null data\n",
        "for k in data_sad2.columns:\n",
        "    print(k,data_sad2.where(col(k).isNull()).count())\n"
      ],
      "metadata": {
        "colab": {
          "base_uri": "https://localhost:8080/"
        },
        "id": "JHMd-4p442cY",
        "outputId": "a7d0f4f5-1fe2-4973-e76b-832d7c61248d"
      },
      "execution_count": 78,
      "outputs": [
        {
          "output_type": "stream",
          "name": "stdout",
          "text": [
            "track_name 55\n",
            "track_uri 0\n",
            "artist_name 55\n",
            "acousticness 0\n",
            "danceability 0\n",
            "energy 0\n",
            "instrumentalness 0\n",
            "liveness 0\n",
            "loudness 0\n",
            "speechiness 0\n",
            "tempo 0\n",
            "valence 0\n",
            "Mood 0\n"
          ]
        }
      ]
    },
    {
      "cell_type": "code",
      "source": [
        "\n",
        "# Get the number of rows\n",
        "num_rows =data_sad2.count()\n",
        "num_rows\n",
        "\n"
      ],
      "metadata": {
        "colab": {
          "base_uri": "https://localhost:8080/"
        },
        "id": "LCwkDwhX487z",
        "outputId": "3865eac0-51cf-4496-e487-d77c2d497e85"
      },
      "execution_count": 79,
      "outputs": [
        {
          "output_type": "execute_result",
          "data": {
            "text/plain": [
              "1065"
            ]
          },
          "metadata": {},
          "execution_count": 79
        }
      ]
    },
    {
      "cell_type": "code",
      "source": [
        "# Get the number of columns\n",
        "num_columns = len(data_sad2.columns)\n",
        "num_columns"
      ],
      "metadata": {
        "colab": {
          "base_uri": "https://localhost:8080/"
        },
        "id": "W-41w9U45HZd",
        "outputId": "88777d63-0827-4902-ee30-205a27e11284"
      },
      "execution_count": 80,
      "outputs": [
        {
          "output_type": "execute_result",
          "data": {
            "text/plain": [
              "13"
            ]
          },
          "metadata": {},
          "execution_count": 80
        }
      ]
    },
    {
      "cell_type": "code",
      "source": [
        "data_sad_withoutnull2= data_sad2.dropna()"
      ],
      "metadata": {
        "id": "LzJbgBHZ5NH3"
      },
      "execution_count": 81,
      "outputs": []
    },
    {
      "cell_type": "code",
      "source": [
        "#checking for the null data\n",
        "for k in data_sad_withoutnull2.columns:\n",
        "    print(k,data_sad_withoutnull2.where(col(k).isNull()).count())\n"
      ],
      "metadata": {
        "colab": {
          "base_uri": "https://localhost:8080/"
        },
        "id": "MF0Xz6eT5XHC",
        "outputId": "c94eb313-6f05-4aeb-e78c-146098366280"
      },
      "execution_count": 82,
      "outputs": [
        {
          "output_type": "stream",
          "name": "stdout",
          "text": [
            "track_name 0\n",
            "track_uri 0\n",
            "artist_name 0\n",
            "acousticness 0\n",
            "danceability 0\n",
            "energy 0\n",
            "instrumentalness 0\n",
            "liveness 0\n",
            "loudness 0\n",
            "speechiness 0\n",
            "tempo 0\n",
            "valence 0\n",
            "Mood 0\n"
          ]
        }
      ]
    },
    {
      "cell_type": "code",
      "source": [
        "#after removing the null values\n",
        "# Get the number of rows\n",
        "num_rows =data_sad_withoutnull2.count()\n",
        "num_rows\n",
        "\n"
      ],
      "metadata": {
        "colab": {
          "base_uri": "https://localhost:8080/"
        },
        "id": "mwGYJFwm5fEn",
        "outputId": "da9fdfff-8e6e-4a17-af93-f269c592d4ce"
      },
      "execution_count": 83,
      "outputs": [
        {
          "output_type": "execute_result",
          "data": {
            "text/plain": [
              "1010"
            ]
          },
          "metadata": {},
          "execution_count": 83
        }
      ]
    },
    {
      "cell_type": "code",
      "source": [
        "# Get the number of columns\n",
        "num_columns = len(data_sad_withoutnull2.columns)\n",
        "num_columns"
      ],
      "metadata": {
        "colab": {
          "base_uri": "https://localhost:8080/"
        },
        "id": "hLNBYjtv5mbt",
        "outputId": "1938ece0-9fd4-4298-ee45-bbeae67dd810"
      },
      "execution_count": 84,
      "outputs": [
        {
          "output_type": "execute_result",
          "data": {
            "text/plain": [
              "13"
            ]
          },
          "metadata": {},
          "execution_count": 84
        }
      ]
    },
    {
      "cell_type": "code",
      "source": [
        "# combining the spark dataframe -\n",
        "combined_df_calm = data_calm_withoutnull1.union(data_calm_withoutnull2)"
      ],
      "metadata": {
        "id": "fY0zxYPH5r7D"
      },
      "execution_count": 85,
      "outputs": []
    },
    {
      "cell_type": "code",
      "source": [
        "combined_df_calm.show()"
      ],
      "metadata": {
        "colab": {
          "base_uri": "https://localhost:8080/"
        },
        "id": "jMgzczta6f9H",
        "outputId": "92c50032-60ed-4e73-ec68-082e9e9cb44b"
      },
      "execution_count": 86,
      "outputs": [
        {
          "output_type": "stream",
          "name": "stdout",
          "text": [
            "+--------------------+--------------------+----------------+------------+------------+------+----------------+--------+--------+-----------+-------+-------+----+\n",
            "|          track_name|           track_uri|     artist_name|acousticness|danceability|energy|instrumentalness|liveness|loudness|speechiness|  tempo|valence|Mood|\n",
            "+--------------------+--------------------+----------------+------------+------------+------+----------------+--------+--------+-----------+-------+-------+----+\n",
            "|Samjhawan - Lofi ...|spotify:track:1KP...|             KSW|       0.453|        0.58| 0.418|         0.00151|    0.28| -10.307|     0.0295|107.031|  0.168|Calm|\n",
            "|   Saibo - Lofi Flip|spotify:track:1E1...|           VIBIE|       0.965|       0.323| 0.349|         0.00548|   0.116| -12.524|     0.0761|180.203|    0.2|Calm|\n",
            "|Tera Hone Laga Ho...|spotify:track:6PE...|          Pritam|       0.485|       0.478| 0.393|          0.0699|   0.126| -13.627|     0.0433| 113.72|  0.128|Calm|\n",
            "|  Iktara - Lofi Flip|spotify:track:7JO...|     Kavita Seth|       0.225|       0.382|  0.52|          0.0506|   0.427| -12.319|     0.0366|159.894|  0.179|Calm|\n",
            "|   Pee Loon Lofi Mix|spotify:track:5EI...|          Pritam|       0.658|       0.322| 0.439|         2.15E-6|   0.557|  -6.807|     0.0441| 74.472|  0.423|Calm|\n",
            "|O Re Piya - Lofi Mix|spotify:track:13K...|  Salim–Sulaiman|       0.785|       0.255| 0.412|           0.541|  0.0932|  -12.43|     0.0326| 95.727|  0.129|Calm|\n",
            "| Saiyyan - Lofi Flip|spotify:track:77I...|    Kailash Kher|       0.961|        0.52| 0.464|           0.855|   0.183|  -8.963|      0.124|179.978|  0.132|Calm|\n",
            "|Tu Jaane Naa (Lof...|spotify:track:0Th...|          Pritam|       0.574|       0.518| 0.719|         6.97E-5|    0.22|  -4.863|     0.0414|115.032|  0.286|Calm|\n",
            "|Dil Diyan Gallan ...|spotify:track:0LM...|  Vishal-Shekhar|       0.942|       0.661|  0.33|            0.82|   0.109| -13.622|     0.0318| 94.991|  0.255|Calm|\n",
            "|Piya O Re Piya (L...|spotify:track:4Xd...|      Atif Aslam|        0.81|       0.358| 0.329|         9.12E-6|   0.164| -13.108|     0.0326| 84.579|  0.145|Calm|\n",
            "| Paniyon Sa Lofi Mix|spotify:track:1li...|     Tulsi Kumar|       0.838|         0.5| 0.342|          0.0538|   0.174| -11.542|     0.0323|136.193|  0.179|Calm|\n",
            "| Tum Tak - Lofi Flip|spotify:track:4Dv...|Deepanshu Ruhela|       0.174|       0.696| 0.451|         4.84E-5|   0.722|  -9.711|     0.0317|116.997|  0.396|Calm|\n",
            "|Tum Mile - Lofi Flip|spotify:track:1Cs...|             KSW|       0.218|       0.711| 0.579|           0.053|    0.32| -11.059|     0.0363| 114.96|   0.21|Calm|\n",
            "|Raanjhanaa - Lofi...|spotify:track:3TE...|    Silent Ocean|       0.788|       0.272| 0.473|           0.119|   0.949|  -11.03|     0.0944| 200.01|  0.323|Calm|\n",
            "|Main Rang Sharbat...|spotify:track:11n...|          Pritam|       0.679|       0.547|  0.43|           0.396|   0.112| -10.917|     0.0311| 79.923|  0.501|Calm|\n",
            "|      Ilahi Lofi Mix|spotify:track:0Gu...|          Pritam|       0.204|       0.372| 0.635|          0.0116|   0.368|  -6.367|     0.0337| 94.318| 0.0673|Calm|\n",
            "|Shayad X Samjhawa...|spotify:track:6qS...|           Amtee|       0.891|       0.542| 0.412|             0.0|   0.109|  -9.544|     0.0315|105.132|  0.267|Calm|\n",
            "|Kesariya - Lofi Flip|spotify:track:7ns...|           VIBIE|       0.213|       0.602|  0.41|         1.19E-6|   0.235| -12.368|     0.0391|  95.02| 0.0671|Calm|\n",
            "|Hawayein - Lofi Flip|spotify:track:5w1...|           VIBIE|       0.875|       0.489| 0.313|          0.0125|   0.235| -14.965|     0.0633| 114.71|  0.332|Calm|\n",
            "|\"Phir Aur Kya Cha...|spotify:track:5QW...|    Sachin-Jigar|       0.531|       0.556| 0.552|             0.0|   0.121|  -5.875|     0.0373|100.051|  0.531|Calm|\n",
            "+--------------------+--------------------+----------------+------------+------------+------+----------------+--------+--------+-----------+-------+-------+----+\n",
            "only showing top 20 rows\n",
            "\n"
          ]
        }
      ]
    },
    {
      "cell_type": "code",
      "source": [
        "#checking for the null data\n",
        "for k in combined_df_calm.columns:\n",
        "    print(k,combined_df_calm.where(col(k).isNull()).count())\n"
      ],
      "metadata": {
        "colab": {
          "base_uri": "https://localhost:8080/"
        },
        "id": "8XX2JMN66jED",
        "outputId": "72093fa3-35f8-4754-a906-0f6900979785"
      },
      "execution_count": 87,
      "outputs": [
        {
          "output_type": "stream",
          "name": "stdout",
          "text": [
            "track_name 0\n",
            "track_uri 0\n",
            "artist_name 0\n",
            "acousticness 0\n",
            "danceability 0\n",
            "energy 0\n",
            "instrumentalness 0\n",
            "liveness 0\n",
            "loudness 0\n",
            "speechiness 0\n",
            "tempo 0\n",
            "valence 0\n",
            "Mood 0\n"
          ]
        }
      ]
    },
    {
      "cell_type": "code",
      "source": [
        "#after removing the null values\n",
        "# Get the number of rows\n",
        "num_rows =combined_df_calm.count()\n",
        "num_rows\n",
        "\n"
      ],
      "metadata": {
        "colab": {
          "base_uri": "https://localhost:8080/"
        },
        "id": "pakgoCa06tRg",
        "outputId": "76e67679-9e6c-4e3f-e6c2-80279bcc9ff9"
      },
      "execution_count": 88,
      "outputs": [
        {
          "output_type": "execute_result",
          "data": {
            "text/plain": [
              "3230"
            ]
          },
          "metadata": {},
          "execution_count": 88
        }
      ]
    },
    {
      "cell_type": "code",
      "source": [
        "# combining the spark dataframe -\n",
        "combined_df_energetic = data_energetic_withoutnull1.union(data_energetic_withoutnull2)"
      ],
      "metadata": {
        "id": "jpMdB6yl65Wu"
      },
      "execution_count": 89,
      "outputs": []
    },
    {
      "cell_type": "code",
      "source": [
        "combined_df_energetic.show()"
      ],
      "metadata": {
        "colab": {
          "base_uri": "https://localhost:8080/"
        },
        "id": "QoUGeWZI7TAT",
        "outputId": "b559cd2d-443f-4b70-8265-c3766f7dbd16"
      },
      "execution_count": 90,
      "outputs": [
        {
          "output_type": "stream",
          "name": "stdout",
          "text": [
            "+--------------------+--------------------+--------------------+------------+------------+------+----------------+--------+--------+-----------+-------+-------+---------+\n",
            "|          track_name|           track_uri|         artist_name|acousticness|danceability|energy|instrumentalness|liveness|loudness|speechiness|  tempo|valence|     Mood|\n",
            "+--------------------+--------------------+--------------------+------------+------------+------+----------------+--------+--------+-----------+-------+-------+---------+\n",
            "|Taki Taki (feat. ...|spotify:track:0Ko...|            DJ Snake|       0.157|       0.842| 0.801|         4.82E-6|  0.0642|  -4.167|      0.228| 95.881|  0.617|Energetic|\n",
            "|     Let Me Love You|spotify:track:5Qj...|            DJ Snake|      0.0838|       0.492| 0.714|         3.11E-5|    0.13|  -5.327|     0.0442| 99.602|  0.146|Energetic|\n",
            "|Calm Down (with S...|spotify:track:0Wt...|                Rema|       0.382|       0.801| 0.806|         6.69E-4|   0.114|  -5.206|     0.0381|106.999|  0.802|Energetic|\n",
            "|Dusk Till Dawn (f...|spotify:track:1j4...|                ZAYN|       0.102|       0.259| 0.437|         1.32E-6|   0.106|  -6.589|     0.0386|180.042| 0.0951|Energetic|\n",
            "|       Wrecking Ball|spotify:track:2vw...|         Miley Cyrus|       0.407|        0.53| 0.422|             0.0|   0.107|  -6.262|     0.0342|119.964|  0.349|Energetic|\n",
            "|        Heart Attack|spotify:track:1zp...|    Enrique Iglesias|      0.0639|       0.553| 0.892|             0.0|   0.426|  -4.039|     0.0667|  77.01|  0.479|Energetic|\n",
            "|We Are Never Ever...|spotify:track:1F6...|        Taylor Swift|      0.0105|       0.624| 0.685|         2.22E-5|   0.126|  -5.902|       0.12| 86.059|  0.781|Energetic|\n",
            "|Hips Don't Lie (f...|spotify:track:3ZF...|             Shakira|       0.284|       0.778| 0.824|             0.0|   0.405|  -5.892|     0.0707|100.024|  0.758|Energetic|\n",
            "|Hey Mama (feat. N...|spotify:track:285...|        David Guetta|        0.24|       0.596|  0.73|             0.0|   0.325|  -4.091|      0.151| 85.979|  0.525|Energetic|\n",
            "|Timber (feat. Ke$ha)|spotify:track:1zH...|             Pitbull|      0.0362|       0.587| 0.965|             0.0|   0.138|  -4.106|      0.101|129.972|  0.825|Energetic|\n",
            "|         Temperature|spotify:track:0k2...|           Sean Paul|       0.106|       0.951|   0.6|             0.0|  0.0712|  -4.675|     0.0685| 125.04|  0.822|Energetic|\n",
            "|Toca Toca - Radio...|spotify:track:2yL...|         Fly Project|      0.0211|       0.907|  0.61|         3.28E-5|  0.0317|  -4.588|     0.0922|125.975|  0.926|Energetic|\n",
            "|TOKYO HEAT (Tokyo...|spotify:track:7oE...|            C.H.A.Y.|      0.0073|       0.753| 0.635|          0.0104|  0.0773|  -5.968|     0.0472|126.975|  0.802|Energetic|\n",
            "|Believer - Kaskad...|spotify:track:6ai...|     Imagine Dragons|       0.181|        0.73| 0.634|         2.24E-6|   0.118|  -5.084|     0.0509|126.022|  0.182|Energetic|\n",
            "|Can't Hold Us (fe...|spotify:track:3bi...|Macklemore & Ryan...|      0.0291|       0.641| 0.922|             0.0|  0.0862|  -4.457|     0.0786|146.078|  0.847|Energetic|\n",
            "|             Starboy|spotify:track:7MX...|          The Weeknd|       0.141|       0.679| 0.587|         6.35E-6|   0.137|  -7.015|      0.276|186.003|  0.486|Energetic|\n",
            "|       Cheap Thrills|spotify:track:27S...|                 Sia|      0.0472|       0.628| 0.698|         0.00143|  0.0907|  -5.608|      0.105| 89.976|  0.732|Energetic|\n",
            "|        Dance Monkey|spotify:track:2XU...|         Tones And I|       0.692|       0.824| 0.588|         1.04E-4|   0.149|    -6.4|     0.0924| 98.027|  0.513|Energetic|\n",
            "|               Sorry|spotify:track:09C...|       Justin Bieber|      0.0797|       0.654|  0.76|             0.0|   0.299|  -3.669|      0.045| 99.945|   0.41|Energetic|\n",
            "|  You Belong With Me|spotify:track:6mq...|        Taylor Swift|       0.151|       0.688| 0.775|         1.98E-5|   0.104|  -4.436|     0.0381|129.969|  0.469|Energetic|\n",
            "+--------------------+--------------------+--------------------+------------+------------+------+----------------+--------+--------+-----------+-------+-------+---------+\n",
            "only showing top 20 rows\n",
            "\n"
          ]
        }
      ]
    },
    {
      "cell_type": "code",
      "source": [
        "#checking for the null data\n",
        "for k in combined_df_energetic.columns:\n",
        "    print(k,combined_df_energetic.where(col(k).isNull()).count())\n"
      ],
      "metadata": {
        "colab": {
          "base_uri": "https://localhost:8080/"
        },
        "id": "3W-c9Lwd7VtS",
        "outputId": "de4e402d-a34e-4908-93be-a66e93bae070"
      },
      "execution_count": 91,
      "outputs": [
        {
          "output_type": "stream",
          "name": "stdout",
          "text": [
            "track_name 0\n",
            "track_uri 0\n",
            "artist_name 0\n",
            "acousticness 0\n",
            "danceability 0\n",
            "energy 0\n",
            "instrumentalness 0\n",
            "liveness 0\n",
            "loudness 0\n",
            "speechiness 0\n",
            "tempo 0\n",
            "valence 0\n",
            "Mood 0\n"
          ]
        }
      ]
    },
    {
      "cell_type": "code",
      "source": [
        "#after removing the null values\n",
        "# Get the number of rows\n",
        "num_rows =combined_df_energetic.count()\n",
        "num_rows\n",
        "\n"
      ],
      "metadata": {
        "colab": {
          "base_uri": "https://localhost:8080/"
        },
        "id": "YtkYEMlk7d6P",
        "outputId": "d0a59ed8-eed9-4809-a65d-44a9f95b8e24"
      },
      "execution_count": 92,
      "outputs": [
        {
          "output_type": "execute_result",
          "data": {
            "text/plain": [
              "2610"
            ]
          },
          "metadata": {},
          "execution_count": 92
        }
      ]
    },
    {
      "cell_type": "code",
      "source": [
        "# combining the spark dataframe -\n",
        "combined_df_happy = data_happy_withoutnull1.union(data_happy_withoutnull2)"
      ],
      "metadata": {
        "id": "1mOzuNlW7l7v"
      },
      "execution_count": 93,
      "outputs": []
    },
    {
      "cell_type": "code",
      "source": [
        "combined_df_happy.show()"
      ],
      "metadata": {
        "colab": {
          "base_uri": "https://localhost:8080/"
        },
        "id": "30Zuwse970BL",
        "outputId": "158f6f7f-ce39-45b9-ffc0-532b67d66bd5"
      },
      "execution_count": 94,
      "outputs": [
        {
          "output_type": "stream",
          "name": "stdout",
          "text": [
            "+--------------------+--------------------+------------------+------------+------------+------+----------------+--------+--------+-----------+-------+-------+-----+\n",
            "|          track_name|           track_uri|       artist_name|acousticness|danceability|energy|instrumentalness|liveness|loudness|speechiness|  tempo|valence| Mood|\n",
            "+--------------------+--------------------+------------------+------------+------------+------+----------------+--------+--------+-----------+-------+-------+-----+\n",
            "|              Bahara|spotify:track:1gw...|    Vishal-Shekhar|      0.0716|       0.595| 0.739|         6.98E-6|   0.134|  -6.733|     0.0359| 87.834|  0.722|Happy|\n",
            "|            Bin Tere|spotify:track:3bZ...|    Vishal-Shekhar|        0.42|       0.585| 0.698|         3.59E-6|   0.363|  -6.261|     0.0392|139.831|  0.621|Happy|\n",
            "|\"Pani Da Rang Mal...|spotify:track:6eT...|Ayushmann Khurrana|       0.272|       0.679| 0.622|         6.52E-5|   0.106|  -8.514|     0.0328| 98.028|  0.483|Happy|\n",
            "|\"Tum Hi Ho Bandhu...|spotify:track:2zZ...|   Neeraj Shridhar|     0.00145|       0.714| 0.892|         8.17E-4|  0.0462|  -5.342|     0.0516|134.997|  0.899|Happy|\n",
            "|\"Chaiyya Chaiyya ...|spotify:track:7lt...|  Sukhwinder Singh|       0.186|       0.786| 0.579|             0.0|   0.118| -14.913|      0.142| 90.012|  0.481|Happy|\n",
            "|       Dance Basanti|spotify:track:1Nx...|      Sachin-Jigar|       0.166|       0.833|  0.74|         2.74E-6|   0.363|  -4.513|      0.129|103.035|  0.804|Happy|\n",
            "|    Nagada Sang Dhol|spotify:track:1tl...|    Shreya Ghoshal|        0.29|       0.743| 0.921|          0.0068|  0.0402|  -5.007|       0.14|113.284|  0.674|Happy|\n",
            "|   Jab Se Tere Naina|spotify:track:0gR...|      Monty Sharma|       0.362|       0.599| 0.653|             0.0|   0.144|  -7.576|      0.122| 79.968|  0.678|Happy|\n",
            "|      Kar Gayi Chull|spotify:track:3fP...|           Badshah|      0.0316|       0.827| 0.737|         3.22E-4|   0.211|  -5.473|     0.0764| 121.99|  0.873|Happy|\n",
            "|Bahara - Chill Ve...|spotify:track:049...|    Vishal-Shekhar|       0.363|       0.657| 0.685|         0.00806|   0.129|  -6.667|     0.0797| 87.966|  0.705|Happy|\n",
            "|            Kamariya|spotify:track:5HJ...|       Lijo George|       0.284|       0.337| 0.963|             0.0|   0.281|   -2.93|      0.296| 62.481|  0.405|Happy|\n",
            "|\"Cutiepie (From \"...|spotify:track:7hX...|            Pritam|       0.253|       0.799| 0.929|         4.62E-4|    0.24|  -3.231|     0.0668|127.999|  0.952|Happy|\n",
            "|           Bom Diggy|spotify:track:7Dh...|       Zack Knight|       0.273|       0.793| 0.777|             0.0|   0.144|  -5.636|      0.197|103.956|  0.528|Happy|\n",
            "|         Lamberghini|spotify:track:45P...|      The Doorbeen|       0.543|       0.953| 0.584|             0.0|  0.0786|   -7.57|     0.0518|104.007|  0.861|Happy|\n",
            "|             Chogada|spotify:track:1HB...|     Darshan Raval|       0.136|       0.359| 0.972|         2.52E-6|    0.14|  -3.452|      0.109| 62.914|  0.595|Happy|\n",
            "|         Let's Nacho|spotify:track:4mQ...|           Nucleya|      0.0906|       0.742| 0.947|          0.0221|  0.0721|  -3.749|     0.0321|130.043|   0.88|Happy|\n",
            "|\"The Breakup Song...|spotify:track:7Bj...|            Pritam|        0.33|       0.818|  0.93|             0.0|   0.658|  -2.982|      0.247|113.988|  0.831|Happy|\n",
            "|\"Channa Mereya (F...|spotify:track:1pl...|            Pritam|        0.24|       0.476| 0.788|         2.64E-5|   0.106|  -4.821|     0.0448| 90.066|  0.747|Happy|\n",
            "|\"High Rated Gabru...|spotify:track:1oz...|     Guru Randhawa|       0.118|       0.685| 0.841|             0.0|    0.26|  -2.932|     0.0942| 97.929|   0.59|Happy|\n",
            "|              Iktara|spotify:track:3jt...|      Amit Trivedi|       0.401|       0.616| 0.525|         4.84E-4|   0.309|  -7.065|     0.0258| 79.976|  0.427|Happy|\n",
            "+--------------------+--------------------+------------------+------------+------------+------+----------------+--------+--------+-----------+-------+-------+-----+\n",
            "only showing top 20 rows\n",
            "\n"
          ]
        }
      ]
    },
    {
      "cell_type": "code",
      "source": [
        "#checking for the null data\n",
        "for k in combined_df_happy.columns:\n",
        "    print(k,combined_df_happy.where(col(k).isNull()).count())\n"
      ],
      "metadata": {
        "colab": {
          "base_uri": "https://localhost:8080/"
        },
        "id": "1Nq2tUC472ws",
        "outputId": "4eee4325-4865-487f-e24e-8b484887c67e"
      },
      "execution_count": 95,
      "outputs": [
        {
          "output_type": "stream",
          "name": "stdout",
          "text": [
            "track_name 0\n",
            "track_uri 0\n",
            "artist_name 0\n",
            "acousticness 0\n",
            "danceability 0\n",
            "energy 0\n",
            "instrumentalness 0\n",
            "liveness 0\n",
            "loudness 0\n",
            "speechiness 0\n",
            "tempo 0\n",
            "valence 0\n",
            "Mood 0\n"
          ]
        }
      ]
    },
    {
      "cell_type": "code",
      "source": [
        "#after removing the null values\n",
        "# Get the number of rows\n",
        "num_rows =combined_df_happy.count()\n",
        "num_rows\n",
        "\n"
      ],
      "metadata": {
        "colab": {
          "base_uri": "https://localhost:8080/"
        },
        "id": "vXrI4XYv78nH",
        "outputId": "ae0fe706-eebf-4dbe-a8e4-2265666a43dc"
      },
      "execution_count": 96,
      "outputs": [
        {
          "output_type": "execute_result",
          "data": {
            "text/plain": [
              "2308"
            ]
          },
          "metadata": {},
          "execution_count": 96
        }
      ]
    },
    {
      "cell_type": "code",
      "source": [
        "# combining the spark dataframe -\n",
        "combined_df_sad= data_sad_withoutnull1.union(data_sad_withoutnull2)"
      ],
      "metadata": {
        "id": "j4jpIJKo8FGu"
      },
      "execution_count": 97,
      "outputs": []
    },
    {
      "cell_type": "code",
      "source": [
        "combined_df_sad.show()"
      ],
      "metadata": {
        "colab": {
          "base_uri": "https://localhost:8080/"
        },
        "id": "OqpvGKPh8SDZ",
        "outputId": "b819b2d5-4fa5-4561-b169-0dc0e504be98"
      },
      "execution_count": 98,
      "outputs": [
        {
          "output_type": "stream",
          "name": "stdout",
          "text": [
            "+--------------------+--------------------+----------------+------------+------------+------+----------------+--------+--------+-----------+-------+-------+----+\n",
            "|          track_name|           track_uri|     artist_name|acousticness|danceability|energy|instrumentalness|liveness|loudness|speechiness|  tempo|valence|Mood|\n",
            "+--------------------+--------------------+----------------+------------+------------+------+----------------+--------+--------+-----------+-------+-------+----+\n",
            "|slipping through ...|spotify:track:4vB...|       90degrees|       0.396|       0.509|  0.57|             0.0|  0.0986|    -6.7|     0.0284| 80.134|  0.324| Sad|\n",
            "|    Always - Sped Up|spotify:track:2eM...|        Rainsomn|       0.949|       0.756| 0.269|          0.0801|   0.157|  -9.164|     0.0323| 86.409|  0.229| Sad|\n",
            "|Reckless - Slowed...|spotify:track:7Lh...|          Kausak|        0.76|       0.276| 0.357|             0.0|  0.0796|  -9.717|     0.0434|201.512|  0.326| Sad|\n",
            "|slipping through ...|spotify:track:7B5...|        Vallvete|       0.143|       0.541| 0.416|             0.0|  0.0907|  -7.745|     0.0271|116.466|  0.286| Sad|\n",
            "|           Moving On|spotify:track:7uk...|      Lola Yulia|       0.978|       0.542|0.0766|         3.41E-4|   0.106| -18.349|     0.0401| 76.732| 0.0797| Sad|\n",
            "|Angels Like You (...|spotify:track:2Ui...|      Way 2 Fast|       0.561|       0.572| 0.582|             0.0|   0.162|  -6.748|     0.0358|149.187|  0.288| Sad|\n",
            "|   Perfect - Sped-up|spotify:track:03H...|          Denial|       0.375|       0.632| 0.344|             0.0|   0.168| -11.093|     0.0275|114.022|  0.359| Sad|\n",
            "|        Another Love|spotify:track:3Jv...|       Tom Odell|       0.695|       0.445| 0.537|         1.65E-5|  0.0944|  -8.532|       0.04|122.769|  0.131| Sad|\n",
            "|        Closed Doors|spotify:track:0vL...|          Ismail|       0.661|       0.611| 0.483|             0.0|   0.112|  -6.937|     0.0308| 111.97|  0.439| Sad|\n",
            "|Takeaway (slowed ...|spotify:track:7KB...|    Slowed Tunes|       0.434|       0.623| 0.323|             0.0|   0.131|   -9.64|     0.0386| 88.437|  0.323| Sad|\n",
            "|Strong (Sped Up) ...|spotify:track:3Gr...|        Gz Music|       0.011|       0.543| 0.578|         0.00366|   0.151| -11.219|      0.109|149.395|  0.211| Sad|\n",
            "|18 (sped up) - Remix|spotify:track:25u...|  Splice Records|       0.399|       0.566| 0.738|             0.0|   0.132|  -8.318|      0.125|161.192|   0.24| Sad|\n",
            "|Another Love - Sp...|spotify:track:39M...|  Dybbukk Covers|       0.498|       0.427| 0.603|         7.14E-5|   0.169| -12.196|     0.0904|143.577|  0.224| Sad|\n",
            "|      You Are Enough|spotify:track:1Wd...|Sleeping At Last|       0.707|       0.593|   0.5|         1.24E-5|  0.0837|  -8.532|      0.029|117.996|  0.465| Sad|\n",
            "|December (again) ...|spotify:track:1Zt...|       Neck Deep|     9.74E-5|       0.403| 0.953|             0.0|  0.0915|  -3.213|      0.119|160.035|  0.362| Sad|\n",
            "|Car's Outside - S...|spotify:track:6Om...|    James Arthur|      0.0721|       0.212| 0.628|             0.0|   0.196|  -6.628|      0.032| 89.819|  0.467| Sad|\n",
            "|Night Changes - S...|spotify:track:3wk...|          Mr Cat|       0.851|       0.692| 0.653|         0.00781|  0.0945| -11.132|     0.0964|131.997|  0.237| Sad|\n",
            "|N i g h t C h a n...|spotify:track:47B...|  DJ GreyttBlack|       0.479|       0.582| 0.531|             0.0|    0.15| -13.634|     0.0464|148.114|    0.6| Sad|\n",
            "|Rewrite The Stars...|spotify:track:6Ys...|          Kausak|       0.263|       0.408| 0.962|             0.0|   0.229|  -5.077|      0.366|163.703|  0.373| Sad|\n",
            "|The Scientist (sp...|spotify:track:24i...|      accelerate|       0.863|       0.561| 0.505|         4.43E-4|   0.142|   -8.23|     0.0246|176.124|  0.274| Sad|\n",
            "+--------------------+--------------------+----------------+------------+------------+------+----------------+--------+--------+-----------+-------+-------+----+\n",
            "only showing top 20 rows\n",
            "\n"
          ]
        }
      ]
    },
    {
      "cell_type": "code",
      "source": [
        "#checking for the null data\n",
        "for k in combined_df_sad.columns:\n",
        "    print(k,combined_df_sad.where(col(k).isNull()).count())\n"
      ],
      "metadata": {
        "colab": {
          "base_uri": "https://localhost:8080/"
        },
        "id": "qByjUQDb8USs",
        "outputId": "9196cf5e-24f8-41aa-924b-020bdcb476f2"
      },
      "execution_count": 99,
      "outputs": [
        {
          "output_type": "stream",
          "name": "stdout",
          "text": [
            "track_name 0\n",
            "track_uri 0\n",
            "artist_name 0\n",
            "acousticness 0\n",
            "danceability 0\n",
            "energy 0\n",
            "instrumentalness 0\n",
            "liveness 0\n",
            "loudness 0\n",
            "speechiness 0\n",
            "tempo 0\n",
            "valence 0\n",
            "Mood 0\n"
          ]
        }
      ]
    },
    {
      "cell_type": "code",
      "source": [
        "#after removing the null values\n",
        "# Get the number of rows\n",
        "num_rows =combined_df_sad.count()\n",
        "num_rows\n",
        "\n"
      ],
      "metadata": {
        "colab": {
          "base_uri": "https://localhost:8080/"
        },
        "id": "_-5SdeID8bMP",
        "outputId": "75fd339f-466f-44f1-b4f5-f825f63e2cc6"
      },
      "execution_count": 100,
      "outputs": [
        {
          "output_type": "execute_result",
          "data": {
            "text/plain": [
              "2490"
            ]
          },
          "metadata": {},
          "execution_count": 100
        }
      ]
    },
    {
      "cell_type": "code",
      "source": [
        "#combining the calm and energetic\n",
        "\n",
        "final_merge1=combined_df_calm.union(combined_df_energetic)"
      ],
      "metadata": {
        "id": "aHEdWHyo8ft9"
      },
      "execution_count": 101,
      "outputs": []
    },
    {
      "cell_type": "code",
      "source": [
        "final_merge1.show()"
      ],
      "metadata": {
        "colab": {
          "base_uri": "https://localhost:8080/"
        },
        "id": "giMecifP85OZ",
        "outputId": "a7ceb0cb-483f-435e-a3a4-8cb41806a69a"
      },
      "execution_count": 102,
      "outputs": [
        {
          "output_type": "stream",
          "name": "stdout",
          "text": [
            "+--------------------+--------------------+----------------+------------+------------+------+----------------+--------+--------+-----------+-------+-------+----+\n",
            "|          track_name|           track_uri|     artist_name|acousticness|danceability|energy|instrumentalness|liveness|loudness|speechiness|  tempo|valence|Mood|\n",
            "+--------------------+--------------------+----------------+------------+------------+------+----------------+--------+--------+-----------+-------+-------+----+\n",
            "|Samjhawan - Lofi ...|spotify:track:1KP...|             KSW|       0.453|        0.58| 0.418|         0.00151|    0.28| -10.307|     0.0295|107.031|  0.168|Calm|\n",
            "|   Saibo - Lofi Flip|spotify:track:1E1...|           VIBIE|       0.965|       0.323| 0.349|         0.00548|   0.116| -12.524|     0.0761|180.203|    0.2|Calm|\n",
            "|Tera Hone Laga Ho...|spotify:track:6PE...|          Pritam|       0.485|       0.478| 0.393|          0.0699|   0.126| -13.627|     0.0433| 113.72|  0.128|Calm|\n",
            "|  Iktara - Lofi Flip|spotify:track:7JO...|     Kavita Seth|       0.225|       0.382|  0.52|          0.0506|   0.427| -12.319|     0.0366|159.894|  0.179|Calm|\n",
            "|   Pee Loon Lofi Mix|spotify:track:5EI...|          Pritam|       0.658|       0.322| 0.439|         2.15E-6|   0.557|  -6.807|     0.0441| 74.472|  0.423|Calm|\n",
            "|O Re Piya - Lofi Mix|spotify:track:13K...|  Salim–Sulaiman|       0.785|       0.255| 0.412|           0.541|  0.0932|  -12.43|     0.0326| 95.727|  0.129|Calm|\n",
            "| Saiyyan - Lofi Flip|spotify:track:77I...|    Kailash Kher|       0.961|        0.52| 0.464|           0.855|   0.183|  -8.963|      0.124|179.978|  0.132|Calm|\n",
            "|Tu Jaane Naa (Lof...|spotify:track:0Th...|          Pritam|       0.574|       0.518| 0.719|         6.97E-5|    0.22|  -4.863|     0.0414|115.032|  0.286|Calm|\n",
            "|Dil Diyan Gallan ...|spotify:track:0LM...|  Vishal-Shekhar|       0.942|       0.661|  0.33|            0.82|   0.109| -13.622|     0.0318| 94.991|  0.255|Calm|\n",
            "|Piya O Re Piya (L...|spotify:track:4Xd...|      Atif Aslam|        0.81|       0.358| 0.329|         9.12E-6|   0.164| -13.108|     0.0326| 84.579|  0.145|Calm|\n",
            "| Paniyon Sa Lofi Mix|spotify:track:1li...|     Tulsi Kumar|       0.838|         0.5| 0.342|          0.0538|   0.174| -11.542|     0.0323|136.193|  0.179|Calm|\n",
            "| Tum Tak - Lofi Flip|spotify:track:4Dv...|Deepanshu Ruhela|       0.174|       0.696| 0.451|         4.84E-5|   0.722|  -9.711|     0.0317|116.997|  0.396|Calm|\n",
            "|Tum Mile - Lofi Flip|spotify:track:1Cs...|             KSW|       0.218|       0.711| 0.579|           0.053|    0.32| -11.059|     0.0363| 114.96|   0.21|Calm|\n",
            "|Raanjhanaa - Lofi...|spotify:track:3TE...|    Silent Ocean|       0.788|       0.272| 0.473|           0.119|   0.949|  -11.03|     0.0944| 200.01|  0.323|Calm|\n",
            "|Main Rang Sharbat...|spotify:track:11n...|          Pritam|       0.679|       0.547|  0.43|           0.396|   0.112| -10.917|     0.0311| 79.923|  0.501|Calm|\n",
            "|      Ilahi Lofi Mix|spotify:track:0Gu...|          Pritam|       0.204|       0.372| 0.635|          0.0116|   0.368|  -6.367|     0.0337| 94.318| 0.0673|Calm|\n",
            "|Shayad X Samjhawa...|spotify:track:6qS...|           Amtee|       0.891|       0.542| 0.412|             0.0|   0.109|  -9.544|     0.0315|105.132|  0.267|Calm|\n",
            "|Kesariya - Lofi Flip|spotify:track:7ns...|           VIBIE|       0.213|       0.602|  0.41|         1.19E-6|   0.235| -12.368|     0.0391|  95.02| 0.0671|Calm|\n",
            "|Hawayein - Lofi Flip|spotify:track:5w1...|           VIBIE|       0.875|       0.489| 0.313|          0.0125|   0.235| -14.965|     0.0633| 114.71|  0.332|Calm|\n",
            "|\"Phir Aur Kya Cha...|spotify:track:5QW...|    Sachin-Jigar|       0.531|       0.556| 0.552|             0.0|   0.121|  -5.875|     0.0373|100.051|  0.531|Calm|\n",
            "+--------------------+--------------------+----------------+------------+------------+------+----------------+--------+--------+-----------+-------+-------+----+\n",
            "only showing top 20 rows\n",
            "\n"
          ]
        }
      ]
    },
    {
      "cell_type": "code",
      "source": [
        "#checking for the null data\n",
        "for k in final_merge1.columns:\n",
        "    print(k,final_merge1.where(col(k).isNull()).count())\n"
      ],
      "metadata": {
        "colab": {
          "base_uri": "https://localhost:8080/"
        },
        "id": "wOU01jYg87k-",
        "outputId": "dbd86e0f-1c8f-4316-8c9e-3517f26c1083"
      },
      "execution_count": 103,
      "outputs": [
        {
          "output_type": "stream",
          "name": "stdout",
          "text": [
            "track_name 0\n",
            "track_uri 0\n",
            "artist_name 0\n",
            "acousticness 0\n",
            "danceability 0\n",
            "energy 0\n",
            "instrumentalness 0\n",
            "liveness 0\n",
            "loudness 0\n",
            "speechiness 0\n",
            "tempo 0\n",
            "valence 0\n",
            "Mood 0\n"
          ]
        }
      ]
    },
    {
      "cell_type": "code",
      "source": [
        "#after removing the null values\n",
        "# Get the number of rows\n",
        "num_rows =final_merge1.count()\n",
        "num_rows\n",
        "\n"
      ],
      "metadata": {
        "colab": {
          "base_uri": "https://localhost:8080/"
        },
        "id": "2xcJwL249CXS",
        "outputId": "7e86b23a-3354-44ce-96f9-a55b8e4d10c8"
      },
      "execution_count": 104,
      "outputs": [
        {
          "output_type": "execute_result",
          "data": {
            "text/plain": [
              "5840"
            ]
          },
          "metadata": {},
          "execution_count": 104
        }
      ]
    },
    {
      "cell_type": "code",
      "source": [
        "#combining the happy and sad\n",
        "\n",
        "final_merge2=combined_df_happy.union(combined_df_sad)"
      ],
      "metadata": {
        "id": "nWmLbNfS9Ihv"
      },
      "execution_count": 105,
      "outputs": []
    },
    {
      "cell_type": "code",
      "source": [
        "final_merge2.show()"
      ],
      "metadata": {
        "colab": {
          "base_uri": "https://localhost:8080/"
        },
        "id": "vAucSiXY9WBJ",
        "outputId": "3fa3a38d-7391-448e-b3fd-b2cdb534bc51"
      },
      "execution_count": 106,
      "outputs": [
        {
          "output_type": "stream",
          "name": "stdout",
          "text": [
            "+--------------------+--------------------+------------------+------------+------------+------+----------------+--------+--------+-----------+-------+-------+-----+\n",
            "|          track_name|           track_uri|       artist_name|acousticness|danceability|energy|instrumentalness|liveness|loudness|speechiness|  tempo|valence| Mood|\n",
            "+--------------------+--------------------+------------------+------------+------------+------+----------------+--------+--------+-----------+-------+-------+-----+\n",
            "|              Bahara|spotify:track:1gw...|    Vishal-Shekhar|      0.0716|       0.595| 0.739|         6.98E-6|   0.134|  -6.733|     0.0359| 87.834|  0.722|Happy|\n",
            "|            Bin Tere|spotify:track:3bZ...|    Vishal-Shekhar|        0.42|       0.585| 0.698|         3.59E-6|   0.363|  -6.261|     0.0392|139.831|  0.621|Happy|\n",
            "|\"Pani Da Rang Mal...|spotify:track:6eT...|Ayushmann Khurrana|       0.272|       0.679| 0.622|         6.52E-5|   0.106|  -8.514|     0.0328| 98.028|  0.483|Happy|\n",
            "|\"Tum Hi Ho Bandhu...|spotify:track:2zZ...|   Neeraj Shridhar|     0.00145|       0.714| 0.892|         8.17E-4|  0.0462|  -5.342|     0.0516|134.997|  0.899|Happy|\n",
            "|\"Chaiyya Chaiyya ...|spotify:track:7lt...|  Sukhwinder Singh|       0.186|       0.786| 0.579|             0.0|   0.118| -14.913|      0.142| 90.012|  0.481|Happy|\n",
            "|       Dance Basanti|spotify:track:1Nx...|      Sachin-Jigar|       0.166|       0.833|  0.74|         2.74E-6|   0.363|  -4.513|      0.129|103.035|  0.804|Happy|\n",
            "|    Nagada Sang Dhol|spotify:track:1tl...|    Shreya Ghoshal|        0.29|       0.743| 0.921|          0.0068|  0.0402|  -5.007|       0.14|113.284|  0.674|Happy|\n",
            "|   Jab Se Tere Naina|spotify:track:0gR...|      Monty Sharma|       0.362|       0.599| 0.653|             0.0|   0.144|  -7.576|      0.122| 79.968|  0.678|Happy|\n",
            "|      Kar Gayi Chull|spotify:track:3fP...|           Badshah|      0.0316|       0.827| 0.737|         3.22E-4|   0.211|  -5.473|     0.0764| 121.99|  0.873|Happy|\n",
            "|Bahara - Chill Ve...|spotify:track:049...|    Vishal-Shekhar|       0.363|       0.657| 0.685|         0.00806|   0.129|  -6.667|     0.0797| 87.966|  0.705|Happy|\n",
            "|            Kamariya|spotify:track:5HJ...|       Lijo George|       0.284|       0.337| 0.963|             0.0|   0.281|   -2.93|      0.296| 62.481|  0.405|Happy|\n",
            "|\"Cutiepie (From \"...|spotify:track:7hX...|            Pritam|       0.253|       0.799| 0.929|         4.62E-4|    0.24|  -3.231|     0.0668|127.999|  0.952|Happy|\n",
            "|           Bom Diggy|spotify:track:7Dh...|       Zack Knight|       0.273|       0.793| 0.777|             0.0|   0.144|  -5.636|      0.197|103.956|  0.528|Happy|\n",
            "|         Lamberghini|spotify:track:45P...|      The Doorbeen|       0.543|       0.953| 0.584|             0.0|  0.0786|   -7.57|     0.0518|104.007|  0.861|Happy|\n",
            "|             Chogada|spotify:track:1HB...|     Darshan Raval|       0.136|       0.359| 0.972|         2.52E-6|    0.14|  -3.452|      0.109| 62.914|  0.595|Happy|\n",
            "|         Let's Nacho|spotify:track:4mQ...|           Nucleya|      0.0906|       0.742| 0.947|          0.0221|  0.0721|  -3.749|     0.0321|130.043|   0.88|Happy|\n",
            "|\"The Breakup Song...|spotify:track:7Bj...|            Pritam|        0.33|       0.818|  0.93|             0.0|   0.658|  -2.982|      0.247|113.988|  0.831|Happy|\n",
            "|\"Channa Mereya (F...|spotify:track:1pl...|            Pritam|        0.24|       0.476| 0.788|         2.64E-5|   0.106|  -4.821|     0.0448| 90.066|  0.747|Happy|\n",
            "|\"High Rated Gabru...|spotify:track:1oz...|     Guru Randhawa|       0.118|       0.685| 0.841|             0.0|    0.26|  -2.932|     0.0942| 97.929|   0.59|Happy|\n",
            "|              Iktara|spotify:track:3jt...|      Amit Trivedi|       0.401|       0.616| 0.525|         4.84E-4|   0.309|  -7.065|     0.0258| 79.976|  0.427|Happy|\n",
            "+--------------------+--------------------+------------------+------------+------------+------+----------------+--------+--------+-----------+-------+-------+-----+\n",
            "only showing top 20 rows\n",
            "\n"
          ]
        }
      ]
    },
    {
      "cell_type": "code",
      "source": [
        "#checking for the null data\n",
        "for k in final_merge2.columns:\n",
        "    print(k,final_merge2.where(col(k).isNull()).count())\n"
      ],
      "metadata": {
        "colab": {
          "base_uri": "https://localhost:8080/"
        },
        "id": "nEqctVI59Yq_",
        "outputId": "fe1bf3c5-850b-4719-f84f-27d71b9141cd"
      },
      "execution_count": 107,
      "outputs": [
        {
          "output_type": "stream",
          "name": "stdout",
          "text": [
            "track_name 0\n",
            "track_uri 0\n",
            "artist_name 0\n",
            "acousticness 0\n",
            "danceability 0\n",
            "energy 0\n",
            "instrumentalness 0\n",
            "liveness 0\n",
            "loudness 0\n",
            "speechiness 0\n",
            "tempo 0\n",
            "valence 0\n",
            "Mood 0\n"
          ]
        }
      ]
    },
    {
      "cell_type": "code",
      "source": [
        "#after removing the null values\n",
        "# Get the number of rows\n",
        "num_rows =final_merge2.count()\n",
        "num_rows\n",
        "\n"
      ],
      "metadata": {
        "colab": {
          "base_uri": "https://localhost:8080/"
        },
        "id": "KsnozlSW9dN8",
        "outputId": "caadf59f-603b-4e7b-fa07-cee6e81b3ff2"
      },
      "execution_count": 108,
      "outputs": [
        {
          "output_type": "execute_result",
          "data": {
            "text/plain": [
              "4798"
            ]
          },
          "metadata": {},
          "execution_count": 108
        }
      ]
    },
    {
      "cell_type": "code",
      "source": [
        "\n",
        "final_merge=final_merge1.union(final_merge2)"
      ],
      "metadata": {
        "id": "nVRDSpt19hcv"
      },
      "execution_count": 109,
      "outputs": []
    },
    {
      "cell_type": "code",
      "source": [
        "#checking for the null data\n",
        "for k in final_merge.columns:\n",
        "    print(k,final_merge.where(col(k).isNull()).count())\n"
      ],
      "metadata": {
        "colab": {
          "base_uri": "https://localhost:8080/"
        },
        "id": "UAdC4tiw9tpU",
        "outputId": "16dc5cee-5b73-4eb0-f95a-0b0f7b7ebe5e"
      },
      "execution_count": 110,
      "outputs": [
        {
          "output_type": "stream",
          "name": "stdout",
          "text": [
            "track_name 0\n",
            "track_uri 0\n",
            "artist_name 0\n",
            "acousticness 0\n",
            "danceability 0\n",
            "energy 0\n",
            "instrumentalness 0\n",
            "liveness 0\n",
            "loudness 0\n",
            "speechiness 0\n",
            "tempo 0\n",
            "valence 0\n",
            "Mood 0\n"
          ]
        }
      ]
    },
    {
      "cell_type": "code",
      "source": [
        "#after removing the null values\n",
        "# Get the number of rows\n",
        "num_rows =final_merge.count()\n",
        "num_rows\n",
        "\n"
      ],
      "metadata": {
        "colab": {
          "base_uri": "https://localhost:8080/"
        },
        "id": "hIYsYLcm9w4z",
        "outputId": "2c2ebfbc-3f7b-4dd4-a452-1fecac213b11"
      },
      "execution_count": 111,
      "outputs": [
        {
          "output_type": "execute_result",
          "data": {
            "text/plain": [
              "10638"
            ]
          },
          "metadata": {},
          "execution_count": 111
        }
      ]
    },
    {
      "cell_type": "code",
      "source": [
        "csv_file_path =\"/content/drive/MyDrive/Datasets/Project_data/music_data.csv\"\n",
        "\n"
      ],
      "metadata": {
        "id": "hRQM83Fi912q"
      },
      "execution_count": 127,
      "outputs": []
    },
    {
      "cell_type": "code",
      "source": [],
      "metadata": {
        "id": "xccdJ5MQbqgP"
      },
      "execution_count": 127,
      "outputs": []
    },
    {
      "cell_type": "code",
      "source": [
        "df_single_partition = final_merge.coalesce(1)"
      ],
      "metadata": {
        "id": "OfJQxcKLdMBV"
      },
      "execution_count": 128,
      "outputs": []
    },
    {
      "cell_type": "code",
      "source": [
        "df_single_partition.write.csv(csv_file_path, header=True, mode='overwrite')\n"
      ],
      "metadata": {
        "id": "aHA2LVrnihaN"
      },
      "execution_count": 129,
      "outputs": []
    },
    {
      "cell_type": "code",
      "source": [],
      "metadata": {
        "id": "fvWH-eK7iobB"
      },
      "execution_count": null,
      "outputs": []
    }
  ]
}